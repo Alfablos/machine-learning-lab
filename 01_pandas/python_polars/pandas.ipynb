{
 "cells": [
  {
   "cell_type": "code",
   "execution_count": 8,
   "id": "5395daa6-997c-469e-968c-0fe664fd712d",
   "metadata": {
    "jupyter": {
     "is_executing": true
    }
   },
   "outputs": [],
   "source": [
    "import polars as pl\n",
    "import altair"
   ]
  },
  {
   "cell_type": "code",
   "execution_count": 18,
   "id": "c0aea209aea4a841",
   "metadata": {
    "jupyter": {
     "is_executing": true
    }
   },
   "outputs": [
    {
     "data": {
      "text/html": [
       "<div><style>\n",
       ".dataframe > thead > tr,\n",
       ".dataframe > tbody > tr {\n",
       "  text-align: right;\n",
       "  white-space: pre-wrap;\n",
       "}\n",
       "</style>\n",
       "<small>shape: (10, 5)</small><table border=\"1\" class=\"dataframe\"><thead><tr><th>Make</th><th>Colour</th><th>Odometer (KM)</th><th>Doors</th><th>Price</th></tr><tr><td>str</td><td>str</td><td>i64</td><td>i64</td><td>str</td></tr></thead><tbody><tr><td>&quot;Toyota&quot;</td><td>&quot;White&quot;</td><td>150043</td><td>4</td><td>&quot;$4,000.00&quot;</td></tr><tr><td>&quot;Honda&quot;</td><td>&quot;Red&quot;</td><td>87899</td><td>4</td><td>&quot;$5,000.00&quot;</td></tr><tr><td>&quot;Toyota&quot;</td><td>&quot;Blue&quot;</td><td>32549</td><td>3</td><td>&quot;$7,000.00&quot;</td></tr><tr><td>&quot;BMW&quot;</td><td>&quot;Black&quot;</td><td>11179</td><td>5</td><td>&quot;$22,000.00&quot;</td></tr><tr><td>&quot;Nissan&quot;</td><td>&quot;White&quot;</td><td>213095</td><td>4</td><td>&quot;$3,500.00&quot;</td></tr><tr><td>&quot;Toyota&quot;</td><td>&quot;Green&quot;</td><td>99213</td><td>4</td><td>&quot;$4,500.00&quot;</td></tr><tr><td>&quot;Honda&quot;</td><td>&quot;Blue&quot;</td><td>45698</td><td>4</td><td>&quot;$7,500.00&quot;</td></tr><tr><td>&quot;Honda&quot;</td><td>&quot;Blue&quot;</td><td>54738</td><td>4</td><td>&quot;$7,000.00&quot;</td></tr><tr><td>&quot;Toyota&quot;</td><td>&quot;White&quot;</td><td>60000</td><td>4</td><td>&quot;$6,250.00&quot;</td></tr><tr><td>&quot;Nissan&quot;</td><td>&quot;White&quot;</td><td>31600</td><td>4</td><td>&quot;$9,700.00&quot;</td></tr></tbody></table></div>"
      ],
      "text/plain": [
       "shape: (10, 5)\n",
       "┌────────┬────────┬───────────────┬───────┬────────────┐\n",
       "│ Make   ┆ Colour ┆ Odometer (KM) ┆ Doors ┆ Price      │\n",
       "│ ---    ┆ ---    ┆ ---           ┆ ---   ┆ ---        │\n",
       "│ str    ┆ str    ┆ i64           ┆ i64   ┆ str        │\n",
       "╞════════╪════════╪═══════════════╪═══════╪════════════╡\n",
       "│ Toyota ┆ White  ┆ 150043        ┆ 4     ┆ $4,000.00  │\n",
       "│ Honda  ┆ Red    ┆ 87899         ┆ 4     ┆ $5,000.00  │\n",
       "│ Toyota ┆ Blue   ┆ 32549         ┆ 3     ┆ $7,000.00  │\n",
       "│ BMW    ┆ Black  ┆ 11179         ┆ 5     ┆ $22,000.00 │\n",
       "│ Nissan ┆ White  ┆ 213095        ┆ 4     ┆ $3,500.00  │\n",
       "│ Toyota ┆ Green  ┆ 99213         ┆ 4     ┆ $4,500.00  │\n",
       "│ Honda  ┆ Blue   ┆ 45698         ┆ 4     ┆ $7,500.00  │\n",
       "│ Honda  ┆ Blue   ┆ 54738         ┆ 4     ┆ $7,000.00  │\n",
       "│ Toyota ┆ White  ┆ 60000         ┆ 4     ┆ $6,250.00  │\n",
       "│ Nissan ┆ White  ┆ 31600         ┆ 4     ┆ $9,700.00  │\n",
       "└────────┴────────┴───────────────┴───────┴────────────┘"
      ]
     },
     "execution_count": 18,
     "metadata": {},
     "output_type": "execute_result"
    }
   ],
   "source": [
    "car_sales = pl.read_csv('car-sales.csv')\n",
    "car_sales"
   ]
  },
  {
   "cell_type": "code",
   "execution_count": 19,
   "id": "564546ca-e470-4b66-86a5-25ae5a92f09e",
   "metadata": {},
   "outputs": [],
   "source": [
    "# Adds the 'id' column\n",
    "car_sales = car_sales.with_row_index('id')"
   ]
  },
  {
   "cell_type": "code",
   "execution_count": 20,
   "id": "776b54c0-cd8a-4334-81c3-f8cea238a73c",
   "metadata": {},
   "outputs": [
    {
     "data": {
      "text/html": [
       "<div><style>\n",
       ".dataframe > thead > tr,\n",
       ".dataframe > tbody > tr {\n",
       "  text-align: right;\n",
       "  white-space: pre-wrap;\n",
       "}\n",
       "</style>\n",
       "<small>shape: (10, 6)</small><table border=\"1\" class=\"dataframe\"><thead><tr><th>id</th><th>make</th><th>colour</th><th>doors</th><th>odometer_km</th><th>price</th></tr><tr><td>u32</td><td>str</td><td>str</td><td>i64</td><td>i64</td><td>i64</td></tr></thead><tbody><tr><td>0</td><td>&quot;toyota&quot;</td><td>&quot;white&quot;</td><td>4</td><td>150043</td><td>4000</td></tr><tr><td>1</td><td>&quot;honda&quot;</td><td>&quot;red&quot;</td><td>4</td><td>87899</td><td>5000</td></tr><tr><td>2</td><td>&quot;toyota&quot;</td><td>&quot;blue&quot;</td><td>3</td><td>32549</td><td>7000</td></tr><tr><td>3</td><td>&quot;bmw&quot;</td><td>&quot;black&quot;</td><td>5</td><td>11179</td><td>22000</td></tr><tr><td>4</td><td>&quot;nissan&quot;</td><td>&quot;white&quot;</td><td>4</td><td>213095</td><td>3500</td></tr><tr><td>5</td><td>&quot;toyota&quot;</td><td>&quot;green&quot;</td><td>4</td><td>99213</td><td>4500</td></tr><tr><td>6</td><td>&quot;honda&quot;</td><td>&quot;blue&quot;</td><td>4</td><td>45698</td><td>7500</td></tr><tr><td>7</td><td>&quot;honda&quot;</td><td>&quot;blue&quot;</td><td>4</td><td>54738</td><td>7000</td></tr><tr><td>8</td><td>&quot;toyota&quot;</td><td>&quot;white&quot;</td><td>4</td><td>60000</td><td>6250</td></tr><tr><td>9</td><td>&quot;nissan&quot;</td><td>&quot;white&quot;</td><td>4</td><td>31600</td><td>9700</td></tr></tbody></table></div>"
      ],
      "text/plain": [
       "shape: (10, 6)\n",
       "┌─────┬────────┬────────┬───────┬─────────────┬───────┐\n",
       "│ id  ┆ make   ┆ colour ┆ doors ┆ odometer_km ┆ price │\n",
       "│ --- ┆ ---    ┆ ---    ┆ ---   ┆ ---         ┆ ---   │\n",
       "│ u32 ┆ str    ┆ str    ┆ i64   ┆ i64         ┆ i64   │\n",
       "╞═════╪════════╪════════╪═══════╪═════════════╪═══════╡\n",
       "│ 0   ┆ toyota ┆ white  ┆ 4     ┆ 150043      ┆ 4000  │\n",
       "│ 1   ┆ honda  ┆ red    ┆ 4     ┆ 87899       ┆ 5000  │\n",
       "│ 2   ┆ toyota ┆ blue   ┆ 3     ┆ 32549       ┆ 7000  │\n",
       "│ 3   ┆ bmw    ┆ black  ┆ 5     ┆ 11179       ┆ 22000 │\n",
       "│ 4   ┆ nissan ┆ white  ┆ 4     ┆ 213095      ┆ 3500  │\n",
       "│ 5   ┆ toyota ┆ green  ┆ 4     ┆ 99213       ┆ 4500  │\n",
       "│ 6   ┆ honda  ┆ blue   ┆ 4     ┆ 45698       ┆ 7500  │\n",
       "│ 7   ┆ honda  ┆ blue   ┆ 4     ┆ 54738       ┆ 7000  │\n",
       "│ 8   ┆ toyota ┆ white  ┆ 4     ┆ 60000       ┆ 6250  │\n",
       "│ 9   ┆ nissan ┆ white  ┆ 4     ┆ 31600       ┆ 9700  │\n",
       "└─────┴────────┴────────┴───────┴─────────────┴───────┘"
      ]
     },
     "execution_count": 20,
     "metadata": {},
     "output_type": "execute_result"
    }
   ],
   "source": [
    "car_sales = car_sales.select(\n",
    "    pl.col('id'),\n",
    "    # Lowercase for values and column names\n",
    "    pl.col('Make', 'Colour').str.to_lowercase().name.to_lowercase(),\n",
    "    pl.col('Doors').name.to_lowercase(),\n",
    "    pl.col('Odometer (KM)'),\n",
    "    pl.col('Price')\n",
    "        .str.replace_all(r\"\\$|,|...$\", '')\n",
    "        .str.to_integer(base=10)\n",
    "        .name.to_lowercase()\n",
    ")\n",
    "\n",
    "car_sales = car_sales.rename({'Odometer (KM)': 'odometer_km'})\n",
    "car_sales"
   ]
  },
  {
   "cell_type": "code",
   "execution_count": 22,
   "id": "c413663b-e7c9-46f7-8f2e-c319714e8a8b",
   "metadata": {},
   "outputs": [
    {
     "data": {
      "text/html": [
       "\n",
       "<style>\n",
       "  #altair-viz-abbd58f58605470ca64a6eac23dfb0a4.vega-embed {\n",
       "    width: 100%;\n",
       "    display: flex;\n",
       "  }\n",
       "\n",
       "  #altair-viz-abbd58f58605470ca64a6eac23dfb0a4.vega-embed details,\n",
       "  #altair-viz-abbd58f58605470ca64a6eac23dfb0a4.vega-embed details summary {\n",
       "    position: relative;\n",
       "  }\n",
       "</style>\n",
       "<div id=\"altair-viz-abbd58f58605470ca64a6eac23dfb0a4\"></div>\n",
       "<script type=\"text/javascript\">\n",
       "  var VEGA_DEBUG = (typeof VEGA_DEBUG == \"undefined\") ? {} : VEGA_DEBUG;\n",
       "  (function(spec, embedOpt){\n",
       "    let outputDiv = document.currentScript.previousElementSibling;\n",
       "    if (outputDiv.id !== \"altair-viz-abbd58f58605470ca64a6eac23dfb0a4\") {\n",
       "      outputDiv = document.getElementById(\"altair-viz-abbd58f58605470ca64a6eac23dfb0a4\");\n",
       "    }\n",
       "\n",
       "    const paths = {\n",
       "      \"vega\": \"https://cdn.jsdelivr.net/npm/vega@5?noext\",\n",
       "      \"vega-lib\": \"https://cdn.jsdelivr.net/npm/vega-lib?noext\",\n",
       "      \"vega-lite\": \"https://cdn.jsdelivr.net/npm/vega-lite@5.20.1?noext\",\n",
       "      \"vega-embed\": \"https://cdn.jsdelivr.net/npm/vega-embed@6?noext\",\n",
       "    };\n",
       "\n",
       "    function maybeLoadScript(lib, version) {\n",
       "      var key = `${lib.replace(\"-\", \"\")}_version`;\n",
       "      return (VEGA_DEBUG[key] == version) ?\n",
       "        Promise.resolve(paths[lib]) :\n",
       "        new Promise(function(resolve, reject) {\n",
       "          var s = document.createElement('script');\n",
       "          document.getElementsByTagName(\"head\")[0].appendChild(s);\n",
       "          s.async = true;\n",
       "          s.onload = () => {\n",
       "            VEGA_DEBUG[key] = version;\n",
       "            return resolve(paths[lib]);\n",
       "          };\n",
       "          s.onerror = () => reject(`Error loading script: ${paths[lib]}`);\n",
       "          s.src = paths[lib];\n",
       "        });\n",
       "    }\n",
       "\n",
       "    function showError(err) {\n",
       "      outputDiv.innerHTML = `<div class=\"error\" style=\"color:red;\">${err}</div>`;\n",
       "      throw err;\n",
       "    }\n",
       "\n",
       "    function displayChart(vegaEmbed) {\n",
       "      vegaEmbed(outputDiv, spec, embedOpt)\n",
       "        .catch(err => showError(`Javascript Error: ${err.message}<br>This usually means there's a typo in your chart specification. See the javascript console for the full traceback.`));\n",
       "    }\n",
       "\n",
       "    if(typeof define === \"function\" && define.amd) {\n",
       "      requirejs.config({paths});\n",
       "      let deps = [\"vega-embed\"];\n",
       "      require(deps, displayChart, err => showError(`Error loading script: ${err.message}`));\n",
       "    } else {\n",
       "      maybeLoadScript(\"vega\", \"5\")\n",
       "        .then(() => maybeLoadScript(\"vega-lite\", \"5.20.1\"))\n",
       "        .then(() => maybeLoadScript(\"vega-embed\", \"6\"))\n",
       "        .catch(showError)\n",
       "        .then(() => displayChart(vegaEmbed));\n",
       "    }\n",
       "  })({\"config\": {\"view\": {\"continuousWidth\": 300, \"continuousHeight\": 300}, \"axisX\": {\"tickMinStep\": 1}, \"scale\": {\"zero\": false}}, \"data\": {\"name\": \"data-461dbaddc5ffe169e7d86c7ec96ae618\"}, \"mark\": {\"type\": \"point\", \"tooltip\": true}, \"encoding\": {\"color\": {\"field\": \"colour\", \"type\": \"nominal\"}, \"x\": {\"field\": \"id\", \"title\": \"ID\", \"type\": \"quantitative\"}, \"y\": {\"field\": \"price\", \"title\": \"Price\", \"type\": \"quantitative\"}}, \"params\": [{\"name\": \"param_6\", \"select\": {\"type\": \"interval\", \"encodings\": [\"x\", \"y\"]}, \"bind\": \"scales\"}], \"title\": \"Car Sales\", \"width\": 500, \"$schema\": \"https://vega.github.io/schema/vega-lite/v5.20.1.json\", \"datasets\": {\"data-461dbaddc5ffe169e7d86c7ec96ae618\": [{\"id\": 0, \"make\": \"toyota\", \"colour\": \"white\", \"doors\": 4, \"odometer_km\": 150043, \"price\": 4000}, {\"id\": 1, \"make\": \"honda\", \"colour\": \"red\", \"doors\": 4, \"odometer_km\": 87899, \"price\": 5000}, {\"id\": 2, \"make\": \"toyota\", \"colour\": \"blue\", \"doors\": 3, \"odometer_km\": 32549, \"price\": 7000}, {\"id\": 3, \"make\": \"bmw\", \"colour\": \"black\", \"doors\": 5, \"odometer_km\": 11179, \"price\": 22000}, {\"id\": 4, \"make\": \"nissan\", \"colour\": \"white\", \"doors\": 4, \"odometer_km\": 213095, \"price\": 3500}, {\"id\": 5, \"make\": \"toyota\", \"colour\": \"green\", \"doors\": 4, \"odometer_km\": 99213, \"price\": 4500}, {\"id\": 6, \"make\": \"honda\", \"colour\": \"blue\", \"doors\": 4, \"odometer_km\": 45698, \"price\": 7500}, {\"id\": 7, \"make\": \"honda\", \"colour\": \"blue\", \"doors\": 4, \"odometer_km\": 54738, \"price\": 7000}, {\"id\": 8, \"make\": \"toyota\", \"colour\": \"white\", \"doors\": 4, \"odometer_km\": 60000, \"price\": 6250}, {\"id\": 9, \"make\": \"nissan\", \"colour\": \"white\", \"doors\": 4, \"odometer_km\": 31600, \"price\": 9700}]}}, {\"mode\": \"vega-lite\"});\n",
       "</script>"
      ],
      "text/plain": [
       "alt.Chart(...)"
      ]
     },
     "execution_count": 22,
     "metadata": {},
     "output_type": "execute_result"
    }
   ],
   "source": [
    "chart =  (\n",
    "    car_sales.plot.point(\n",
    "        x=\"id\",\n",
    "        y=\"price\",\n",
    "        color=\"colour\",\n",
    "    )\n",
    "    .properties(width=500, title=\"Car Sales\")\n",
    "    .configure_scale(zero=False)\n",
    "    .configure_axisX(tickMinStep=1)\n",
    ")\n",
    "chart.encoding.x.title = \"ID\"\n",
    "chart.encoding.y.title = \"Price\"\n",
    "chart"
   ]
  },
  {
   "cell_type": "code",
   "execution_count": 25,
   "id": "4272db6a-bbdc-4215-97f1-1aad26a70c8e",
   "metadata": {},
   "outputs": [],
   "source": [
    "car_sales.write_csv('car-sales-sanitized.csv')"
   ]
  },
  {
   "cell_type": "code",
   "execution_count": null,
   "id": "7185a021-8466-4c74-8705-4eb6f7ba097d",
   "metadata": {},
   "outputs": [],
   "source": []
  }
 ],
 "metadata": {
  "kernelspec": {
   "display_name": "Python 3 (ipykernel)",
   "language": "python",
   "name": "python3"
  },
  "language_info": {
   "codemirror_mode": {
    "name": "ipython",
    "version": 3
   },
   "file_extension": ".py",
   "mimetype": "text/x-python",
   "name": "python",
   "nbconvert_exporter": "python",
   "pygments_lexer": "ipython3",
   "version": "3.12.11"
  }
 },
 "nbformat": 4,
 "nbformat_minor": 5
}

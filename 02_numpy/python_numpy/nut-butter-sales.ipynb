{
 "cells": [
  {
   "cell_type": "markdown",
   "id": "5a894354-baf4-4004-a0c8-1866f097dc4a",
   "metadata": {},
   "source": [
    "# Nut Butter Sales"
   ]
  },
  {
   "cell_type": "code",
   "execution_count": 1,
   "id": "5cf98d67-1b71-491d-aa2e-27e5af014757",
   "metadata": {},
   "outputs": [],
   "source": [
    "import numpy as np\n",
    "import pandas as pd"
   ]
  },
  {
   "cell_type": "markdown",
   "id": "dd9bb75a-44ba-45e7-b8c7-3ea0332a10f7",
   "metadata": {},
   "source": [
    "## Raw data (arrays)"
   ]
  },
  {
   "cell_type": "code",
   "id": "a5ce3d84-a655-498a-8b1e-06f33e1f15ec",
   "metadata": {
    "jupyter": {
     "is_executing": true
    }
   },
   "source": [
    "sales_by_week = np.array([[2, 7, 1],\n",
    "                          [9, 4, 16],\n",
    "                          [11, 14, 18],\n",
    "                          [13, 13, 16],\n",
    "                          [15,18,9]])\n",
    "sales_by_week"
   ],
   "outputs": [],
   "execution_count": null
  },
  {
   "cell_type": "code",
   "id": "196b68c2-2675-48b0-92ec-f82bf6186b3d",
   "metadata": {
    "jupyter": {
     "is_executing": true
    }
   },
   "source": [
    "sales_by_week.shape"
   ],
   "outputs": [],
   "execution_count": null
  },
  {
   "cell_type": "code",
   "id": "9de00115-2a0e-457c-b7d1-eac5394667ee",
   "metadata": {
    "jupyter": {
     "is_executing": true
    }
   },
   "source": [
    "prices = np.array([10, 8, 12])\n",
    "prices"
   ],
   "outputs": [],
   "execution_count": null
  },
  {
   "cell_type": "code",
   "id": "f57a1878-76a9-4d14-8d02-dd3e5b6f47da",
   "metadata": {
    "jupyter": {
     "is_executing": true
    }
   },
   "source": [
    "prices.shape"
   ],
   "outputs": [],
   "execution_count": null
  },
  {
   "cell_type": "code",
   "id": "5740465b-7d00-478c-8ae2-3ede892f12fa",
   "metadata": {
    "jupyter": {
     "is_executing": true
    }
   },
   "source": [
    "earnings_by_product = sales_by_week.dot(prices)"
   ],
   "outputs": [],
   "execution_count": null
  },
  {
   "cell_type": "markdown",
   "id": "89d61636-5f5a-470d-9b3d-16a96f589e80",
   "metadata": {},
   "source": [
    "## Dataframes"
   ]
  },
  {
   "cell_type": "code",
   "execution_count": 8,
   "id": "8179f352-48be-4436-88dc-cfb6af1b11a4",
   "metadata": {},
   "outputs": [],
   "source": [
    "sales_by_week = pd.DataFrame(data=sales_by_week,\n",
    "                             index=[\"Mon\", \"Tue\", \"Wed\", \"Thu\", \"Fri\"],\n",
    "                             columns=[\"Almond butter\", \"Peanut butter\", \"Cashew btter\"])"
   ]
  },
  {
   "cell_type": "code",
   "execution_count": 10,
   "id": "3cc9914f-1e37-436b-9be9-ade8dabea58a",
   "metadata": {},
   "outputs": [
    {
     "ename": "NameError",
     "evalue": "name 'prices_pd' is not defined",
     "output_type": "error",
     "traceback": [
      "\u001B[31m---------------------------------------------------------------------------\u001B[39m",
      "\u001B[31mNameError\u001B[39m                                 Traceback (most recent call last)",
      "\u001B[36mCell\u001B[39m\u001B[36m \u001B[39m\u001B[32mIn[10]\u001B[39m\u001B[32m, line 1\u001B[39m\n\u001B[32m----> \u001B[39m\u001B[32m1\u001B[39m \u001B[43mprices_pd\u001B[49m\n",
      "\u001B[31mNameError\u001B[39m: name 'prices_pd' is not defined"
     ]
    }
   ],
   "source": [
    "sales_by_week[\"Total ($)\"] = earnings_by_product\n",
    "sales_by_week"
   ]
  },
  {
   "cell_type": "code",
   "execution_count": null,
   "id": "f3db393d-3f4e-4bd5-afde-6b145ca98b73",
   "metadata": {},
   "outputs": [],
   "source": []
  },
  {
   "cell_type": "code",
   "execution_count": null,
   "id": "8a9c90a4-a231-4844-b24e-4e530b4d326f",
   "metadata": {},
   "outputs": [],
   "source": []
  },
  {
   "cell_type": "code",
   "execution_count": null,
   "id": "307cc716-7de9-4e18-ad48-96a0ab7d72b7",
   "metadata": {},
   "outputs": [],
   "source": []
  },
  {
   "cell_type": "code",
   "execution_count": null,
   "id": "02cfb509-383f-46e0-b33d-f29389c35861",
   "metadata": {},
   "outputs": [],
   "source": []
  },
  {
   "cell_type": "code",
   "execution_count": null,
   "id": "9fbdae2b-57a5-4bb4-b55e-ac12ef86bf72",
   "metadata": {},
   "outputs": [],
   "source": []
  },
  {
   "cell_type": "code",
   "execution_count": null,
   "id": "bb870d69-e6eb-4a91-9634-b3164901c5e5",
   "metadata": {},
   "outputs": [],
   "source": []
  },
  {
   "cell_type": "code",
   "execution_count": null,
   "id": "2e592580-2d64-48be-b8b2-13ca71bfb83d",
   "metadata": {},
   "outputs": [],
   "source": []
  },
  {
   "cell_type": "code",
   "execution_count": null,
   "id": "eb1d78d8-e97a-41f2-941b-c5fd5fbcf81d",
   "metadata": {},
   "outputs": [],
   "source": []
  },
  {
   "cell_type": "code",
   "execution_count": null,
   "id": "107e4a99-7b95-4c37-a970-f9e7f9c0a7c4",
   "metadata": {},
   "outputs": [],
   "source": []
  }
 ],
 "metadata": {
  "kernelspec": {
   "display_name": "Python 3 (ipykernel)",
   "language": "python",
   "name": "python3"
  },
  "language_info": {
   "codemirror_mode": {
    "name": "ipython",
    "version": 3
   },
   "file_extension": ".py",
   "mimetype": "text/x-python",
   "name": "python",
   "nbconvert_exporter": "python",
   "pygments_lexer": "ipython3",
   "version": "3.12.11"
  }
 },
 "nbformat": 4,
 "nbformat_minor": 5
}

{
 "cells": [
  {
   "cell_type": "markdown",
   "id": "5a894354-baf4-4004-a0c8-1866f097dc4a",
   "metadata": {},
   "source": [
    "# Nut Butter Sales"
   ]
  },
  {
   "cell_type": "code",
   "execution_count": 1,
   "id": "5cf98d67-1b71-491d-aa2e-27e5af014757",
   "metadata": {},
   "outputs": [],
   "source": [
    "import numpy as np\n",
    "import pandas as pd"
   ]
  },
  {
   "cell_type": "markdown",
   "id": "dd9bb75a-44ba-45e7-b8c7-3ea0332a10f7",
   "metadata": {},
   "source": [
    "## Raw data (arrays)"
   ]
  },
  {
   "cell_type": "code",
   "execution_count": 2,
   "id": "a5ce3d84-a655-498a-8b1e-06f33e1f15ec",
   "metadata": {
    "jupyter": {
     "is_executing": true
    }
   },
   "outputs": [
    {
     "data": {
      "text/plain": [
       "array([[ 2,  7,  1],\n",
       "       [ 9,  4, 16],\n",
       "       [11, 14, 18],\n",
       "       [13, 13, 16],\n",
       "       [15, 18,  9]])"
      ]
     },
     "execution_count": 2,
     "metadata": {},
     "output_type": "execute_result"
    }
   ],
   "source": [
    "sales_by_week = np.array([[2, 7, 1],\n",
    "                          [9, 4, 16],\n",
    "                          [11, 14, 18],\n",
    "                          [13, 13, 16],\n",
    "                          [15,18,9]])\n",
    "sales_by_week"
   ]
  },
  {
   "cell_type": "code",
   "execution_count": 3,
   "id": "196b68c2-2675-48b0-92ec-f82bf6186b3d",
   "metadata": {
    "jupyter": {
     "is_executing": true
    }
   },
   "outputs": [
    {
     "data": {
      "text/plain": [
       "(5, 3)"
      ]
     },
     "execution_count": 3,
     "metadata": {},
     "output_type": "execute_result"
    }
   ],
   "source": [
    "sales_by_week.shape"
   ]
  },
  {
   "cell_type": "code",
   "execution_count": 4,
   "id": "9de00115-2a0e-457c-b7d1-eac5394667ee",
   "metadata": {
    "jupyter": {
     "is_executing": true
    }
   },
   "outputs": [
    {
     "data": {
      "text/plain": [
       "array([10,  8, 12])"
      ]
     },
     "execution_count": 4,
     "metadata": {},
     "output_type": "execute_result"
    }
   ],
   "source": [
    "prices = np.array([10, 8, 12])\n",
    "prices"
   ]
  },
  {
   "cell_type": "code",
   "execution_count": 5,
   "id": "f57a1878-76a9-4d14-8d02-dd3e5b6f47da",
   "metadata": {
    "jupyter": {
     "is_executing": true
    }
   },
   "outputs": [
    {
     "data": {
      "text/plain": [
       "(3,)"
      ]
     },
     "execution_count": 5,
     "metadata": {},
     "output_type": "execute_result"
    }
   ],
   "source": [
    "prices.shape"
   ]
  },
  {
   "cell_type": "code",
   "execution_count": 6,
   "id": "5740465b-7d00-478c-8ae2-3ede892f12fa",
   "metadata": {
    "jupyter": {
     "is_executing": true
    }
   },
   "outputs": [],
   "source": [
    "earnings_by_product = sales_by_week.dot(prices)"
   ]
  },
  {
   "cell_type": "markdown",
   "id": "89d61636-5f5a-470d-9b3d-16a96f589e80",
   "metadata": {},
   "source": [
    "## Dataframes"
   ]
  },
  {
   "cell_type": "code",
   "execution_count": 7,
   "id": "8179f352-48be-4436-88dc-cfb6af1b11a4",
   "metadata": {},
   "outputs": [],
   "source": [
    "sales_by_week = pd.DataFrame(data=sales_by_week,\n",
    "                             index=[\"Mon\", \"Tue\", \"Wed\", \"Thu\", \"Fri\"],\n",
    "                             columns=[\"Almond butter\", \"Peanut butter\", \"Cashew btter\"])"
   ]
  },
  {
   "cell_type": "code",
   "execution_count": 8,
   "id": "3cc9914f-1e37-436b-9be9-ade8dabea58a",
   "metadata": {},
   "outputs": [
    {
     "data": {
      "text/html": [
       "<div>\n",
       "<style scoped>\n",
       "    .dataframe tbody tr th:only-of-type {\n",
       "        vertical-align: middle;\n",
       "    }\n",
       "\n",
       "    .dataframe tbody tr th {\n",
       "        vertical-align: top;\n",
       "    }\n",
       "\n",
       "    .dataframe thead th {\n",
       "        text-align: right;\n",
       "    }\n",
       "</style>\n",
       "<table border=\"1\" class=\"dataframe\">\n",
       "  <thead>\n",
       "    <tr style=\"text-align: right;\">\n",
       "      <th></th>\n",
       "      <th>Almond butter</th>\n",
       "      <th>Peanut butter</th>\n",
       "      <th>Cashew btter</th>\n",
       "      <th>Total ($)</th>\n",
       "    </tr>\n",
       "  </thead>\n",
       "  <tbody>\n",
       "    <tr>\n",
       "      <th>Mon</th>\n",
       "      <td>2</td>\n",
       "      <td>7</td>\n",
       "      <td>1</td>\n",
       "      <td>88</td>\n",
       "    </tr>\n",
       "    <tr>\n",
       "      <th>Tue</th>\n",
       "      <td>9</td>\n",
       "      <td>4</td>\n",
       "      <td>16</td>\n",
       "      <td>314</td>\n",
       "    </tr>\n",
       "    <tr>\n",
       "      <th>Wed</th>\n",
       "      <td>11</td>\n",
       "      <td>14</td>\n",
       "      <td>18</td>\n",
       "      <td>438</td>\n",
       "    </tr>\n",
       "    <tr>\n",
       "      <th>Thu</th>\n",
       "      <td>13</td>\n",
       "      <td>13</td>\n",
       "      <td>16</td>\n",
       "      <td>426</td>\n",
       "    </tr>\n",
       "    <tr>\n",
       "      <th>Fri</th>\n",
       "      <td>15</td>\n",
       "      <td>18</td>\n",
       "      <td>9</td>\n",
       "      <td>402</td>\n",
       "    </tr>\n",
       "  </tbody>\n",
       "</table>\n",
       "</div>"
      ],
      "text/plain": [
       "     Almond butter  Peanut butter  Cashew btter  Total ($)\n",
       "Mon              2              7             1         88\n",
       "Tue              9              4            16        314\n",
       "Wed             11             14            18        438\n",
       "Thu             13             13            16        426\n",
       "Fri             15             18             9        402"
      ]
     },
     "execution_count": 8,
     "metadata": {},
     "output_type": "execute_result"
    }
   ],
   "source": [
    "sales_by_week[\"Total ($)\"] = earnings_by_product\n",
    "sales_by_week"
   ]
  },
  {
   "cell_type": "code",
   "execution_count": null,
   "id": "f3db393d-3f4e-4bd5-afde-6b145ca98b73",
   "metadata": {},
   "outputs": [],
   "source": []
  },
  {
   "cell_type": "code",
   "execution_count": null,
   "id": "8a9c90a4-a231-4844-b24e-4e530b4d326f",
   "metadata": {},
   "outputs": [],
   "source": []
  },
  {
   "cell_type": "code",
   "execution_count": null,
   "id": "307cc716-7de9-4e18-ad48-96a0ab7d72b7",
   "metadata": {},
   "outputs": [],
   "source": []
  },
  {
   "cell_type": "code",
   "execution_count": null,
   "id": "02cfb509-383f-46e0-b33d-f29389c35861",
   "metadata": {},
   "outputs": [],
   "source": []
  },
  {
   "cell_type": "code",
   "execution_count": null,
   "id": "9fbdae2b-57a5-4bb4-b55e-ac12ef86bf72",
   "metadata": {},
   "outputs": [],
   "source": []
  },
  {
   "cell_type": "code",
   "execution_count": null,
   "id": "bb870d69-e6eb-4a91-9634-b3164901c5e5",
   "metadata": {},
   "outputs": [],
   "source": []
  },
  {
   "cell_type": "code",
   "execution_count": null,
   "id": "2e592580-2d64-48be-b8b2-13ca71bfb83d",
   "metadata": {},
   "outputs": [],
   "source": []
  },
  {
   "cell_type": "code",
   "execution_count": null,
   "id": "eb1d78d8-e97a-41f2-941b-c5fd5fbcf81d",
   "metadata": {},
   "outputs": [],
   "source": []
  },
  {
   "cell_type": "code",
   "execution_count": null,
   "id": "107e4a99-7b95-4c37-a970-f9e7f9c0a7c4",
   "metadata": {},
   "outputs": [],
   "source": []
  }
 ],
 "metadata": {
  "kernelspec": {
   "display_name": "Python 3 (ipykernel)",
   "language": "python",
   "name": "python3"
  },
  "language_info": {
   "codemirror_mode": {
    "name": "ipython",
    "version": 3
   },
   "file_extension": ".py",
   "mimetype": "text/x-python",
   "name": "python",
   "nbconvert_exporter": "python",
   "pygments_lexer": "ipython3",
   "version": "3.12.11"
  }
 },
 "nbformat": 4,
 "nbformat_minor": 5
}

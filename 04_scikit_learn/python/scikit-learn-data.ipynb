{
 "cells": [
  {
   "cell_type": "code",
   "execution_count": 2,
   "id": "9e2ce440-a8b2-4e16-83b9-caf14849c1a0",
   "metadata": {},
   "outputs": [],
   "source": [
    "import pandas as pd\n",
    "from sklearn.ensemble import RandomForestRegressor\n",
    "from sklearn.model_selection import train_test_split\n",
    "from sklearn.metrics import classification_report, confusion_matrix, accuracy_score\n",
    "import cupy as cp\n",
    "import pickle"
   ]
  },
  {
   "cell_type": "markdown",
   "id": "99669200-38f5-46bf-983a-d1f0d0215908",
   "metadata": {},
   "source": [
    "# Data preprocessing\n",
    "Clean => Transform => Reduce\n",
    "1. Spliting into features (`X`) and labels (`y`)\n",
    "2. Handling missing data: fill (`imputation`) or discard.\n",
    "3. Feature encoding (converting non-numerical values to numerical ones)"
   ]
  },
  {
   "cell_type": "code",
   "execution_count": 3,
   "id": "860fe452-f8a1-4e7b-aff3-fc60900a2369",
   "metadata": {},
   "outputs": [
    {
     "data": {
      "text/plain": [
       "Make             49\n",
       "Colour           50\n",
       "Odometer (KM)    50\n",
       "Doors            50\n",
       "Price            50\n",
       "dtype: int64"
      ]
     },
     "execution_count": 3,
     "metadata": {},
     "output_type": "execute_result"
    }
   ],
   "source": [
    "sales = pd.read_csv('./car-sales-extended-missing-data.csv')\n",
    "sales.isna().sum()    # Shows how many rows are missing data for each feature"
   ]
  },
  {
   "cell_type": "markdown",
   "id": "c3ffedbd-6fc9-45e0-ad72-62bdfcf6a05a",
   "metadata": {},
   "source": [
    "## Handling missing data"
   ]
  },
  {
   "cell_type": "markdown",
   "id": "0d7b4347-53c9-494c-b7c0-6ecbf2393d5c",
   "metadata": {},
   "source": [
    "### Either fill wid pandas..."
   ]
  },
  {
   "cell_type": "code",
   "execution_count": 4,
   "id": "1825df12-19d7-4e13-92f0-14f9d39cbd28",
   "metadata": {},
   "outputs": [
    {
     "data": {
      "text/plain": [
       "Make             0\n",
       "Colour           0\n",
       "Odometer (KM)    0\n",
       "Doors            0\n",
       "Price            0\n",
       "dtype: int64"
      ]
     },
     "execution_count": 4,
     "metadata": {},
     "output_type": "execute_result"
    }
   ],
   "source": [
    "# Fill columns\n",
    "\n",
    "# FutureWarning: A value is trying to be set on a copy of a DataFrame or Series through chained assignment using an inplace method.\n",
    "# The behavior will change in pandas 3.0. This inplace method will never work because the intermediate object on which we are setting values always behaves as a copy.\n",
    "\n",
    "# For example, when doing 'df[col].method(value, inplace=True)',\n",
    "# try using 'df.method({col: value}, inplace=True)'\n",
    "# or df[col] = df[col].method(value) instead,\n",
    "# to perform the operation inplace on the original object.\n",
    "\n",
    "\n",
    "sales.fillna({'Make': 'missing'}, inplace=True)\n",
    "sales.fillna({'Colour': 'missing'}, inplace=True)\n",
    "sales.fillna({'Odometer (KM)': sales['Odometer (KM)'].mean()}, inplace=True)\n",
    "sales.fillna({'Doors': 4}, inplace=True)\n",
    "# sales.fillna({'Price': sales['Price'].mean()}, inplace=True)\n",
    "# sales.dropna(subset=['Price'] inplace=True)\n",
    "sales.dropna(inplace=True)    # Same as previous line because at this point all other columns do not contain missing values\n",
    "sales.isna().sum()"
   ]
  },
  {
   "cell_type": "code",
   "execution_count": 5,
   "id": "1e2add52-f5f6-487b-a077-3c3eda46e4b0",
   "metadata": {},
   "outputs": [],
   "source": [
    "X = sales.drop('Price', axis=1)"
   ]
  },
  {
   "cell_type": "code",
   "execution_count": 6,
   "id": "89e1ec40-5853-4ff6-854a-da00d2529be4",
   "metadata": {},
   "outputs": [],
   "source": [
    "y = sales['Price']"
   ]
  },
  {
   "cell_type": "markdown",
   "id": "407c1e1d-23d6-4d16-898a-d5c7d680d567",
   "metadata": {},
   "source": [
    "### ... or using Scikit-Learn"
   ]
  },
  {
   "cell_type": "code",
   "execution_count": 7,
   "id": "9ead1a81-efa3-47bc-943a-953309c624da",
   "metadata": {},
   "outputs": [
    {
     "data": {
      "text/plain": [
       "Make             49\n",
       "Colour           50\n",
       "Odometer (KM)    50\n",
       "Doors            50\n",
       "Price            50\n",
       "dtype: int64"
      ]
     },
     "execution_count": 7,
     "metadata": {},
     "output_type": "execute_result"
    }
   ],
   "source": [
    "sales = pd.read_csv('./car-sales-extended-missing-data.csv')\n",
    "sales.isna().sum()"
   ]
  },
  {
   "cell_type": "code",
   "execution_count": 8,
   "id": "ae41b8eb-46e9-4e68-a34c-170c47a07b2d",
   "metadata": {},
   "outputs": [
    {
     "data": {
      "text/plain": [
       "Make             47\n",
       "Colour           46\n",
       "Odometer (KM)    48\n",
       "Doors            47\n",
       "Price             0\n",
       "dtype: int64"
      ]
     },
     "execution_count": 8,
     "metadata": {},
     "output_type": "execute_result"
    }
   ],
   "source": [
    "sales.dropna(subset=['Price'], inplace=True)\n",
    "sales.isna().sum()"
   ]
  },
  {
   "cell_type": "code",
   "execution_count": 9,
   "id": "1e90542d-36c8-44e9-a99c-127b5d57e469",
   "metadata": {},
   "outputs": [],
   "source": [
    "from sklearn.impute import SimpleImputer\n",
    "from sklearn.compose import ColumnTransformer"
   ]
  },
  {
   "cell_type": "code",
   "execution_count": 15,
   "id": "ed827a26-37eb-4c67-ad35-ecb91237b6cb",
   "metadata": {},
   "outputs": [],
   "source": [
    "X = sales.drop('Price', axis=1)\n",
    "y = sales['Price']\n",
    "\n",
    "# Fill categorical values with 'missing' & numerical values with mean\n",
    "categorical_imputer = SimpleImputer(strategy='constant', fill_value='missing')\n",
    "door_imputer = SimpleImputer(strategy='constant', fill_value=4)\n",
    "num_imputer = SimpleImputer(strategy='mean')\n",
    "\n",
    "categorical_features = ['Make', 'Colour']\n",
    "doors_features = ['Doors']\n",
    "num_features = ['Odometer (KM)']\n",
    "\n",
    "# create an imputer\n",
    "preprocessor = ColumnTransformer([\n",
    "    ('cat_imputer', categorical_imputer, categorical_features),\n",
    "    ('door_imputer', door_imputer, doors_features),\n",
    "    ('num_imputer', num_imputer, num_features)\n",
    "])\n",
    "\n",
    "# Transform the data\n",
    "filled_X = preprocessor.fit_transform(X)\n",
    "\n",
    "X = pd.DataFrame(filled_X,\n",
    "            columns=['Make', 'Colour', 'Doors', 'Odometer (KM)'])\n",
    "\n",
    "y = y\n"
   ]
  },
  {
   "cell_type": "markdown",
   "id": "0affaad5-b765-4428-8340-e0ab94f4c888",
   "metadata": {},
   "source": [
    "## Splitting data"
   ]
  },
  {
   "cell_type": "markdown",
   "id": "b432b062-a439-4a9f-b05b-f24fe5a5a475",
   "metadata": {},
   "source": [
    "## Feature encoding"
   ]
  },
  {
   "cell_type": "code",
   "execution_count": 12,
   "id": "a6b0eca0-db6f-4db5-8f69-7107e7bc2ddc",
   "metadata": {},
   "outputs": [],
   "source": [
    "from sklearn.preprocessing import OneHotEncoder\n",
    "from sklearn.compose import ColumnTransformer\n",
    "from sklearn.model_selection import train_test_split"
   ]
  },
  {
   "cell_type": "code",
   "execution_count": 13,
   "id": "5061df4b-afce-493a-ae3c-1441029c3916",
   "metadata": {},
   "outputs": [],
   "source": [
    "categorical_features = ['Make', 'Colour', 'Doors']\n",
    "\n",
    "# Doors, while being an int/float, is categorical because in the dataset we have only the values 5, 4 or 3\n",
    "sales['Doors'].value_counts()\n",
    "\n",
    "one_hot = OneHotEncoder()\n",
    "transformer = ColumnTransformer([('one_hot', one_hot, categorical_features)], remainder='passthrough')"
   ]
  },
  {
   "cell_type": "code",
   "execution_count": 9,
   "id": "3dab03c2-283b-4b06-bd6d-1efde3ad6b29",
   "metadata": {},
   "outputs": [
    {
     "data": {
      "text/plain": [
       "Make             0\n",
       "Colour           0\n",
       "Doors            0\n",
       "Odometer (KM)    0\n",
       "dtype: int64"
      ]
     },
     "execution_count": 9,
     "metadata": {},
     "output_type": "execute_result"
    }
   ],
   "source": [
    "X.isna().sum()"
   ]
  },
  {
   "cell_type": "code",
   "execution_count": 10,
   "id": "464ac94f-dc9b-4054-a5e3-95fb60dc04c5",
   "metadata": {},
   "outputs": [
    {
     "data": {
      "text/plain": [
       "(950, 1)"
      ]
     },
     "execution_count": 10,
     "metadata": {},
     "output_type": "execute_result"
    }
   ],
   "source": [
    "transformed_X = transformer.fit_transform(X)\n",
    "pd.DataFrame(transformed_X).shape"
   ]
  },
  {
   "cell_type": "code",
   "execution_count": 11,
   "id": "d93b98b4-19f6-4505-9b05-e766119c5791",
   "metadata": {},
   "outputs": [],
   "source": [
    "X_train, X_test, y_train, y_test = train_test_split(transformed_X, y, test_size=0.2)"
   ]
  },
  {
   "cell_type": "code",
   "execution_count": 12,
   "id": "1a0c74e4-a630-44d3-9894-4f25b6cf523b",
   "metadata": {},
   "outputs": [
    {
     "name": "stdout",
     "output_type": "stream",
     "text": [
      "X_train shape: (760, 15)\n",
      "X_test shape: (190, 15)\n",
      "y_train shape: (760,)\n",
      "y_test shape: (190,)\n"
     ]
    }
   ],
   "source": [
    "print(f'X_train shape: {X_train.shape}')\n",
    "print(f'X_test shape: {X_test.shape}')\n",
    "print(f'y_train shape: {y_train.shape}')\n",
    "print(f'y_test shape: {y_test.shape}')"
   ]
  },
  {
   "cell_type": "markdown",
   "id": "d58e69ab-cce2-46d9-850f-484f2c8b5a76",
   "metadata": {},
   "source": [
    "### Using a pipeline"
   ]
  },
  {
   "cell_type": "code",
   "execution_count": 21,
   "id": "3fd01d69-757f-4a34-992d-4b2d06a5fdbe",
   "metadata": {},
   "outputs": [
    {
     "data": {
      "text/plain": [
       "0.3604853760243467"
      ]
     },
     "execution_count": 21,
     "metadata": {},
     "output_type": "execute_result"
    }
   ],
   "source": [
    "from sklearn.pipeline import Pipeline\n",
    "\n",
    "one_hot_enc = OneHotEncoder(handle_unknown='ignore')\n",
    "\n",
    "categorical_transformer = Pipeline(steps=[\n",
    "    ('fill_missing_values', categorical_imputer),\n",
    "    ('feature_encoding', one_hot_enc)\n",
    "])\n",
    "\n",
    "door_transformer = Pipeline(steps=[\n",
    "    ('fill_missing_values', door_imputer),\n",
    "])\n",
    "\n",
    "numeric_transformer = Pipeline(steps=[\n",
    "    ('fill_missing_values', num_imputer)\n",
    "])\n",
    "\n",
    "preprocessor = ColumnTransformer(transformers=[\n",
    "    ('categorical', categorical_transformer, categorical_features),\n",
    "    ('door', door_transformer, doors_features),\n",
    "    ('numerical', numeric_transformer, num_features)\n",
    "])\n",
    "\n",
    "reg = RandomForestRegressor()\n",
    "\n",
    "# Preprocessing and modeling pipeline\n",
    "model = Pipeline(steps=[\n",
    "    ('preprocessing', preprocessor),\n",
    "    ('model', reg)\n",
    "])\n",
    "\n",
    "X_train, X_test, y_train, y_test = train_test_split(X, y, test_size=0.2)\n",
    "\n",
    "\n",
    "model.fit(X_train, y_train)\n",
    "model.score(X_test, y_test)"
   ]
  },
  {
   "cell_type": "markdown",
   "id": "c58a14d7-594b-4940-972a-567df657a714",
   "metadata": {},
   "source": [
    "# Fitting the model"
   ]
  },
  {
   "cell_type": "code",
   "execution_count": 13,
   "id": "1e2cee30-8e54-456d-88bd-991dbcd2b737",
   "metadata": {},
   "outputs": [
    {
     "data": {
      "text/plain": [
       "0.3159162394578"
      ]
     },
     "execution_count": 13,
     "metadata": {},
     "output_type": "execute_result"
    }
   ],
   "source": [
    "cp.random.seed(0)\n",
    "\n",
    "model = RandomForestRegressor()\n",
    "model_params = model.get_params()\n",
    "n_estimators = model_params['n_estimators']\n",
    "\n",
    "model.fit(X_train, y_train)\n",
    "score = model.score(X_test, y_test)\n",
    "score"
   ]
  },
  {
   "cell_type": "code",
   "execution_count": 14,
   "id": "0c5dbdf6-394e-4625-9547-33007db8db55",
   "metadata": {},
   "outputs": [
    {
     "name": "stdout",
     "output_type": "stream",
     "text": [
      "Trying 1 estimators...\n",
      "local_score: -0.24343230280124017\n",
      "Trying 11 estimators...\n",
      "local_score: 0.23728812929282905\n",
      "Trying 21 estimators...\n",
      "local_score: 0.318281110545404\n",
      "Obtained better score (0.318281110545404) with 21 estimators\n",
      "Trying 31 estimators...\n",
      "local_score: 0.32136167475523736\n",
      "Obtained better score (0.32136167475523736) with 31 estimators\n",
      "Trying 41 estimators...\n",
      "local_score: 0.3198768661056357\n",
      "Trying 51 estimators...\n",
      "local_score: 0.3082695962998957\n",
      "Trying 61 estimators...\n",
      "local_score: 0.31301893686629934\n",
      "Trying 71 estimators...\n",
      "local_score: 0.32143013960988465\n",
      "Obtained better score (0.32143013960988465) with 71 estimators\n",
      "Trying 81 estimators...\n",
      "local_score: 0.3171072007142496\n",
      "Trying 91 estimators...\n",
      "local_score: 0.318359780593364\n",
      "Trying 101 estimators...\n",
      "local_score: 0.2990279259441113\n",
      "Trying 111 estimators...\n",
      "local_score: 0.31186079453951665\n",
      "Trying 121 estimators...\n",
      "local_score: 0.3040813619262749\n",
      "Trying 131 estimators...\n",
      "local_score: 0.31482108090351935\n",
      "Trying 141 estimators...\n",
      "local_score: 0.3010462827979584\n"
     ]
    }
   ],
   "source": [
    "for val in range(1, 151, 10):\n",
    "    global n_estimators\n",
    "    global score\n",
    "    \n",
    "    if val == model_params['n_estimators']:\n",
    "        continue\n",
    "    print(f'Trying {val} estimators...')\n",
    "    local_model = RandomForestRegressor(n_estimators=val)\n",
    "    local_model.fit(X_train, y_train)\n",
    "    local_score = local_model.score(X_test, y_test)\n",
    "\n",
    "    print(f'local_score: {local_score}')\n",
    "    \n",
    "    if local_score > score:\n",
    "        # replace the n_estimator value\n",
    "        n_estimators = val\n",
    "        score = local_score\n",
    "        print(f'Obtained better score ({local_score}) with {n_estimators} estimators')"
   ]
  },
  {
   "cell_type": "code",
   "execution_count": 15,
   "id": "a3d3b93d-5fef-4df3-8de9-7861c9ccb32b",
   "metadata": {},
   "outputs": [
    {
     "name": "stdout",
     "output_type": "stream",
     "text": [
      "71\n",
      "0.32143013960988465\n"
     ]
    },
    {
     "data": {
      "text/plain": [
       "0.31361814938861843"
      ]
     },
     "execution_count": 15,
     "metadata": {},
     "output_type": "execute_result"
    }
   ],
   "source": [
    "print(n_estimators)\n",
    "new_model = RandomForestRegressor(n_estimators=n_estimators)\n",
    "new_model.fit(X_train, y_train)\n",
    "print(score)\n",
    "score = new_model.score(X_test, y_test)\n",
    "score"
   ]
  },
  {
   "cell_type": "code",
   "execution_count": null,
   "id": "e5c63e7a-f04a-41e4-b39c-3d215721e21a",
   "metadata": {},
   "outputs": [],
   "source": []
  },
  {
   "cell_type": "code",
   "execution_count": null,
   "id": "88239978-42e2-4844-9e8d-ff7f01ecab03",
   "metadata": {},
   "outputs": [],
   "source": []
  },
  {
   "cell_type": "code",
   "execution_count": null,
   "id": "1c1b5d6c-7e6d-4b27-ad5e-3ac7e657c149",
   "metadata": {},
   "outputs": [],
   "source": []
  }
 ],
 "metadata": {
  "kernelspec": {
   "display_name": "Python 3 (ipykernel)",
   "language": "python",
   "name": "python3"
  },
  "language_info": {
   "codemirror_mode": {
    "name": "ipython",
    "version": 3
   },
   "file_extension": ".py",
   "mimetype": "text/x-python",
   "name": "python",
   "nbconvert_exporter": "python",
   "pygments_lexer": "ipython3",
   "version": "3.12.9"
  }
 },
 "nbformat": 4,
 "nbformat_minor": 5
}

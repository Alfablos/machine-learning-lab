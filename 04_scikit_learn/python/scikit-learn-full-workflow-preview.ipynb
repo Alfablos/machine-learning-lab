{
 "cells": [
  {
   "cell_type": "code",
   "execution_count": 16,
   "id": "f1ef61ef-6ff3-4cfb-a539-9b4b85f836f7",
   "metadata": {},
   "outputs": [],
   "source": [
    "#!conda install -y numpy matplotlib pandas ipympl scikit-learn    # not needed if running in nix shell or docker with docker.io/cschranz/gpu-jupyter:v1.9_cuda-12.6_ubuntu-24.04_python-only\n",
    "!pip install numpy matplotlib pandas ipympl scikit-learn"
   ]
  },
  {
   "cell_type": "code",
   "execution_count": 1,
   "id": "3e8bafe1-1408-427b-a1ec-4ed333c77630",
   "metadata": {},
   "outputs": [
    {
     "name": "stdout",
     "output_type": "stream",
     "text": [
      "Looking in indexes: https://pypi.org/simple, https://pypi.ngc.nvidia.com\n",
      "Collecting cupy-cuda12x\n",
      "  Downloading cupy_cuda12x-13.6.0-cp312-cp312-manylinux2014_x86_64.whl.metadata (2.4 kB)\n",
      "Collecting cutensor-cu12\n",
      "  Downloading cutensor_cu12-2.3.0-py3-none-manylinux2014_x86_64.whl.metadata (2.2 kB)\n",
      "Requirement already satisfied: nvidia-nccl-cu12 in /opt/conda/lib/python3.12/site-packages (2.21.5)\n",
      "Requirement already satisfied: numpy<2.6,>=1.22 in /opt/conda/lib/python3.12/site-packages (from cupy-cuda12x) (2.0.2)\n",
      "Collecting fastrlock>=0.5 (from cupy-cuda12x)\n",
      "  Downloading fastrlock-0.8.3-cp312-cp312-manylinux_2_5_x86_64.manylinux1_x86_64.manylinux_2_28_x86_64.whl.metadata (7.7 kB)\n",
      "Downloading cupy_cuda12x-13.6.0-cp312-cp312-manylinux2014_x86_64.whl (112.9 MB)\n",
      "\u001b[2K   \u001b[90m━━━━━━━━━━━━━━━━━━━━━━━━━━━━━━━━━━━━━━━━\u001b[0m \u001b[32m112.9/112.9 MB\u001b[0m \u001b[31m90.7 MB/s\u001b[0m eta \u001b[36m0:00:00\u001b[0ma \u001b[36m0:00:01\u001b[0m\n",
      "\u001b[?25hDownloading cutensor_cu12-2.3.0-py3-none-manylinux2014_x86_64.whl (237.1 MB)\n",
      "\u001b[2K   \u001b[90m━━━━━━━━━━━━━━━━━━━━━━━━━━━━━━━━━━━━━━━━\u001b[0m \u001b[32m237.1/237.1 MB\u001b[0m \u001b[31m92.9 MB/s\u001b[0m eta \u001b[36m0:00:00\u001b[0ma \u001b[36m0:00:01\u001b[0m\n",
      "\u001b[?25hDownloading fastrlock-0.8.3-cp312-cp312-manylinux_2_5_x86_64.manylinux1_x86_64.manylinux_2_28_x86_64.whl (53 kB)\n",
      "Installing collected packages: fastrlock, cutensor-cu12, cupy-cuda12x\n",
      "Successfully installed cupy-cuda12x-13.6.0 cutensor-cu12-2.3.0 fastrlock-0.8.3\n"
     ]
    }
   ],
   "source": [
    "# use cupy instead of numpy, for GPU offload\n",
    "#!conda install -y -c conda-forge cupy cutensor nccl\n",
    "!pip install cupy-cuda12x cutensor-cu12 nvidia-nccl-cu12\n"
   ]
  },
  {
   "cell_type": "markdown",
   "id": "fcdaee74-6e5c-4a72-84d0-5feaeef742c9",
   "metadata": {},
   "source": [
    "# Whole workflow"
   ]
  },
  {
   "cell_type": "code",
   "execution_count": 2,
   "id": "ef311024-9b8b-4615-921d-3889d0733ead",
   "metadata": {},
   "outputs": [],
   "source": [
    "import pandas as pd\n",
    "from sklearn.ensemble import RandomForestClassifier\n",
    "from sklearn.model_selection import train_test_split\n",
    "from sklearn.metrics import classification_report, confusion_matrix, accuracy_score\n",
    "import cupy as cp\n",
    "import pickle"
   ]
  },
  {
   "cell_type": "code",
   "execution_count": 3,
   "id": "e4170f96-dfa5-4214-8de3-e53b94d914a2",
   "metadata": {},
   "outputs": [],
   "source": [
    "hd = pd.read_csv('./heart-disease.csv')"
   ]
  },
  {
   "cell_type": "code",
   "execution_count": 4,
   "id": "d2ad07d3-95e3-47d3-91d7-675e1625f579",
   "metadata": {},
   "outputs": [],
   "source": [
    "# Features matrix (x)\n",
    "x = hd.drop('target', axis=1)\n",
    "\n",
    "# Labels matrix (y)\n",
    "y = hd['target']"
   ]
  },
  {
   "cell_type": "markdown",
   "id": "0fd8b6d6-3865-4bf0-9698-7ea873b93a8a",
   "metadata": {},
   "source": [
    "## Alogrithm selection"
   ]
  },
  {
   "cell_type": "code",
   "execution_count": 5,
   "id": "48510a13-e354-46e2-b404-5787de0f9360",
   "metadata": {},
   "outputs": [
    {
     "data": {
      "text/plain": [
       "{'bootstrap': True,\n",
       " 'ccp_alpha': 0.0,\n",
       " 'class_weight': None,\n",
       " 'criterion': 'gini',\n",
       " 'max_depth': None,\n",
       " 'max_features': 'sqrt',\n",
       " 'max_leaf_nodes': None,\n",
       " 'max_samples': None,\n",
       " 'min_impurity_decrease': 0.0,\n",
       " 'min_samples_leaf': 1,\n",
       " 'min_samples_split': 2,\n",
       " 'min_weight_fraction_leaf': 0.0,\n",
       " 'monotonic_cst': None,\n",
       " 'n_estimators': 100,\n",
       " 'n_jobs': None,\n",
       " 'oob_score': False,\n",
       " 'random_state': None,\n",
       " 'verbose': 0,\n",
       " 'warm_start': False}"
      ]
     },
     "execution_count": 5,
     "metadata": {},
     "output_type": "execute_result"
    }
   ],
   "source": [
    "clf = RandomForestClassifier() # keeping the default hyperparameters\n",
    "clf.get_params()\n"
   ]
  },
  {
   "cell_type": "code",
   "execution_count": 6,
   "id": "3c3c18ff-1543-4d4a-9561-892a4837c08f",
   "metadata": {},
   "outputs": [],
   "source": [
    "# Fitting the model to the data\n",
    "x_train, x_test, y_train, y_test = train_test_split(x, y, test_size=0.2)  # 20% will be used for testing while 80% for training"
   ]
  },
  {
   "cell_type": "code",
   "execution_count": 7,
   "id": "abc9115d-02b4-47e0-a5df-ae8ebd0598db",
   "metadata": {},
   "outputs": [],
   "source": [
    "clf.fit(x_train, y_train);"
   ]
  },
  {
   "cell_type": "code",
   "execution_count": 8,
   "id": "b775ae3a-7031-4737-b7e1-4f79f60be78e",
   "metadata": {},
   "outputs": [
    {
     "name": "stdout",
     "output_type": "stream",
     "text": [
      "Preds:\n",
      "[1 0 1 1 0 0 1 1 0 1 0 0 0 1 0 1 1 0 0 0 0 0 1 0 0 0 0 1 1 1 0 1 1 1 1 0 1\n",
      " 0 0 0 0 0 0 0 0 1 0 1 0 1 0 1 0 0 1 1 1 1 1 0 1]\n",
      "\n",
      "\n",
      "Test:\n",
      "92     1\n",
      "280    0\n",
      "0      1\n",
      "3      1\n",
      "206    0\n",
      "      ..\n",
      "113    1\n",
      "41     1\n",
      "122    1\n",
      "176    0\n",
      "293    0\n",
      "Name: target, Length: 61, dtype: int64\n"
     ]
    }
   ],
   "source": [
    "# make a prediction\n",
    "y_preds = clf.predict(x_test)\n",
    "print(f'Preds:\\n{y_preds}\\n\\n')\n",
    "print(f'Test:\\n{y_test}')"
   ]
  },
  {
   "cell_type": "code",
   "execution_count": 9,
   "id": "149c96fd-629f-4052-9af6-b63dcbfdd3e0",
   "metadata": {},
   "outputs": [
    {
     "data": {
      "text/plain": [
       "1.0"
      ]
     },
     "execution_count": 9,
     "metadata": {},
     "output_type": "execute_result"
    }
   ],
   "source": [
    "# Evaluate the model on training data\n",
    "clf.score(x_train, y_train)"
   ]
  },
  {
   "cell_type": "code",
   "execution_count": 10,
   "id": "377db525-fa52-4c11-828f-3f0d99d2378d",
   "metadata": {},
   "outputs": [
    {
     "data": {
      "text/plain": [
       "0.8688524590163934"
      ]
     },
     "execution_count": 10,
     "metadata": {},
     "output_type": "execute_result"
    }
   ],
   "source": [
    "# Evaluate the model on test data\n",
    "clf.score(x_test, y_test)"
   ]
  },
  {
   "cell_type": "code",
   "execution_count": 11,
   "id": "734caaf7-14ea-49ec-a5aa-c94ae47e484a",
   "metadata": {},
   "outputs": [
    {
     "name": "stdout",
     "output_type": "stream",
     "text": [
      "              precision    recall  f1-score   support\n",
      "\n",
      "           0       0.88      0.88      0.88        33\n",
      "           1       0.86      0.86      0.86        28\n",
      "\n",
      "    accuracy                           0.87        61\n",
      "   macro avg       0.87      0.87      0.87        61\n",
      "weighted avg       0.87      0.87      0.87        61\n",
      "\n"
     ]
    }
   ],
   "source": [
    "print(classification_report(y_test, y_preds))"
   ]
  },
  {
   "cell_type": "code",
   "execution_count": 12,
   "id": "2a5e31d6-32a0-4784-baf1-0287a24f4115",
   "metadata": {},
   "outputs": [
    {
     "data": {
      "text/plain": [
       "array([[29,  4],\n",
       "       [ 4, 24]])"
      ]
     },
     "execution_count": 12,
     "metadata": {},
     "output_type": "execute_result"
    }
   ],
   "source": [
    "confusion_matrix(y_test, y_preds)"
   ]
  },
  {
   "cell_type": "code",
   "execution_count": 13,
   "id": "b0ca9731-69a6-46cf-a215-53cac09e4df7",
   "metadata": {},
   "outputs": [
    {
     "data": {
      "text/plain": [
       "0.8688524590163934"
      ]
     },
     "execution_count": 13,
     "metadata": {},
     "output_type": "execute_result"
    }
   ],
   "source": [
    "accuracy_score(y_test, y_preds)"
   ]
  },
  {
   "cell_type": "markdown",
   "id": "174fb9cb-1892-4f5f-9e95-099dc83b98a0",
   "metadata": {},
   "source": [
    "### Improve the model"
   ]
  },
  {
   "cell_type": "code",
   "execution_count": 14,
   "id": "90867874-f6e0-4061-b334-3654b2ff3b21",
   "metadata": {},
   "outputs": [
    {
     "name": "stdout",
     "output_type": "stream",
     "text": [
      "Trying model with 10 estimators...\n",
      "Model accuracy on test set: 78.69\n",
      "\n",
      "Trying model with 20 estimators...\n",
      "Model accuracy on test set: 77.05\n",
      "\n",
      "Trying model with 30 estimators...\n",
      "Model accuracy on test set: 80.33\n",
      "\n",
      "Trying model with 40 estimators...\n",
      "Model accuracy on test set: 81.97\n",
      "\n",
      "Trying model with 50 estimators...\n",
      "Model accuracy on test set: 83.61\n",
      "\n",
      "Trying model with 60 estimators...\n",
      "Model accuracy on test set: 78.69\n",
      "\n",
      "Trying model with 70 estimators...\n",
      "Model accuracy on test set: 80.33\n",
      "\n",
      "Trying model with 80 estimators...\n",
      "Model accuracy on test set: 83.61\n",
      "\n",
      "Trying model with 90 estimators...\n",
      "Model accuracy on test set: 80.33\n",
      "\n",
      "Trying model with 100 estimators...\n",
      "Model accuracy on test set: 85.25\n",
      "\n",
      "Trying model with 110 estimators...\n",
      "Model accuracy on test set: 81.97\n",
      "\n",
      "Trying model with 120 estimators...\n",
      "Model accuracy on test set: 83.61\n",
      "\n",
      "Trying model with 130 estimators...\n",
      "Model accuracy on test set: 81.97\n",
      "\n",
      "Trying model with 140 estimators...\n",
      "Model accuracy on test set: 83.61\n",
      "\n",
      "Trying model with 150 estimators...\n",
      "Model accuracy on test set: 83.61\n",
      "\n"
     ]
    }
   ],
   "source": [
    "# Change the n_estimators hyperparam\n",
    "cp.random.seed(0)\n",
    "\n",
    "for i in range(10, 151, 10):\n",
    "    print(f'Trying model with {i} estimators...')\n",
    "    \n",
    "    clf = RandomForestClassifier(n_estimators=i)\n",
    "    clf.fit(x_train, y_train);\n",
    "    print(f'Model accuracy on test set: {clf.score(x_test, y_test) * 100:.2f}')\n",
    "    print()\n",
    "    "
   ]
  },
  {
   "cell_type": "code",
   "execution_count": 15,
   "id": "e05c0328-281c-43fa-884a-176bb86dc693",
   "metadata": {},
   "outputs": [
    {
     "data": {
      "text/plain": [
       "0.8360655737704918"
      ]
     },
     "execution_count": 15,
     "metadata": {},
     "output_type": "execute_result"
    }
   ],
   "source": [
    "# Save the model\n",
    "pickle.dump(clf, open('./random_forest_model_1.pkl', 'wb'))\n",
    "\n",
    "# Load the model\n",
    "loaded_model = pickle.load(open('./random_forest_model_1.pkl', 'rb'))\n",
    "loaded_model.score(x_test, y_test)"
   ]
  },
  {
   "cell_type": "markdown",
   "id": "a2578fe5-7234-439c-8f4c-93e3a8401db4",
   "metadata": {},
   "source": [
    "# Data preprocessing\n",
    "Clean => Transform => Reduce\n",
    "1. Spliting into features (`X`) and labels (`y`)\n",
    "2. Handling missing data\n",
    "3. Feature encoding (converting non-numerical values to numerical ones)"
   ]
  },
  {
   "cell_type": "code",
   "execution_count": 16,
   "id": "70dbb633-077e-42b0-b180-580606d2b059",
   "metadata": {},
   "outputs": [
    {
     "name": "stdout",
     "output_type": "stream",
     "text": [
      "Dataset shape: (303, 14)\n"
     ]
    }
   ],
   "source": [
    "hd = pd.read_csv('./heart-disease.csv')\n",
    "print(f'Dataset shape: {hd.shape}')"
   ]
  },
  {
   "cell_type": "markdown",
   "id": "8c6a22bb-4ee1-4992-8543-ae59a3eac316",
   "metadata": {},
   "source": [
    "## Splitting data"
   ]
  },
  {
   "cell_type": "code",
   "execution_count": 17,
   "id": "b912b062-0c3a-4b4a-bb8c-0d4f9fcb6aa6",
   "metadata": {},
   "outputs": [],
   "source": [
    "X = hd.drop('target', axis=1)"
   ]
  },
  {
   "cell_type": "code",
   "execution_count": 18,
   "id": "c944e158-a7f7-4b2b-ab41-cf31a947a977",
   "metadata": {},
   "outputs": [],
   "source": [
    "y = hd['target']"
   ]
  },
  {
   "cell_type": "code",
   "execution_count": 19,
   "id": "d3b7278f-2112-446c-b5a7-5a61f33dd9ed",
   "metadata": {},
   "outputs": [],
   "source": [
    "from sklearn.model_selection import train_test_split\n",
    "X_train, X_test, y_train, y_test = train_test_split(X, y, test_size=0.2)"
   ]
  },
  {
   "cell_type": "code",
   "execution_count": 20,
   "id": "cea37794-4c9a-414c-b208-8a18185e17a1",
   "metadata": {},
   "outputs": [
    {
     "name": "stdout",
     "output_type": "stream",
     "text": [
      "X_train shape: (242, 13)\n",
      "X_test shape: (61, 13)\n",
      "y_train shape: (242,)\n",
      "y_test shape: (61,)\n"
     ]
    }
   ],
   "source": [
    "print(f'X_train shape: {X_train.shape}')\n",
    "print(f'X_test shape: {X_test.shape}')\n",
    "print(f'y_train shape: {y_train.shape}')\n",
    "print(f'y_test shape: {y_test.shape}')"
   ]
  },
  {
   "cell_type": "markdown",
   "id": "af912227-c497-4da8-b7f1-a8eb51d60a1c",
   "metadata": {},
   "source": [
    "## Handling missing data"
   ]
  },
  {
   "cell_type": "code",
   "execution_count": null,
   "id": "6d76e3e3-437d-42a2-aa5e-7c4e502e3394",
   "metadata": {},
   "outputs": [],
   "source": []
  },
  {
   "cell_type": "code",
   "execution_count": null,
   "id": "5c44d7b0-cac2-4bee-a917-cc6b37cbef40",
   "metadata": {},
   "outputs": [],
   "source": []
  },
  {
   "cell_type": "code",
   "execution_count": null,
   "id": "a3597392-3397-4c21-a0de-a2aa13d4fe48",
   "metadata": {},
   "outputs": [],
   "source": []
  }
 ],
 "metadata": {
  "kernelspec": {
   "display_name": "Python 3 (ipykernel)",
   "language": "python",
   "name": "python3"
  },
  "language_info": {
   "codemirror_mode": {
    "name": "ipython",
    "version": 3
   },
   "file_extension": ".py",
   "mimetype": "text/x-python",
   "name": "python",
   "nbconvert_exporter": "python",
   "pygments_lexer": "ipython3",
   "version": "3.12.9"
  }
 },
 "nbformat": 4,
 "nbformat_minor": 5
}

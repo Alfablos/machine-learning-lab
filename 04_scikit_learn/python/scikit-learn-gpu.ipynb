{
 "cells": [
  {
   "cell_type": "code",
   "execution_count": 1,
   "id": "3fcaa016-f77b-404c-a38a-ca49641fe79b",
   "metadata": {},
   "outputs": [
    {
     "name": "stdout",
     "output_type": "stream",
     "text": [
      "Looking in indexes: https://pypi.org/simple, https://pypi.ngc.nvidia.com\n",
      "Requirement already satisfied: cupy-cuda12x in /opt/conda/lib/python3.12/site-packages (13.6.0)\n",
      "Collecting cutensor-cu12\n",
      "  Downloading cutensor_cu12-2.3.0-py3-none-manylinux2014_x86_64.whl.metadata (2.2 kB)\n",
      "Requirement already satisfied: nvidia-nccl-cu12 in /opt/conda/lib/python3.12/site-packages (2.21.5)\n",
      "Requirement already satisfied: nvidia-cudnn-cu12 in /opt/conda/lib/python3.12/site-packages (9.5.1.17)\n",
      "Requirement already satisfied: numpy<2.6,>=1.22 in /opt/conda/lib/python3.12/site-packages (from cupy-cuda12x) (2.0.2)\n",
      "Requirement already satisfied: fastrlock>=0.5 in /opt/conda/lib/python3.12/site-packages (from cupy-cuda12x) (0.8.3)\n",
      "Requirement already satisfied: nvidia-cublas-cu12 in /opt/conda/lib/python3.12/site-packages (from nvidia-cudnn-cu12) (12.6.4.1)\n",
      "Downloading cutensor_cu12-2.3.0-py3-none-manylinux2014_x86_64.whl (237.1 MB)\n",
      "\u001b[2K   \u001b[90m━━━━━━━━━━━━━━━━━━━━━━━━━━━━━━━━━━━━━━━━\u001b[0m \u001b[32m237.1/237.1 MB\u001b[0m \u001b[31m2.7 MB/s\u001b[0m eta \u001b[36m0:00:00\u001b[0m00:01\u001b[0m00:03\u001b[0m\n",
      "Installing collected packages: cutensor-cu12\n",
      "Successfully installed cutensor-cu12-2.3.0\n",
      "Looking in indexes: https://pypi.org/simple, https://pypi.ngc.nvidia.com, https://pypi.nvidia.com\n",
      "Requirement already satisfied: cudf-cu12==25.8.* in /opt/conda/lib/python3.12/site-packages (25.8.0)\n",
      "Requirement already satisfied: dask-cudf-cu12==25.8.* in /opt/conda/lib/python3.12/site-packages (25.8.0)\n",
      "Requirement already satisfied: cuml-cu12==25.8.* in /opt/conda/lib/python3.12/site-packages (25.8.0)\n",
      "Collecting cugraph-cu12==25.8.*\n",
      "  Downloading https://pypi.nvidia.com/cugraph-cu12/cugraph_cu12-25.8.0-cp312-cp312-manylinux_2_24_x86_64.manylinux_2_28_x86_64.whl (3.1 MB)\n",
      "\u001b[2K     \u001b[90m━━━━━━━━━━━━━━━━━━━━━━━━━━━━━━━━━━━━━━━━\u001b[0m \u001b[32m3.1/3.1 MB\u001b[0m \u001b[31m29.9 MB/s\u001b[0m eta \u001b[36m0:00:00\u001b[0m\n",
      "Collecting nx-cugraph-cu12==25.8.*\n",
      "  Downloading https://pypi.nvidia.com/nx-cugraph-cu12/nx_cugraph_cu12-25.8.0-py3-none-any.whl (175 kB)\n",
      "Collecting cuxfilter-cu12==25.8.*\n",
      "  Downloading https://pypi.nvidia.com/cuxfilter-cu12/cuxfilter_cu12-25.8.0-py3-none-any.whl (85 kB)\n",
      "Collecting cucim-cu12==25.8.*\n",
      "  Downloading https://pypi.nvidia.com/cucim-cu12/cucim_cu12-25.8.0-cp312-cp312-manylinux_2_27_x86_64.manylinux_2_28_x86_64.whl (5.9 MB)\n",
      "\u001b[2K     \u001b[90m━━━━━━━━━━━━━━━━━━━━━━━━━━━━━━━━━━━━━━━━\u001b[0m \u001b[32m5.9/5.9 MB\u001b[0m \u001b[31m80.9 MB/s\u001b[0m eta \u001b[36m0:00:00\u001b[0m\n",
      "\u001b[?25hRequirement already satisfied: pylibraft-cu12==25.8.* in /opt/conda/lib/python3.12/site-packages (25.8.0)\n",
      "Requirement already satisfied: raft-dask-cu12==25.8.* in /opt/conda/lib/python3.12/site-packages (25.8.0)\n",
      "Requirement already satisfied: cuvs-cu12==25.8.* in /opt/conda/lib/python3.12/site-packages (25.8.0)\n",
      "Collecting cudf-polars-cu12==25.8.*\n",
      "  Downloading https://pypi.nvidia.com/cudf-polars-cu12/cudf_polars_cu12-25.8.0-py3-none-any.whl (177 kB)\n",
      "Requirement already satisfied: cachetools in /opt/conda/lib/python3.12/site-packages (from cudf-cu12==25.8.*) (6.2.0)\n",
      "Requirement already satisfied: cuda-python<13.0a0,>=12.6.2 in /opt/conda/lib/python3.12/site-packages (from cudf-cu12==25.8.*) (12.9.2)\n",
      "Requirement already satisfied: cupy-cuda12x>=12.0.0 in /opt/conda/lib/python3.12/site-packages (from cudf-cu12==25.8.*) (13.6.0)\n",
      "Requirement already satisfied: fsspec>=0.6.0 in /opt/conda/lib/python3.12/site-packages (from cudf-cu12==25.8.*) (2025.2.0)\n",
      "Requirement already satisfied: libcudf-cu12==25.8.* in /opt/conda/lib/python3.12/site-packages (from cudf-cu12==25.8.*) (25.8.0)\n",
      "Requirement already satisfied: numba-cuda<0.15.0a0,>=0.14.0 in /opt/conda/lib/python3.12/site-packages (from numba-cuda[cu12]<0.15.0a0,>=0.14.0->cudf-cu12==25.8.*) (0.14.1)\n",
      "Requirement already satisfied: numba<0.62.0a0,>=0.59.1 in /opt/conda/lib/python3.12/site-packages (from cudf-cu12==25.8.*) (0.61.0)\n",
      "Requirement already satisfied: numpy<3.0a0,>=1.23 in /opt/conda/lib/python3.12/site-packages (from cudf-cu12==25.8.*) (2.0.2)\n",
      "Requirement already satisfied: nvidia-cuda-nvcc-cu12 in /opt/conda/lib/python3.12/site-packages (from cudf-cu12==25.8.*) (12.9.86)\n",
      "Requirement already satisfied: nvidia-cuda-nvrtc-cu12 in /opt/conda/lib/python3.12/site-packages (from cudf-cu12==25.8.*) (12.6.77)\n",
      "Requirement already satisfied: nvtx>=0.2.1 in /opt/conda/lib/python3.12/site-packages (from cudf-cu12==25.8.*) (0.2.13)\n",
      "Requirement already satisfied: packaging in /opt/conda/lib/python3.12/site-packages (from cudf-cu12==25.8.*) (24.2)\n",
      "Requirement already satisfied: pandas<2.4.0dev0,>=2.0 in /opt/conda/lib/python3.12/site-packages (from cudf-cu12==25.8.*) (2.2.3)\n",
      "Requirement already satisfied: pyarrow<20.0.0a0,>=14.0.0 in /opt/conda/lib/python3.12/site-packages (from cudf-cu12==25.8.*) (19.0.1)\n",
      "Requirement already satisfied: pylibcudf-cu12==25.8.* in /opt/conda/lib/python3.12/site-packages (from cudf-cu12==25.8.*) (25.8.0)\n",
      "Requirement already satisfied: pynvjitlink-cu12 in /opt/conda/lib/python3.12/site-packages (from cudf-cu12==25.8.*) (0.7.0)\n",
      "Requirement already satisfied: rich in /opt/conda/lib/python3.12/site-packages (from cudf-cu12==25.8.*) (13.9.4)\n",
      "Requirement already satisfied: rmm-cu12==25.8.* in /opt/conda/lib/python3.12/site-packages (from cudf-cu12==25.8.*) (25.8.0)\n",
      "Requirement already satisfied: typing_extensions>=4.0.0 in /opt/conda/lib/python3.12/site-packages (from cudf-cu12==25.8.*) (4.12.2)\n",
      "Requirement already satisfied: pynvml<13.0.0a0,>=12.0.0 in /opt/conda/lib/python3.12/site-packages (from dask-cudf-cu12==25.8.*) (12.0.0)\n",
      "Requirement already satisfied: rapids-dask-dependency==25.8.* in /opt/conda/lib/python3.12/site-packages (from dask-cudf-cu12==25.8.*) (25.8.0)\n",
      "Requirement already satisfied: dask-cuda==25.8.* in /opt/conda/lib/python3.12/site-packages (from cuml-cu12==25.8.*) (25.8.0)\n",
      "Requirement already satisfied: joblib>=0.11 in /opt/conda/lib/python3.12/site-packages (from cuml-cu12==25.8.*) (1.4.2)\n",
      "Requirement already satisfied: libcuml-cu12==25.8.* in /opt/conda/lib/python3.12/site-packages (from cuml-cu12==25.8.*) (25.8.0)\n",
      "Requirement already satisfied: nvidia-cublas-cu12 in /opt/conda/lib/python3.12/site-packages (from cuml-cu12==25.8.*) (12.6.4.1)\n",
      "Requirement already satisfied: nvidia-cufft-cu12 in /opt/conda/lib/python3.12/site-packages (from cuml-cu12==25.8.*) (11.3.0.4)\n",
      "Requirement already satisfied: nvidia-curand-cu12 in /opt/conda/lib/python3.12/site-packages (from cuml-cu12==25.8.*) (10.3.7.77)\n",
      "Requirement already satisfied: nvidia-cusolver-cu12 in /opt/conda/lib/python3.12/site-packages (from cuml-cu12==25.8.*) (11.7.1.2)\n",
      "Requirement already satisfied: nvidia-cusparse-cu12 in /opt/conda/lib/python3.12/site-packages (from cuml-cu12==25.8.*) (12.5.4.2)\n",
      "Requirement already satisfied: scikit-learn>=1.4 in /opt/conda/lib/python3.12/site-packages (from cuml-cu12==25.8.*) (1.6.1)\n",
      "Requirement already satisfied: scipy>=1.8.0 in /opt/conda/lib/python3.12/site-packages (from cuml-cu12==25.8.*) (1.15.2)\n",
      "Requirement already satisfied: treelite==4.4.1 in /opt/conda/lib/python3.12/site-packages (from cuml-cu12==25.8.*) (4.4.1)\n",
      "Collecting libcugraph-cu12==25.8.* (from cugraph-cu12==25.8.*)\n",
      "  Downloading https://pypi.nvidia.com/libcugraph-cu12/libcugraph_cu12-25.8.0-py3-none-manylinux_2_27_x86_64.manylinux_2_28_x86_64.whl (1379.4 MB)\n",
      "\u001b[2K     \u001b[90m━━━━━━━━━━━━━━━━━━━━━━━━━━━━━━━━━━━━━━━━\u001b[0m \u001b[32m1.4/1.4 GB\u001b[0m \u001b[31m117.9 MB/s\u001b[0m eta \u001b[36m0:00:00\u001b[0m00:01\u001b[0m00:01\u001b[0m\n",
      "Collecting pylibcugraph-cu12==25.8.* (from cugraph-cu12==25.8.*)\n",
      "  Downloading https://pypi.nvidia.com/pylibcugraph-cu12/pylibcugraph_cu12-25.8.0-cp312-cp312-manylinux_2_24_x86_64.manylinux_2_28_x86_64.whl (2.0 MB)\n",
      "\u001b[2K     \u001b[90m━━━━━━━━━━━━━━━━━━━━━━━━━━━━━━━━━━━━━━━━\u001b[0m \u001b[32m2.0/2.0 MB\u001b[0m \u001b[31m218.9 MB/s\u001b[0m eta \u001b[36m0:00:00\u001b[0m\n",
      "\u001b[?25hRequirement already satisfied: ucx-py-cu12==0.45.* in /opt/conda/lib/python3.12/site-packages (from cugraph-cu12==25.8.*) (0.45.0)\n",
      "Requirement already satisfied: networkx>=3.2 in /opt/conda/lib/python3.12/site-packages (from nx-cugraph-cu12==25.8.*) (3.4.2)\n",
      "Requirement already satisfied: bokeh<=3.6.3,>=3.1 in /opt/conda/lib/python3.12/site-packages (from cuxfilter-cu12==25.8.*) (3.6.3)\n",
      "Collecting datashader>=0.15 (from cuxfilter-cu12==25.8.*)\n",
      "  Downloading datashader-0.18.2-py3-none-any.whl.metadata (7.6 kB)\n",
      "Collecting geopandas>=0.11.0 (from cuxfilter-cu12==25.8.*)\n",
      "  Downloading geopandas-1.1.1-py3-none-any.whl.metadata (2.3 kB)\n",
      "Collecting holoviews<1.21.0a0,>=1.16.0 (from cuxfilter-cu12==25.8.*)\n",
      "  Downloading holoviews-1.20.2-py3-none-any.whl.metadata (9.9 kB)\n",
      "Collecting jupyter-server-proxy (from cuxfilter-cu12==25.8.*)\n",
      "  Downloading jupyter_server_proxy-4.4.0-py3-none-any.whl.metadata (8.7 kB)\n",
      "Collecting panel>=1.0 (from cuxfilter-cu12==25.8.*)\n",
      "  Downloading panel-1.7.5-py3-none-any.whl.metadata (15 kB)\n",
      "Collecting shapely<2.1.0 (from cuxfilter-cu12==25.8.*)\n",
      "  Downloading shapely-2.0.7-cp312-cp312-manylinux_2_17_x86_64.manylinux2014_x86_64.whl.metadata (6.8 kB)\n",
      "Requirement already satisfied: click in /opt/conda/lib/python3.12/site-packages (from cucim-cu12==25.8.*) (8.1.8)\n",
      "Requirement already satisfied: lazy-loader>=0.4 in /opt/conda/lib/python3.12/site-packages (from cucim-cu12==25.8.*) (0.4)\n",
      "Requirement already satisfied: scikit-image<0.26.0a0,>=0.19.0 in /opt/conda/lib/python3.12/site-packages (from cucim-cu12==25.8.*) (0.25.2)\n",
      "Requirement already satisfied: libraft-cu12==25.8.* in /opt/conda/lib/python3.12/site-packages (from pylibraft-cu12==25.8.*) (25.8.0)\n",
      "Requirement already satisfied: distributed-ucxx-cu12==0.45.* in /opt/conda/lib/python3.12/site-packages (from raft-dask-cu12==25.8.*) (0.45.1)\n",
      "Requirement already satisfied: nvidia-nccl-cu12>=2.19 in /opt/conda/lib/python3.12/site-packages (from raft-dask-cu12==25.8.*) (2.21.5)\n",
      "Requirement already satisfied: libcuvs-cu12==25.8.* in /opt/conda/lib/python3.12/site-packages (from cuvs-cu12==25.8.*) (25.8.0)\n",
      "Requirement already satisfied: nvidia-ml-py in /opt/conda/lib/python3.12/site-packages (from cudf-polars-cu12==25.8.*) (12.575.51)\n",
      "Collecting polars<1.32,>=1.28 (from cudf-polars-cu12==25.8.*)\n",
      "  Downloading polars-1.31.0-cp39-abi3-manylinux_2_17_x86_64.manylinux2014_x86_64.whl.metadata (14 kB)\n",
      "Requirement already satisfied: zict>=2.0.0 in /opt/conda/lib/python3.12/site-packages (from dask-cuda==25.8.*->cuml-cu12==25.8.*) (3.0.0)\n",
      "Requirement already satisfied: ucxx-cu12==0.45.* in /opt/conda/lib/python3.12/site-packages (from distributed-ucxx-cu12==0.45.*->raft-dask-cu12==25.8.*) (0.45.1)\n",
      "Requirement already satisfied: libkvikio-cu12==25.8.* in /opt/conda/lib/python3.12/site-packages (from libcudf-cu12==25.8.*->cudf-cu12==25.8.*) (25.8.0)\n",
      "Requirement already satisfied: librmm-cu12==25.8.* in /opt/conda/lib/python3.12/site-packages (from libcudf-cu12==25.8.*->cudf-cu12==25.8.*) (25.8.0)\n",
      "Requirement already satisfied: rapids-logger==0.1.* in /opt/conda/lib/python3.12/site-packages (from libcudf-cu12==25.8.*->cudf-cu12==25.8.*) (0.1.1)\n",
      "Requirement already satisfied: dask==2025.7.0 in /opt/conda/lib/python3.12/site-packages (from rapids-dask-dependency==25.8.*->dask-cudf-cu12==25.8.*) (2025.7.0)\n",
      "Requirement already satisfied: distributed==2025.7.0 in /opt/conda/lib/python3.12/site-packages (from rapids-dask-dependency==25.8.*->dask-cudf-cu12==25.8.*) (2025.7.0)\n",
      "Requirement already satisfied: libucx-cu12<1.19,>=1.15.0 in /opt/conda/lib/python3.12/site-packages (from ucx-py-cu12==0.45.*->cugraph-cu12==25.8.*) (1.18.1)\n",
      "Requirement already satisfied: cloudpickle>=3.0.0 in /opt/conda/lib/python3.12/site-packages (from dask==2025.7.0->rapids-dask-dependency==25.8.*->dask-cudf-cu12==25.8.*) (3.1.1)\n",
      "Requirement already satisfied: partd>=1.4.0 in /opt/conda/lib/python3.12/site-packages (from dask==2025.7.0->rapids-dask-dependency==25.8.*->dask-cudf-cu12==25.8.*) (1.4.2)\n",
      "Requirement already satisfied: pyyaml>=5.3.1 in /opt/conda/lib/python3.12/site-packages (from dask==2025.7.0->rapids-dask-dependency==25.8.*->dask-cudf-cu12==25.8.*) (6.0.2)\n",
      "Requirement already satisfied: toolz>=0.10.0 in /opt/conda/lib/python3.12/site-packages (from dask==2025.7.0->rapids-dask-dependency==25.8.*->dask-cudf-cu12==25.8.*) (1.0.0)\n",
      "Requirement already satisfied: jinja2>=2.10.3 in /opt/conda/lib/python3.12/site-packages (from distributed==2025.7.0->rapids-dask-dependency==25.8.*->dask-cudf-cu12==25.8.*) (3.1.5)\n",
      "Requirement already satisfied: locket>=1.0.0 in /opt/conda/lib/python3.12/site-packages (from distributed==2025.7.0->rapids-dask-dependency==25.8.*->dask-cudf-cu12==25.8.*) (1.0.0)\n",
      "Requirement already satisfied: msgpack>=1.0.2 in /opt/conda/lib/python3.12/site-packages (from distributed==2025.7.0->rapids-dask-dependency==25.8.*->dask-cudf-cu12==25.8.*) (1.1.0)\n",
      "Requirement already satisfied: psutil>=5.8.0 in /opt/conda/lib/python3.12/site-packages (from distributed==2025.7.0->rapids-dask-dependency==25.8.*->dask-cudf-cu12==25.8.*) (7.0.0)\n",
      "Requirement already satisfied: sortedcontainers>=2.0.5 in /opt/conda/lib/python3.12/site-packages (from distributed==2025.7.0->rapids-dask-dependency==25.8.*->dask-cudf-cu12==25.8.*) (2.4.0)\n",
      "Requirement already satisfied: tblib>=1.6.0 in /opt/conda/lib/python3.12/site-packages (from distributed==2025.7.0->rapids-dask-dependency==25.8.*->dask-cudf-cu12==25.8.*) (3.0.0)\n",
      "Requirement already satisfied: tornado>=6.2.0 in /opt/conda/lib/python3.12/site-packages (from distributed==2025.7.0->rapids-dask-dependency==25.8.*->dask-cudf-cu12==25.8.*) (6.4.2)\n",
      "Requirement already satisfied: urllib3>=1.26.5 in /opt/conda/lib/python3.12/site-packages (from distributed==2025.7.0->rapids-dask-dependency==25.8.*->dask-cudf-cu12==25.8.*) (2.3.0)\n",
      "Requirement already satisfied: libucxx-cu12==0.45.* in /opt/conda/lib/python3.12/site-packages (from ucxx-cu12==0.45.*->distributed-ucxx-cu12==0.45.*->raft-dask-cu12==25.8.*) (0.45.1)\n",
      "Requirement already satisfied: contourpy>=1.2 in /opt/conda/lib/python3.12/site-packages (from bokeh<=3.6.3,>=3.1->cuxfilter-cu12==25.8.*) (1.3.1)\n",
      "Requirement already satisfied: pillow>=7.1.0 in /opt/conda/lib/python3.12/site-packages (from bokeh<=3.6.3,>=3.1->cuxfilter-cu12==25.8.*) (11.1.0)\n",
      "Requirement already satisfied: xyzservices>=2021.09.1 in /opt/conda/lib/python3.12/site-packages (from bokeh<=3.6.3,>=3.1->cuxfilter-cu12==25.8.*) (2025.1.0)\n",
      "Requirement already satisfied: cuda-bindings~=12.9.2 in /opt/conda/lib/python3.12/site-packages (from cuda-python<13.0a0,>=12.6.2->cudf-cu12==25.8.*) (12.9.2)\n",
      "Requirement already satisfied: fastrlock>=0.5 in /opt/conda/lib/python3.12/site-packages (from cupy-cuda12x>=12.0.0->cudf-cu12==25.8.*) (0.8.3)\n",
      "Collecting colorcet (from datashader>=0.15->cuxfilter-cu12==25.8.*)\n",
      "  Downloading colorcet-3.1.0-py3-none-any.whl.metadata (6.3 kB)\n",
      "Collecting multipledispatch (from datashader>=0.15->cuxfilter-cu12==25.8.*)\n",
      "  Downloading multipledispatch-1.0.0-py3-none-any.whl.metadata (3.8 kB)\n",
      "Collecting param (from datashader>=0.15->cuxfilter-cu12==25.8.*)\n",
      "  Downloading param-2.2.1-py3-none-any.whl.metadata (6.6 kB)\n",
      "Collecting pyct (from datashader>=0.15->cuxfilter-cu12==25.8.*)\n",
      "  Downloading pyct-0.5.0-py2.py3-none-any.whl.metadata (7.4 kB)\n",
      "Requirement already satisfied: requests in /opt/conda/lib/python3.12/site-packages (from datashader>=0.15->cuxfilter-cu12==25.8.*) (2.32.3)\n",
      "Collecting xarray (from datashader>=0.15->cuxfilter-cu12==25.8.*)\n",
      "  Downloading xarray-2025.8.0-py3-none-any.whl.metadata (12 kB)\n",
      "Collecting aiohttp!=4.0.0a0,!=4.0.0a1 (from fsspec[http]>=0.6.0->cugraph-cu12==25.8.*)\n",
      "  Downloading aiohttp-3.12.15-cp312-cp312-manylinux_2_17_x86_64.manylinux2014_x86_64.whl.metadata (7.7 kB)\n",
      "Collecting pyogrio>=0.7.2 (from geopandas>=0.11.0->cuxfilter-cu12==25.8.*)\n",
      "  Downloading pyogrio-0.11.1-cp312-cp312-manylinux_2_28_x86_64.whl.metadata (5.3 kB)\n",
      "Collecting pyproj>=3.5.0 (from geopandas>=0.11.0->cuxfilter-cu12==25.8.*)\n",
      "  Downloading pyproj-3.7.2-cp312-cp312-manylinux_2_28_x86_64.whl.metadata (31 kB)\n",
      "Collecting pyviz-comms>=2.1 (from holoviews<1.21.0a0,>=1.16.0->cuxfilter-cu12==25.8.*)\n",
      "  Downloading pyviz_comms-3.0.6-py3-none-any.whl.metadata (7.7 kB)\n",
      "Requirement already satisfied: llvmlite<0.45,>=0.44.0dev0 in /opt/conda/lib/python3.12/site-packages (from numba<0.62.0a0,>=0.59.1->cudf-cu12==25.8.*) (0.44.0)\n",
      "Requirement already satisfied: nvidia-cuda-runtime-cu12 in /opt/conda/lib/python3.12/site-packages (from numba-cuda[cu12]<0.15.0a0,>=0.14.0->cudf-cu12==25.8.*) (12.6.77)\n",
      "Requirement already satisfied: nvidia-cuda-cccl-cu12 in /opt/conda/lib/python3.12/site-packages (from numba-cuda[cu12]<0.15.0a0,>=0.14.0->cudf-cu12==25.8.*) (12.9.27)\n",
      "Requirement already satisfied: python-dateutil>=2.8.2 in /opt/conda/lib/python3.12/site-packages (from pandas<2.4.0dev0,>=2.0->cudf-cu12==25.8.*) (2.9.0.post0)\n",
      "Requirement already satisfied: pytz>=2020.1 in /opt/conda/lib/python3.12/site-packages (from pandas<2.4.0dev0,>=2.0->cudf-cu12==25.8.*) (2024.1)\n",
      "Requirement already satisfied: tzdata>=2022.7 in /opt/conda/lib/python3.12/site-packages (from pandas<2.4.0dev0,>=2.0->cudf-cu12==25.8.*) (2025.1)\n",
      "Requirement already satisfied: bleach in /opt/conda/lib/python3.12/site-packages (from panel>=1.0->cuxfilter-cu12==25.8.*) (6.2.0)\n",
      "Collecting linkify-it-py (from panel>=1.0->cuxfilter-cu12==25.8.*)\n",
      "  Downloading linkify_it_py-2.0.3-py3-none-any.whl.metadata (8.5 kB)\n",
      "Requirement already satisfied: markdown in /opt/conda/lib/python3.12/site-packages (from panel>=1.0->cuxfilter-cu12==25.8.*) (3.7)\n",
      "Requirement already satisfied: markdown-it-py in /opt/conda/lib/python3.12/site-packages (from panel>=1.0->cuxfilter-cu12==25.8.*) (3.0.0)\n",
      "Collecting mdit-py-plugins (from panel>=1.0->cuxfilter-cu12==25.8.*)\n",
      "  Downloading mdit_py_plugins-0.5.0-py3-none-any.whl.metadata (2.8 kB)\n",
      "Requirement already satisfied: tqdm in /opt/conda/lib/python3.12/site-packages (from panel>=1.0->cuxfilter-cu12==25.8.*) (4.67.1)\n",
      "Requirement already satisfied: imageio!=2.35.0,>=2.33 in /opt/conda/lib/python3.12/site-packages (from scikit-image<0.26.0a0,>=0.19.0->cucim-cu12==25.8.*) (2.37.0)\n",
      "Requirement already satisfied: tifffile>=2022.8.12 in /opt/conda/lib/python3.12/site-packages (from scikit-image<0.26.0a0,>=0.19.0->cucim-cu12==25.8.*) (2025.2.18)\n",
      "Requirement already satisfied: threadpoolctl>=3.1.0 in /opt/conda/lib/python3.12/site-packages (from scikit-learn>=1.4->cuml-cu12==25.8.*) (3.5.0)\n",
      "Requirement already satisfied: jupyter-server>=1.24.0 in /opt/conda/lib/python3.12/site-packages (from jupyter-server-proxy->cuxfilter-cu12==25.8.*) (2.15.0)\n",
      "Collecting simpervisor>=1.0.0 (from jupyter-server-proxy->cuxfilter-cu12==25.8.*)\n",
      "  Downloading simpervisor-1.0.0-py3-none-any.whl.metadata (4.3 kB)\n",
      "Requirement already satisfied: traitlets>=5.1.0 in /opt/conda/lib/python3.12/site-packages (from jupyter-server-proxy->cuxfilter-cu12==25.8.*) (5.14.3)\n",
      "Requirement already satisfied: nvidia-nvjitlink-cu12 in /opt/conda/lib/python3.12/site-packages (from nvidia-cufft-cu12->cuml-cu12==25.8.*) (12.6.85)\n",
      "Requirement already satisfied: pygments<3.0.0,>=2.13.0 in /opt/conda/lib/python3.12/site-packages (from rich->cudf-cu12==25.8.*) (2.19.1)\n",
      "Collecting aiohappyeyeballs>=2.5.0 (from aiohttp!=4.0.0a0,!=4.0.0a1->fsspec[http]>=0.6.0->cugraph-cu12==25.8.*)\n",
      "  Downloading aiohappyeyeballs-2.6.1-py3-none-any.whl.metadata (5.9 kB)\n",
      "Collecting aiosignal>=1.4.0 (from aiohttp!=4.0.0a0,!=4.0.0a1->fsspec[http]>=0.6.0->cugraph-cu12==25.8.*)\n",
      "  Downloading aiosignal-1.4.0-py3-none-any.whl.metadata (3.7 kB)\n",
      "Requirement already satisfied: attrs>=17.3.0 in /opt/conda/lib/python3.12/site-packages (from aiohttp!=4.0.0a0,!=4.0.0a1->fsspec[http]>=0.6.0->cugraph-cu12==25.8.*) (25.1.0)\n",
      "Collecting frozenlist>=1.1.1 (from aiohttp!=4.0.0a0,!=4.0.0a1->fsspec[http]>=0.6.0->cugraph-cu12==25.8.*)\n",
      "  Downloading frozenlist-1.7.0-cp312-cp312-manylinux_2_5_x86_64.manylinux1_x86_64.manylinux_2_17_x86_64.manylinux2014_x86_64.whl.metadata (18 kB)\n",
      "Collecting multidict<7.0,>=4.5 (from aiohttp!=4.0.0a0,!=4.0.0a1->fsspec[http]>=0.6.0->cugraph-cu12==25.8.*)\n",
      "  Downloading multidict-6.6.4-cp312-cp312-manylinux2014_x86_64.manylinux_2_17_x86_64.manylinux_2_28_x86_64.whl.metadata (5.3 kB)\n",
      "Collecting propcache>=0.2.0 (from aiohttp!=4.0.0a0,!=4.0.0a1->fsspec[http]>=0.6.0->cugraph-cu12==25.8.*)\n",
      "  Downloading propcache-0.3.2-cp312-cp312-manylinux_2_17_x86_64.manylinux2014_x86_64.whl.metadata (12 kB)\n",
      "Collecting yarl<2.0,>=1.17.0 (from aiohttp!=4.0.0a0,!=4.0.0a1->fsspec[http]>=0.6.0->cugraph-cu12==25.8.*)\n",
      "  Downloading yarl-1.20.1-cp312-cp312-manylinux_2_17_x86_64.manylinux2014_x86_64.whl.metadata (73 kB)\n",
      "Requirement already satisfied: cuda-pathfinder~=1.1 in /opt/conda/lib/python3.12/site-packages (from cuda-bindings~=12.9.2->cuda-python<13.0a0,>=12.6.2->cudf-cu12==25.8.*) (1.2.1)\n",
      "Requirement already satisfied: MarkupSafe>=2.0 in /opt/conda/lib/python3.12/site-packages (from jinja2>=2.10.3->distributed==2025.7.0->rapids-dask-dependency==25.8.*->dask-cudf-cu12==25.8.*) (3.0.2)\n",
      "Requirement already satisfied: anyio>=3.1.0 in /opt/conda/lib/python3.12/site-packages (from jupyter-server>=1.24.0->jupyter-server-proxy->cuxfilter-cu12==25.8.*) (4.8.0)\n",
      "Requirement already satisfied: argon2-cffi>=21.1 in /opt/conda/lib/python3.12/site-packages (from jupyter-server>=1.24.0->jupyter-server-proxy->cuxfilter-cu12==25.8.*) (23.1.0)\n",
      "Requirement already satisfied: jupyter-client>=7.4.4 in /opt/conda/lib/python3.12/site-packages (from jupyter-server>=1.24.0->jupyter-server-proxy->cuxfilter-cu12==25.8.*) (8.6.3)\n",
      "Requirement already satisfied: jupyter-core!=5.0.*,>=4.12 in /opt/conda/lib/python3.12/site-packages (from jupyter-server>=1.24.0->jupyter-server-proxy->cuxfilter-cu12==25.8.*) (5.7.2)\n",
      "Requirement already satisfied: jupyter-events>=0.11.0 in /opt/conda/lib/python3.12/site-packages (from jupyter-server>=1.24.0->jupyter-server-proxy->cuxfilter-cu12==25.8.*) (0.12.0)\n",
      "Requirement already satisfied: jupyter-server-terminals>=0.4.4 in /opt/conda/lib/python3.12/site-packages (from jupyter-server>=1.24.0->jupyter-server-proxy->cuxfilter-cu12==25.8.*) (0.5.3)\n",
      "Requirement already satisfied: nbconvert>=6.4.4 in /opt/conda/lib/python3.12/site-packages (from jupyter-server>=1.24.0->jupyter-server-proxy->cuxfilter-cu12==25.8.*) (7.16.6)\n",
      "Requirement already satisfied: nbformat>=5.3.0 in /opt/conda/lib/python3.12/site-packages (from jupyter-server>=1.24.0->jupyter-server-proxy->cuxfilter-cu12==25.8.*) (5.10.4)\n",
      "Requirement already satisfied: overrides>=5.0 in /opt/conda/lib/python3.12/site-packages (from jupyter-server>=1.24.0->jupyter-server-proxy->cuxfilter-cu12==25.8.*) (7.7.0)\n",
      "Requirement already satisfied: prometheus-client>=0.9 in /opt/conda/lib/python3.12/site-packages (from jupyter-server>=1.24.0->jupyter-server-proxy->cuxfilter-cu12==25.8.*) (0.21.1)\n",
      "Requirement already satisfied: pyzmq>=24 in /opt/conda/lib/python3.12/site-packages (from jupyter-server>=1.24.0->jupyter-server-proxy->cuxfilter-cu12==25.8.*) (26.2.1)\n",
      "Requirement already satisfied: send2trash>=1.8.2 in /opt/conda/lib/python3.12/site-packages (from jupyter-server>=1.24.0->jupyter-server-proxy->cuxfilter-cu12==25.8.*) (1.8.3)\n",
      "Requirement already satisfied: terminado>=0.8.3 in /opt/conda/lib/python3.12/site-packages (from jupyter-server>=1.24.0->jupyter-server-proxy->cuxfilter-cu12==25.8.*) (0.18.1)\n",
      "Requirement already satisfied: websocket-client>=1.7 in /opt/conda/lib/python3.12/site-packages (from jupyter-server>=1.24.0->jupyter-server-proxy->cuxfilter-cu12==25.8.*) (1.8.0)\n",
      "Requirement already satisfied: mdurl~=0.1 in /opt/conda/lib/python3.12/site-packages (from markdown-it-py->panel>=1.0->cuxfilter-cu12==25.8.*) (0.1.2)\n",
      "Requirement already satisfied: certifi in /opt/conda/lib/python3.12/site-packages (from pyogrio>=0.7.2->geopandas>=0.11.0->cuxfilter-cu12==25.8.*) (2025.1.31)\n",
      "Requirement already satisfied: six>=1.5 in /opt/conda/lib/python3.12/site-packages (from python-dateutil>=2.8.2->pandas<2.4.0dev0,>=2.0->cudf-cu12==25.8.*) (1.17.0)\n",
      "Requirement already satisfied: webencodings in /opt/conda/lib/python3.12/site-packages (from bleach->panel>=1.0->cuxfilter-cu12==25.8.*) (0.5.1)\n",
      "Collecting uc-micro-py (from linkify-it-py->panel>=1.0->cuxfilter-cu12==25.8.*)\n",
      "  Downloading uc_micro_py-1.0.3-py3-none-any.whl.metadata (2.0 kB)\n",
      "Requirement already satisfied: charset_normalizer<4,>=2 in /opt/conda/lib/python3.12/site-packages (from requests->datashader>=0.15->cuxfilter-cu12==25.8.*) (3.4.1)\n",
      "Requirement already satisfied: idna<4,>=2.5 in /opt/conda/lib/python3.12/site-packages (from requests->datashader>=0.15->cuxfilter-cu12==25.8.*) (3.10)\n",
      "Requirement already satisfied: sniffio>=1.1 in /opt/conda/lib/python3.12/site-packages (from anyio>=3.1.0->jupyter-server>=1.24.0->jupyter-server-proxy->cuxfilter-cu12==25.8.*) (1.3.1)\n",
      "Requirement already satisfied: argon2-cffi-bindings in /opt/conda/lib/python3.12/site-packages (from argon2-cffi>=21.1->jupyter-server>=1.24.0->jupyter-server-proxy->cuxfilter-cu12==25.8.*) (21.2.0)\n",
      "Requirement already satisfied: platformdirs>=2.5 in /opt/conda/lib/python3.12/site-packages (from jupyter-core!=5.0.*,>=4.12->jupyter-server>=1.24.0->jupyter-server-proxy->cuxfilter-cu12==25.8.*) (4.3.6)\n",
      "Requirement already satisfied: jsonschema>=4.18.0 in /opt/conda/lib/python3.12/site-packages (from jsonschema[format-nongpl]>=4.18.0->jupyter-events>=0.11.0->jupyter-server>=1.24.0->jupyter-server-proxy->cuxfilter-cu12==25.8.*) (4.23.0)\n",
      "Requirement already satisfied: python-json-logger>=2.0.4 in /opt/conda/lib/python3.12/site-packages (from jupyter-events>=0.11.0->jupyter-server>=1.24.0->jupyter-server-proxy->cuxfilter-cu12==25.8.*) (2.0.7)\n",
      "Requirement already satisfied: referencing in /opt/conda/lib/python3.12/site-packages (from jupyter-events>=0.11.0->jupyter-server>=1.24.0->jupyter-server-proxy->cuxfilter-cu12==25.8.*) (0.36.2)\n",
      "Requirement already satisfied: rfc3339-validator in /opt/conda/lib/python3.12/site-packages (from jupyter-events>=0.11.0->jupyter-server>=1.24.0->jupyter-server-proxy->cuxfilter-cu12==25.8.*) (0.1.4)\n",
      "Requirement already satisfied: rfc3986-validator>=0.1.1 in /opt/conda/lib/python3.12/site-packages (from jupyter-events>=0.11.0->jupyter-server>=1.24.0->jupyter-server-proxy->cuxfilter-cu12==25.8.*) (0.1.1)\n",
      "Requirement already satisfied: beautifulsoup4 in /opt/conda/lib/python3.12/site-packages (from nbconvert>=6.4.4->jupyter-server>=1.24.0->jupyter-server-proxy->cuxfilter-cu12==25.8.*) (4.13.3)\n",
      "Requirement already satisfied: defusedxml in /opt/conda/lib/python3.12/site-packages (from nbconvert>=6.4.4->jupyter-server>=1.24.0->jupyter-server-proxy->cuxfilter-cu12==25.8.*) (0.7.1)\n",
      "Requirement already satisfied: jupyterlab-pygments in /opt/conda/lib/python3.12/site-packages (from nbconvert>=6.4.4->jupyter-server>=1.24.0->jupyter-server-proxy->cuxfilter-cu12==25.8.*) (0.3.0)\n",
      "Requirement already satisfied: mistune<4,>=2.0.3 in /opt/conda/lib/python3.12/site-packages (from nbconvert>=6.4.4->jupyter-server>=1.24.0->jupyter-server-proxy->cuxfilter-cu12==25.8.*) (3.1.2)\n",
      "Requirement already satisfied: nbclient>=0.5.0 in /opt/conda/lib/python3.12/site-packages (from nbconvert>=6.4.4->jupyter-server>=1.24.0->jupyter-server-proxy->cuxfilter-cu12==25.8.*) (0.10.2)\n",
      "Requirement already satisfied: pandocfilters>=1.4.1 in /opt/conda/lib/python3.12/site-packages (from nbconvert>=6.4.4->jupyter-server>=1.24.0->jupyter-server-proxy->cuxfilter-cu12==25.8.*) (1.5.0)\n",
      "Requirement already satisfied: fastjsonschema>=2.15 in /opt/conda/lib/python3.12/site-packages (from nbformat>=5.3.0->jupyter-server>=1.24.0->jupyter-server-proxy->cuxfilter-cu12==25.8.*) (2.21.1)\n",
      "Requirement already satisfied: ptyprocess in /opt/conda/lib/python3.12/site-packages (from terminado>=0.8.3->jupyter-server>=1.24.0->jupyter-server-proxy->cuxfilter-cu12==25.8.*) (0.7.0)\n",
      "Requirement already satisfied: tinycss2<1.5,>=1.1.0 in /opt/conda/lib/python3.12/site-packages (from bleach[css]!=5.0.0->nbconvert>=6.4.4->jupyter-server>=1.24.0->jupyter-server-proxy->cuxfilter-cu12==25.8.*) (1.4.0)\n",
      "Requirement already satisfied: jsonschema-specifications>=2023.03.6 in /opt/conda/lib/python3.12/site-packages (from jsonschema>=4.18.0->jsonschema[format-nongpl]>=4.18.0->jupyter-events>=0.11.0->jupyter-server>=1.24.0->jupyter-server-proxy->cuxfilter-cu12==25.8.*) (2024.10.1)\n",
      "Requirement already satisfied: rpds-py>=0.7.1 in /opt/conda/lib/python3.12/site-packages (from jsonschema>=4.18.0->jsonschema[format-nongpl]>=4.18.0->jupyter-events>=0.11.0->jupyter-server>=1.24.0->jupyter-server-proxy->cuxfilter-cu12==25.8.*) (0.23.1)\n",
      "Requirement already satisfied: fqdn in /opt/conda/lib/python3.12/site-packages (from jsonschema[format-nongpl]>=4.18.0->jupyter-events>=0.11.0->jupyter-server>=1.24.0->jupyter-server-proxy->cuxfilter-cu12==25.8.*) (1.5.1)\n",
      "Requirement already satisfied: isoduration in /opt/conda/lib/python3.12/site-packages (from jsonschema[format-nongpl]>=4.18.0->jupyter-events>=0.11.0->jupyter-server>=1.24.0->jupyter-server-proxy->cuxfilter-cu12==25.8.*) (20.11.0)\n",
      "Requirement already satisfied: jsonpointer>1.13 in /opt/conda/lib/python3.12/site-packages (from jsonschema[format-nongpl]>=4.18.0->jupyter-events>=0.11.0->jupyter-server>=1.24.0->jupyter-server-proxy->cuxfilter-cu12==25.8.*) (3.0.0)\n",
      "Requirement already satisfied: uri-template in /opt/conda/lib/python3.12/site-packages (from jsonschema[format-nongpl]>=4.18.0->jupyter-events>=0.11.0->jupyter-server>=1.24.0->jupyter-server-proxy->cuxfilter-cu12==25.8.*) (1.3.0)\n",
      "Requirement already satisfied: webcolors>=24.6.0 in /opt/conda/lib/python3.12/site-packages (from jsonschema[format-nongpl]>=4.18.0->jupyter-events>=0.11.0->jupyter-server>=1.24.0->jupyter-server-proxy->cuxfilter-cu12==25.8.*) (24.11.1)\n",
      "Requirement already satisfied: cffi>=1.0.1 in /opt/conda/lib/python3.12/site-packages (from argon2-cffi-bindings->argon2-cffi>=21.1->jupyter-server>=1.24.0->jupyter-server-proxy->cuxfilter-cu12==25.8.*) (1.17.1)\n",
      "Requirement already satisfied: soupsieve>1.2 in /opt/conda/lib/python3.12/site-packages (from beautifulsoup4->nbconvert>=6.4.4->jupyter-server>=1.24.0->jupyter-server-proxy->cuxfilter-cu12==25.8.*) (2.5)\n",
      "Requirement already satisfied: pycparser in /opt/conda/lib/python3.12/site-packages (from cffi>=1.0.1->argon2-cffi-bindings->argon2-cffi>=21.1->jupyter-server>=1.24.0->jupyter-server-proxy->cuxfilter-cu12==25.8.*) (2.22)\n",
      "Requirement already satisfied: arrow>=0.15.0 in /opt/conda/lib/python3.12/site-packages (from isoduration->jsonschema[format-nongpl]>=4.18.0->jupyter-events>=0.11.0->jupyter-server>=1.24.0->jupyter-server-proxy->cuxfilter-cu12==25.8.*) (1.3.0)\n",
      "Requirement already satisfied: types-python-dateutil>=2.8.10 in /opt/conda/lib/python3.12/site-packages (from arrow>=0.15.0->isoduration->jsonschema[format-nongpl]>=4.18.0->jupyter-events>=0.11.0->jupyter-server>=1.24.0->jupyter-server-proxy->cuxfilter-cu12==25.8.*) (2.9.0.20241206)\n",
      "Downloading datashader-0.18.2-py3-none-any.whl (18.3 MB)\n",
      "\u001b[2K   \u001b[90m━━━━━━━━━━━━━━━━━━━━━━━━━━━━━━━━━━━━━━━━\u001b[0m \u001b[32m18.3/18.3 MB\u001b[0m \u001b[31m6.8 MB/s\u001b[0m eta \u001b[36m0:00:00\u001b[0ma \u001b[36m0:00:01\u001b[0m\n",
      "\u001b[?25hDownloading geopandas-1.1.1-py3-none-any.whl (338 kB)\n",
      "Downloading holoviews-1.20.2-py3-none-any.whl (5.0 MB)\n",
      "\u001b[2K   \u001b[90m━━━━━━━━━━━━━━━━━━━━━━━━━━━━━━━━━━━━━━━━\u001b[0m \u001b[32m5.0/5.0 MB\u001b[0m \u001b[31m20.4 MB/s\u001b[0m eta \u001b[36m0:00:00\u001b[0ma \u001b[36m0:00:01\u001b[0m\n",
      "\u001b[?25hDownloading panel-1.7.5-py3-none-any.whl (29.5 MB)\n",
      "\u001b[2K   \u001b[90m━━━━━━━━━━━━━━━━━━━━━━━━━━━━━━━━━━━━━━━━\u001b[0m \u001b[32m29.5/29.5 MB\u001b[0m \u001b[31m15.2 MB/s\u001b[0m eta \u001b[36m0:00:00\u001b[0ma \u001b[36m0:00:01\u001b[0m\n",
      "Downloading polars-1.31.0-cp39-abi3-manylinux_2_17_x86_64.manylinux2014_x86_64.whl (35.1 MB)\n",
      "\u001b[2K   \u001b[90m━━━━━━━━━━━━━━━━━━━━━━━━━━━━━━━━━━━━━━━━\u001b[0m \u001b[32m35.1/35.1 MB\u001b[0m \u001b[31m2.5 MB/s\u001b[0m eta \u001b[36m0:00:00\u001b[0ma \u001b[36m0:00:01\u001b[0m\n",
      "\u001b[?25hDownloading shapely-2.0.7-cp312-cp312-manylinux_2_17_x86_64.manylinux2014_x86_64.whl (2.5 MB)\n",
      "\u001b[2K   \u001b[90m━━━━━━━━━━━━━━━━━━━━━━━━━━━━━━━━━━━━━━━━\u001b[0m \u001b[32m2.5/2.5 MB\u001b[0m \u001b[31m30.4 MB/s\u001b[0m eta \u001b[36m0:00:00\u001b[0m\n",
      "\u001b[?25hDownloading jupyter_server_proxy-4.4.0-py3-none-any.whl (37 kB)\n",
      "Downloading aiohttp-3.12.15-cp312-cp312-manylinux_2_17_x86_64.manylinux2014_x86_64.whl (1.7 MB)\n",
      "\u001b[2K   \u001b[90m━━━━━━━━━━━━━━━━━━━━━━━━━━━━━━━━━━━━━━━━\u001b[0m \u001b[32m1.7/1.7 MB\u001b[0m \u001b[31m31.4 MB/s\u001b[0m eta \u001b[36m0:00:00\u001b[0m\n",
      "\u001b[?25hDownloading param-2.2.1-py3-none-any.whl (119 kB)\n",
      "Downloading pyogrio-0.11.1-cp312-cp312-manylinux_2_28_x86_64.whl (27.7 MB)\n",
      "\u001b[2K   \u001b[90m━━━━━━━━━━━━━━━━━━━━━━━━━━━━━━━━━━━━━━━━\u001b[0m \u001b[32m27.7/27.7 MB\u001b[0m \u001b[31m12.2 MB/s\u001b[0m eta \u001b[36m0:00:00\u001b[0m00:01\u001b[0m00:01\u001b[0m\n",
      "Downloading pyproj-3.7.2-cp312-cp312-manylinux_2_28_x86_64.whl (9.6 MB)\n",
      "\u001b[2K   \u001b[90m━━━━━━━━━━━━━━━━━━━━━━━━━━━━━━━━━━━━━━━━\u001b[0m \u001b[32m9.6/9.6 MB\u001b[0m \u001b[31m33.4 MB/s\u001b[0m eta \u001b[36m0:00:00\u001b[0ma \u001b[36m0:00:01\u001b[0m\n",
      "Downloading pyviz_comms-3.0.6-py3-none-any.whl (84 kB)\n",
      "Downloading simpervisor-1.0.0-py3-none-any.whl (8.3 kB)\n",
      "Downloading colorcet-3.1.0-py3-none-any.whl (260 kB)\n",
      "Downloading linkify_it_py-2.0.3-py3-none-any.whl (19 kB)\n",
      "Downloading mdit_py_plugins-0.5.0-py3-none-any.whl (57 kB)\n",
      "Downloading multipledispatch-1.0.0-py3-none-any.whl (12 kB)\n",
      "Downloading pyct-0.5.0-py2.py3-none-any.whl (15 kB)\n",
      "Downloading xarray-2025.8.0-py3-none-any.whl (1.3 MB)\n",
      "\u001b[2K   \u001b[90m━━━━━━━━━━━━━━━━━━━━━━━━━━━━━━━━━━━━━━━━\u001b[0m \u001b[32m1.3/1.3 MB\u001b[0m \u001b[31m34.8 MB/s\u001b[0m eta \u001b[36m0:00:00\u001b[0m\n",
      "\u001b[?25hDownloading aiohappyeyeballs-2.6.1-py3-none-any.whl (15 kB)\n",
      "Downloading aiosignal-1.4.0-py3-none-any.whl (7.5 kB)\n",
      "Downloading frozenlist-1.7.0-cp312-cp312-manylinux_2_5_x86_64.manylinux1_x86_64.manylinux_2_17_x86_64.manylinux2014_x86_64.whl (241 kB)\n",
      "Downloading multidict-6.6.4-cp312-cp312-manylinux2014_x86_64.manylinux_2_17_x86_64.manylinux_2_28_x86_64.whl (256 kB)\n",
      "Downloading propcache-0.3.2-cp312-cp312-manylinux_2_17_x86_64.manylinux2014_x86_64.whl (224 kB)\n",
      "Downloading yarl-1.20.1-cp312-cp312-manylinux_2_17_x86_64.manylinux2014_x86_64.whl (355 kB)\n",
      "Downloading uc_micro_py-1.0.3-py3-none-any.whl (6.2 kB)\n",
      "Installing collected packages: multipledispatch, uc-micro-py, simpervisor, shapely, pyproj, pyogrio, propcache, polars, param, multidict, frozenlist, colorcet, aiohappyeyeballs, yarl, pyviz-comms, pyct, mdit-py-plugins, linkify-it-py, aiosignal, xarray, geopandas, cucim-cu12, aiohttp, panel, libcugraph-cu12, datashader, pylibcugraph-cu12, holoviews, cudf-polars-cu12, nx-cugraph-cu12, cugraph-cu12, jupyter-server-proxy, cuxfilter-cu12\n",
      "  Attempting uninstall: polars\n",
      "    Found existing installation: polars 1.33.0\n",
      "    Uninstalling polars-1.33.0:\n",
      "      Successfully uninstalled polars-1.33.0\n",
      "Successfully installed aiohappyeyeballs-2.6.1 aiohttp-3.12.15 aiosignal-1.4.0 colorcet-3.1.0 cucim-cu12-25.8.0 cudf-polars-cu12-25.8.0 cugraph-cu12-25.8.0 cuxfilter-cu12-25.8.0 datashader-0.18.2 frozenlist-1.7.0 geopandas-1.1.1 holoviews-1.20.2 jupyter-server-proxy-4.4.0 libcugraph-cu12-25.8.0 linkify-it-py-2.0.3 mdit-py-plugins-0.5.0 multidict-6.6.4 multipledispatch-1.0.0 nx-cugraph-cu12-25.8.0 panel-1.7.5 param-2.2.1 polars-1.31.0 propcache-0.3.2 pyct-0.5.0 pylibcugraph-cu12-25.8.0 pyogrio-0.11.1 pyproj-3.7.2 pyviz-comms-3.0.6 shapely-2.0.7 simpervisor-1.0.0 uc-micro-py-1.0.3 xarray-2025.8.0 yarl-1.20.1\n"
     ]
    }
   ],
   "source": [
    "# https://rapids.ai/cudf-pandas/\n",
    "# import sys\n",
    "# !conda update --yes -n base -c conda-forge conda\n",
    "\n",
    "# !conda install --prefix {sys.prefix} --yes -c conda-forge cudf=25.10 cuda-version=12.9\n",
    "\n",
    "\n",
    "!pip install cupy-cuda12x cutensor-cu12 nvidia-nccl-cu12 nvidia-cudnn-cu12\n",
    "\n",
    "!pip install \\\n",
    "    --extra-index-url=https://pypi.nvidia.com \\\n",
    "    \"cudf-cu12==25.8.*\" \"dask-cudf-cu12==25.8.*\" \"cuml-cu12==25.8.*\" \\\n",
    "    \"cugraph-cu12==25.8.*\" \"nx-cugraph-cu12==25.8.*\" \"cuxfilter-cu12==25.8.*\" \\\n",
    "    \"cucim-cu12==25.8.*\" \"pylibraft-cu12==25.8.*\" \"raft-dask-cu12==25.8.*\" \\\n",
    "    \"cuvs-cu12==25.8.*\" \"nx-cugraph-cu12==25.8.*\" \"cudf-polars-cu12==25.8.*\""
   ]
  },
  {
   "cell_type": "code",
   "execution_count": 2,
   "id": "213cacee-acd1-4d47-9ee2-db1d46eb2cc4",
   "metadata": {},
   "outputs": [],
   "source": [
    "import cudf as pd\n",
    "import sklearn\n",
    "import cuml\n",
    "from cuml.ensemble import RandomForestRegressor\n",
    "# from sklearn.ensemble import RandomForestRegressor\n",
    "from cuml.model_selection import train_test_split\n",
    "from sklearn.model_selection import cross_val_score\n",
    "from sklearn.metrics import classification_report, confusion_matrix, accuracy_score\n",
    "from sklearn.datasets import fetch_california_housing\n",
    "import cupy as cp\n"
   ]
  },
  {
   "cell_type": "code",
   "execution_count": 2,
   "id": "8427132c-21e1-4189-a721-eb8db80d8545",
   "metadata": {
    "editable": true,
    "slideshow": {
     "slide_type": ""
    },
    "tags": []
   },
   "outputs": [],
   "source": [
    "cp.random.seed(0)\n",
    "\n",
    "housing = fetch_california_housing()\n",
    "housing_df = pd.DataFrame(housing['data'], columns=housing['feature_names'])\n",
    "housing_df['target'] = housing['target']\n",
    "# X = cp.asarray(housing['data'])\n",
    "# y = cp.asarray(housing['target'])"
   ]
  },
  {
   "cell_type": "code",
   "execution_count": 3,
   "id": "633ad3cc-f2a3-4927-8f12-873651ca66b9",
   "metadata": {},
   "outputs": [],
   "source": [
    "X = housing_df.drop('target', axis=1)\n",
    "y = housing_df['target']"
   ]
  },
  {
   "cell_type": "code",
   "execution_count": 4,
   "id": "282d9ffd-62c6-4f22-ab0a-bdbbcf1e7ceb",
   "metadata": {},
   "outputs": [],
   "source": [
    "X_train, X_test, y_train, y_test = train_test_split(X, y, test_size=0.2)"
   ]
  },
  {
   "cell_type": "code",
   "execution_count": 5,
   "id": "00610ee6-0b10-48ab-96a5-c6a1a046c1c7",
   "metadata": {},
   "outputs": [
    {
     "name": "stdout",
     "output_type": "stream",
     "text": [
      "CPU times: user 8.05 s, sys: 5.9 s, total: 13.9 s\n",
      "Wall time: 4.68 s\n"
     ]
    }
   ],
   "source": [
    "%%time\n",
    "reg = RandomForestRegressor(n_estimators=1000)\n",
    "fitted_reg = reg.fit(X_train, y_train)\n",
    "# Took 800 s on CPU, 48.5 s on GPU with 10000 estimators"
   ]
  },
  {
   "cell_type": "code",
   "execution_count": 6,
   "id": "8261b6ca-19c1-409b-a0e4-d5abc41de4ae",
   "metadata": {
    "scrolled": true
   },
   "outputs": [
    {
     "name": "stdout",
     "output_type": "stream",
     "text": [
      "Warning: LOW SCORE on training set: 0.9644699209685325\n",
      "CPU times: user 3.55 s, sys: 2.49 s, total: 6.04 s\n",
      "Wall time: 3.9 s\n"
     ]
    }
   ],
   "source": [
    "%%time\n",
    "train_score = fitted_reg.score(X_train, y_train) # should return 1.0 since training data is already known!\n",
    "# So if the model is powerful enough it'll score the max value.\n",
    "if train_score < 1:\n",
    "    print(f'Warning: LOW SCORE on training set: {train_score}')"
   ]
  },
  {
   "cell_type": "code",
   "execution_count": 7,
   "id": "2c13d4e2-aa5c-45c1-95f5-2a885a0215f1",
   "metadata": {},
   "outputs": [
    {
     "name": "stdout",
     "output_type": "stream",
     "text": [
      "CPU times: user 1.41 s, sys: 456 ms, total: 1.87 s\n",
      "Wall time: 1.86 s\n"
     ]
    }
   ],
   "source": [
    "%%time\n",
    "prediction = fitted_reg.predict(X_test)"
   ]
  },
  {
   "cell_type": "code",
   "execution_count": 8,
   "id": "5b9acb67-49cb-443b-bffe-e856bc34b30d",
   "metadata": {},
   "outputs": [
    {
     "data": {
      "text/plain": [
       "0.8114814023715806"
      ]
     },
     "execution_count": 8,
     "metadata": {},
     "output_type": "execute_result"
    }
   ],
   "source": [
    "sci_r2_score = sklearn.metrics.r2_score(cp.asnumpy(y_test), cp.asnumpy(prediction))\n",
    "sci_r2_score"
   ]
  },
  {
   "cell_type": "code",
   "execution_count": 9,
   "id": "1c9111c3-6d6f-4a84-8356-c85345916397",
   "metadata": {},
   "outputs": [
    {
     "data": {
      "text/plain": [
       "0.8114814023715806"
      ]
     },
     "execution_count": 9,
     "metadata": {},
     "output_type": "execute_result"
    }
   ],
   "source": [
    "cuml_r2_score = cuml.metrics.r2_score(y_test, prediction)\n",
    "cuml_r2_score"
   ]
  },
  {
   "cell_type": "code",
   "execution_count": 10,
   "id": "a07a3b56-0640-4819-bfad-536cc35e83b9",
   "metadata": {},
   "outputs": [
    {
     "data": {
      "text/plain": [
       "array([0.21683381, 0.70993299, 0.7210524 , 0.69173359, 0.77122026,\n",
       "       0.69804836, 0.48513976, 0.6111571 , 0.49903383, 0.69465389])"
      ]
     },
     "execution_count": 10,
     "metadata": {},
     "output_type": "execute_result"
    }
   ],
   "source": [
    "cvs = cross_val_score(reg, X, y, cv=10)\n",
    "cvs"
   ]
  },
  {
   "cell_type": "code",
   "execution_count": 12,
   "id": "00212036-b8e0-46fa-8b9d-242c06031c1d",
   "metadata": {},
   "outputs": [
    {
     "data": {
      "text/plain": [
       "np.float64(0.6098805989638068)"
      ]
     },
     "execution_count": 12,
     "metadata": {},
     "output_type": "execute_result"
    }
   ],
   "source": [
    "reg_cross_val_score = cp.mean(cvs)\n",
    "reg_cross_val_score"
   ]
  },
  {
   "cell_type": "code",
   "execution_count": 13,
   "id": "01e2bb93-251f-415d-b801-7966ba9e37a6",
   "metadata": {},
   "outputs": [
    {
     "data": {
      "text/plain": [
       "(0.8114814023715806, np.float64(0.6098805989638068))"
      ]
     },
     "execution_count": 13,
     "metadata": {},
     "output_type": "execute_result"
    }
   ],
   "source": [
    "cuml_r2_score, reg_cross_val_score"
   ]
  },
  {
   "cell_type": "code",
   "execution_count": null,
   "id": "27c7c177-4a67-44f9-9b68-2f28ada4299a",
   "metadata": {},
   "outputs": [],
   "source": []
  }
 ],
 "metadata": {
  "kernelspec": {
   "display_name": "Python 3 (ipykernel)",
   "language": "python",
   "name": "python3"
  },
  "language_info": {
   "codemirror_mode": {
    "name": "ipython",
    "version": 3
   },
   "file_extension": ".py",
   "mimetype": "text/x-python",
   "name": "python",
   "nbconvert_exporter": "python",
   "pygments_lexer": "ipython3",
   "version": "3.12.9"
  }
 },
 "nbformat": 4,
 "nbformat_minor": 5
}

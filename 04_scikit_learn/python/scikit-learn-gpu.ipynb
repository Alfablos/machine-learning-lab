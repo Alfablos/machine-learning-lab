{
 "cells": [
  {
   "cell_type": "code",
   "execution_count": 1,
   "id": "3fcaa016-f77b-404c-a38a-ca49641fe79b",
   "metadata": {},
   "outputs": [
    {
     "name": "stdout",
     "output_type": "stream",
     "text": [
      "Looking in indexes: https://pypi.org/simple, https://pypi.ngc.nvidia.com, https://pypi.nvidia.com\n",
      "Requirement already satisfied: cudf-cu12==25.8.* in /opt/conda/lib/python3.12/site-packages (25.8.0)\n",
      "Requirement already satisfied: dask-cudf-cu12==25.8.* in /opt/conda/lib/python3.12/site-packages (25.8.0)\n",
      "Requirement already satisfied: cuml-cu12==25.8.* in /opt/conda/lib/python3.12/site-packages (25.8.0)\n",
      "Requirement already satisfied: cugraph-cu12==25.8.* in /opt/conda/lib/python3.12/site-packages (25.8.0)\n",
      "Requirement already satisfied: nx-cugraph-cu12==25.8.* in /opt/conda/lib/python3.12/site-packages (25.8.0)\n",
      "Requirement already satisfied: cuxfilter-cu12==25.8.* in /opt/conda/lib/python3.12/site-packages (25.8.0)\n",
      "Requirement already satisfied: cucim-cu12==25.8.* in /opt/conda/lib/python3.12/site-packages (25.8.0)\n",
      "Requirement already satisfied: pylibraft-cu12==25.8.* in /opt/conda/lib/python3.12/site-packages (25.8.0)\n",
      "Requirement already satisfied: raft-dask-cu12==25.8.* in /opt/conda/lib/python3.12/site-packages (25.8.0)\n",
      "Requirement already satisfied: cuvs-cu12==25.8.* in /opt/conda/lib/python3.12/site-packages (25.8.0)\n",
      "Requirement already satisfied: cachetools in /opt/conda/lib/python3.12/site-packages (from cudf-cu12==25.8.*) (6.2.0)\n",
      "Requirement already satisfied: cuda-python<13.0a0,>=12.6.2 in /opt/conda/lib/python3.12/site-packages (from cudf-cu12==25.8.*) (12.9.2)\n",
      "Requirement already satisfied: cupy-cuda12x>=12.0.0 in /opt/conda/lib/python3.12/site-packages (from cudf-cu12==25.8.*) (13.6.0)\n",
      "Requirement already satisfied: fsspec>=0.6.0 in /opt/conda/lib/python3.12/site-packages (from cudf-cu12==25.8.*) (2025.2.0)\n",
      "Requirement already satisfied: libcudf-cu12==25.8.* in /opt/conda/lib/python3.12/site-packages (from cudf-cu12==25.8.*) (25.8.0)\n",
      "Requirement already satisfied: numba-cuda<0.15.0a0,>=0.14.0 in /opt/conda/lib/python3.12/site-packages (from numba-cuda[cu12]<0.15.0a0,>=0.14.0->cudf-cu12==25.8.*) (0.14.1)\n",
      "Requirement already satisfied: numba<0.62.0a0,>=0.59.1 in /opt/conda/lib/python3.12/site-packages (from cudf-cu12==25.8.*) (0.61.0)\n",
      "Requirement already satisfied: numpy<3.0a0,>=1.23 in /opt/conda/lib/python3.12/site-packages (from cudf-cu12==25.8.*) (2.0.2)\n",
      "Requirement already satisfied: nvidia-cuda-nvcc-cu12 in /opt/conda/lib/python3.12/site-packages (from cudf-cu12==25.8.*) (12.9.86)\n",
      "Requirement already satisfied: nvidia-cuda-nvrtc-cu12 in /opt/conda/lib/python3.12/site-packages (from cudf-cu12==25.8.*) (12.6.77)\n",
      "Requirement already satisfied: nvtx>=0.2.1 in /opt/conda/lib/python3.12/site-packages (from cudf-cu12==25.8.*) (0.2.13)\n",
      "Requirement already satisfied: packaging in /opt/conda/lib/python3.12/site-packages (from cudf-cu12==25.8.*) (24.2)\n",
      "Requirement already satisfied: pandas<2.4.0dev0,>=2.0 in /opt/conda/lib/python3.12/site-packages (from cudf-cu12==25.8.*) (2.2.3)\n",
      "Requirement already satisfied: pyarrow<20.0.0a0,>=14.0.0 in /opt/conda/lib/python3.12/site-packages (from cudf-cu12==25.8.*) (19.0.1)\n",
      "Requirement already satisfied: pylibcudf-cu12==25.8.* in /opt/conda/lib/python3.12/site-packages (from cudf-cu12==25.8.*) (25.8.0)\n",
      "Requirement already satisfied: pynvjitlink-cu12 in /opt/conda/lib/python3.12/site-packages (from cudf-cu12==25.8.*) (0.7.0)\n",
      "Requirement already satisfied: rich in /opt/conda/lib/python3.12/site-packages (from cudf-cu12==25.8.*) (13.9.4)\n",
      "Requirement already satisfied: rmm-cu12==25.8.* in /opt/conda/lib/python3.12/site-packages (from cudf-cu12==25.8.*) (25.8.0)\n",
      "Requirement already satisfied: typing_extensions>=4.0.0 in /opt/conda/lib/python3.12/site-packages (from cudf-cu12==25.8.*) (4.12.2)\n",
      "Requirement already satisfied: pynvml<13.0.0a0,>=12.0.0 in /opt/conda/lib/python3.12/site-packages (from dask-cudf-cu12==25.8.*) (12.0.0)\n",
      "Requirement already satisfied: rapids-dask-dependency==25.8.* in /opt/conda/lib/python3.12/site-packages (from dask-cudf-cu12==25.8.*) (25.8.0)\n",
      "Requirement already satisfied: dask-cuda==25.8.* in /opt/conda/lib/python3.12/site-packages (from cuml-cu12==25.8.*) (25.8.0)\n",
      "Requirement already satisfied: joblib>=0.11 in /opt/conda/lib/python3.12/site-packages (from cuml-cu12==25.8.*) (1.4.2)\n",
      "Requirement already satisfied: libcuml-cu12==25.8.* in /opt/conda/lib/python3.12/site-packages (from cuml-cu12==25.8.*) (25.8.0)\n",
      "Requirement already satisfied: nvidia-cublas-cu12 in /opt/conda/lib/python3.12/site-packages (from cuml-cu12==25.8.*) (12.6.4.1)\n",
      "Requirement already satisfied: nvidia-cufft-cu12 in /opt/conda/lib/python3.12/site-packages (from cuml-cu12==25.8.*) (11.3.0.4)\n",
      "Requirement already satisfied: nvidia-curand-cu12 in /opt/conda/lib/python3.12/site-packages (from cuml-cu12==25.8.*) (10.3.7.77)\n",
      "Requirement already satisfied: nvidia-cusolver-cu12 in /opt/conda/lib/python3.12/site-packages (from cuml-cu12==25.8.*) (11.7.1.2)\n",
      "Requirement already satisfied: nvidia-cusparse-cu12 in /opt/conda/lib/python3.12/site-packages (from cuml-cu12==25.8.*) (12.5.4.2)\n",
      "Requirement already satisfied: scikit-learn>=1.4 in /opt/conda/lib/python3.12/site-packages (from cuml-cu12==25.8.*) (1.6.1)\n",
      "Requirement already satisfied: scipy>=1.8.0 in /opt/conda/lib/python3.12/site-packages (from cuml-cu12==25.8.*) (1.15.2)\n",
      "Requirement already satisfied: treelite==4.4.1 in /opt/conda/lib/python3.12/site-packages (from cuml-cu12==25.8.*) (4.4.1)\n",
      "Requirement already satisfied: libcugraph-cu12==25.8.* in /opt/conda/lib/python3.12/site-packages (from cugraph-cu12==25.8.*) (25.8.0)\n",
      "Requirement already satisfied: pylibcugraph-cu12==25.8.* in /opt/conda/lib/python3.12/site-packages (from cugraph-cu12==25.8.*) (25.8.0)\n",
      "Requirement already satisfied: ucx-py-cu12==0.45.* in /opt/conda/lib/python3.12/site-packages (from cugraph-cu12==25.8.*) (0.45.0)\n",
      "Requirement already satisfied: networkx>=3.2 in /opt/conda/lib/python3.12/site-packages (from nx-cugraph-cu12==25.8.*) (3.4.2)\n",
      "Requirement already satisfied: bokeh<=3.6.3,>=3.1 in /opt/conda/lib/python3.12/site-packages (from cuxfilter-cu12==25.8.*) (3.6.3)\n",
      "Requirement already satisfied: datashader>=0.15 in /opt/conda/lib/python3.12/site-packages (from cuxfilter-cu12==25.8.*) (0.18.2)\n",
      "Requirement already satisfied: geopandas>=0.11.0 in /opt/conda/lib/python3.12/site-packages (from cuxfilter-cu12==25.8.*) (1.1.1)\n",
      "Requirement already satisfied: holoviews<1.21.0a0,>=1.16.0 in /opt/conda/lib/python3.12/site-packages (from cuxfilter-cu12==25.8.*) (1.20.2)\n",
      "Requirement already satisfied: jupyter-server-proxy in /opt/conda/lib/python3.12/site-packages (from cuxfilter-cu12==25.8.*) (4.4.0)\n",
      "Requirement already satisfied: panel>=1.0 in /opt/conda/lib/python3.12/site-packages (from cuxfilter-cu12==25.8.*) (1.7.5)\n",
      "Requirement already satisfied: shapely<2.1.0 in /opt/conda/lib/python3.12/site-packages (from cuxfilter-cu12==25.8.*) (2.0.7)\n",
      "Requirement already satisfied: click in /opt/conda/lib/python3.12/site-packages (from cucim-cu12==25.8.*) (8.1.8)\n",
      "Requirement already satisfied: lazy-loader>=0.4 in /opt/conda/lib/python3.12/site-packages (from cucim-cu12==25.8.*) (0.4)\n",
      "Requirement already satisfied: scikit-image<0.26.0a0,>=0.19.0 in /opt/conda/lib/python3.12/site-packages (from cucim-cu12==25.8.*) (0.25.2)\n",
      "Requirement already satisfied: libraft-cu12==25.8.* in /opt/conda/lib/python3.12/site-packages (from pylibraft-cu12==25.8.*) (25.8.0)\n",
      "Requirement already satisfied: distributed-ucxx-cu12==0.45.* in /opt/conda/lib/python3.12/site-packages (from raft-dask-cu12==25.8.*) (0.45.1)\n",
      "Requirement already satisfied: nvidia-nccl-cu12>=2.19 in /opt/conda/lib/python3.12/site-packages (from raft-dask-cu12==25.8.*) (2.21.5)\n",
      "Requirement already satisfied: libcuvs-cu12==25.8.* in /opt/conda/lib/python3.12/site-packages (from cuvs-cu12==25.8.*) (25.8.0)\n",
      "Requirement already satisfied: zict>=2.0.0 in /opt/conda/lib/python3.12/site-packages (from dask-cuda==25.8.*->cuml-cu12==25.8.*) (3.0.0)\n",
      "Requirement already satisfied: ucxx-cu12==0.45.* in /opt/conda/lib/python3.12/site-packages (from distributed-ucxx-cu12==0.45.*->raft-dask-cu12==25.8.*) (0.45.1)\n",
      "Requirement already satisfied: libkvikio-cu12==25.8.* in /opt/conda/lib/python3.12/site-packages (from libcudf-cu12==25.8.*->cudf-cu12==25.8.*) (25.8.0)\n",
      "Requirement already satisfied: librmm-cu12==25.8.* in /opt/conda/lib/python3.12/site-packages (from libcudf-cu12==25.8.*->cudf-cu12==25.8.*) (25.8.0)\n",
      "Requirement already satisfied: rapids-logger==0.1.* in /opt/conda/lib/python3.12/site-packages (from libcudf-cu12==25.8.*->cudf-cu12==25.8.*) (0.1.1)\n",
      "Requirement already satisfied: dask==2025.7.0 in /opt/conda/lib/python3.12/site-packages (from rapids-dask-dependency==25.8.*->dask-cudf-cu12==25.8.*) (2025.7.0)\n",
      "Requirement already satisfied: distributed==2025.7.0 in /opt/conda/lib/python3.12/site-packages (from rapids-dask-dependency==25.8.*->dask-cudf-cu12==25.8.*) (2025.7.0)\n",
      "Requirement already satisfied: libucx-cu12<1.19,>=1.15.0 in /opt/conda/lib/python3.12/site-packages (from ucx-py-cu12==0.45.*->cugraph-cu12==25.8.*) (1.18.1)\n",
      "Requirement already satisfied: cloudpickle>=3.0.0 in /opt/conda/lib/python3.12/site-packages (from dask==2025.7.0->rapids-dask-dependency==25.8.*->dask-cudf-cu12==25.8.*) (3.1.1)\n",
      "Requirement already satisfied: partd>=1.4.0 in /opt/conda/lib/python3.12/site-packages (from dask==2025.7.0->rapids-dask-dependency==25.8.*->dask-cudf-cu12==25.8.*) (1.4.2)\n",
      "Requirement already satisfied: pyyaml>=5.3.1 in /opt/conda/lib/python3.12/site-packages (from dask==2025.7.0->rapids-dask-dependency==25.8.*->dask-cudf-cu12==25.8.*) (6.0.2)\n",
      "Requirement already satisfied: toolz>=0.10.0 in /opt/conda/lib/python3.12/site-packages (from dask==2025.7.0->rapids-dask-dependency==25.8.*->dask-cudf-cu12==25.8.*) (1.0.0)\n",
      "Requirement already satisfied: jinja2>=2.10.3 in /opt/conda/lib/python3.12/site-packages (from distributed==2025.7.0->rapids-dask-dependency==25.8.*->dask-cudf-cu12==25.8.*) (3.1.5)\n",
      "Requirement already satisfied: locket>=1.0.0 in /opt/conda/lib/python3.12/site-packages (from distributed==2025.7.0->rapids-dask-dependency==25.8.*->dask-cudf-cu12==25.8.*) (1.0.0)\n",
      "Requirement already satisfied: msgpack>=1.0.2 in /opt/conda/lib/python3.12/site-packages (from distributed==2025.7.0->rapids-dask-dependency==25.8.*->dask-cudf-cu12==25.8.*) (1.1.0)\n",
      "Requirement already satisfied: psutil>=5.8.0 in /opt/conda/lib/python3.12/site-packages (from distributed==2025.7.0->rapids-dask-dependency==25.8.*->dask-cudf-cu12==25.8.*) (7.0.0)\n",
      "Requirement already satisfied: sortedcontainers>=2.0.5 in /opt/conda/lib/python3.12/site-packages (from distributed==2025.7.0->rapids-dask-dependency==25.8.*->dask-cudf-cu12==25.8.*) (2.4.0)\n",
      "Requirement already satisfied: tblib>=1.6.0 in /opt/conda/lib/python3.12/site-packages (from distributed==2025.7.0->rapids-dask-dependency==25.8.*->dask-cudf-cu12==25.8.*) (3.0.0)\n",
      "Requirement already satisfied: tornado>=6.2.0 in /opt/conda/lib/python3.12/site-packages (from distributed==2025.7.0->rapids-dask-dependency==25.8.*->dask-cudf-cu12==25.8.*) (6.4.2)\n",
      "Requirement already satisfied: urllib3>=1.26.5 in /opt/conda/lib/python3.12/site-packages (from distributed==2025.7.0->rapids-dask-dependency==25.8.*->dask-cudf-cu12==25.8.*) (2.3.0)\n",
      "Requirement already satisfied: libucxx-cu12==0.45.* in /opt/conda/lib/python3.12/site-packages (from ucxx-cu12==0.45.*->distributed-ucxx-cu12==0.45.*->raft-dask-cu12==25.8.*) (0.45.1)\n",
      "Requirement already satisfied: contourpy>=1.2 in /opt/conda/lib/python3.12/site-packages (from bokeh<=3.6.3,>=3.1->cuxfilter-cu12==25.8.*) (1.3.1)\n",
      "Requirement already satisfied: pillow>=7.1.0 in /opt/conda/lib/python3.12/site-packages (from bokeh<=3.6.3,>=3.1->cuxfilter-cu12==25.8.*) (11.1.0)\n",
      "Requirement already satisfied: xyzservices>=2021.09.1 in /opt/conda/lib/python3.12/site-packages (from bokeh<=3.6.3,>=3.1->cuxfilter-cu12==25.8.*) (2025.1.0)\n",
      "Requirement already satisfied: cuda-bindings~=12.9.2 in /opt/conda/lib/python3.12/site-packages (from cuda-python<13.0a0,>=12.6.2->cudf-cu12==25.8.*) (12.9.2)\n",
      "Requirement already satisfied: fastrlock>=0.5 in /opt/conda/lib/python3.12/site-packages (from cupy-cuda12x>=12.0.0->cudf-cu12==25.8.*) (0.8.3)\n",
      "Requirement already satisfied: colorcet in /opt/conda/lib/python3.12/site-packages (from datashader>=0.15->cuxfilter-cu12==25.8.*) (3.1.0)\n",
      "Requirement already satisfied: multipledispatch in /opt/conda/lib/python3.12/site-packages (from datashader>=0.15->cuxfilter-cu12==25.8.*) (1.0.0)\n",
      "Requirement already satisfied: param in /opt/conda/lib/python3.12/site-packages (from datashader>=0.15->cuxfilter-cu12==25.8.*) (2.2.1)\n",
      "Requirement already satisfied: pyct in /opt/conda/lib/python3.12/site-packages (from datashader>=0.15->cuxfilter-cu12==25.8.*) (0.5.0)\n",
      "Requirement already satisfied: requests in /opt/conda/lib/python3.12/site-packages (from datashader>=0.15->cuxfilter-cu12==25.8.*) (2.32.3)\n",
      "Requirement already satisfied: xarray in /opt/conda/lib/python3.12/site-packages (from datashader>=0.15->cuxfilter-cu12==25.8.*) (2025.8.0)\n",
      "Requirement already satisfied: aiohttp!=4.0.0a0,!=4.0.0a1 in /opt/conda/lib/python3.12/site-packages (from fsspec[http]>=0.6.0->cugraph-cu12==25.8.*) (3.12.15)\n",
      "Requirement already satisfied: pyogrio>=0.7.2 in /opt/conda/lib/python3.12/site-packages (from geopandas>=0.11.0->cuxfilter-cu12==25.8.*) (0.11.1)\n",
      "Requirement already satisfied: pyproj>=3.5.0 in /opt/conda/lib/python3.12/site-packages (from geopandas>=0.11.0->cuxfilter-cu12==25.8.*) (3.7.2)\n",
      "Requirement already satisfied: pyviz-comms>=2.1 in /opt/conda/lib/python3.12/site-packages (from holoviews<1.21.0a0,>=1.16.0->cuxfilter-cu12==25.8.*) (3.0.6)\n",
      "Requirement already satisfied: llvmlite<0.45,>=0.44.0dev0 in /opt/conda/lib/python3.12/site-packages (from numba<0.62.0a0,>=0.59.1->cudf-cu12==25.8.*) (0.44.0)\n",
      "Requirement already satisfied: nvidia-cuda-runtime-cu12 in /opt/conda/lib/python3.12/site-packages (from numba-cuda[cu12]<0.15.0a0,>=0.14.0->cudf-cu12==25.8.*) (12.6.77)\n",
      "Requirement already satisfied: nvidia-cuda-cccl-cu12 in /opt/conda/lib/python3.12/site-packages (from numba-cuda[cu12]<0.15.0a0,>=0.14.0->cudf-cu12==25.8.*) (12.9.27)\n",
      "Requirement already satisfied: python-dateutil>=2.8.2 in /opt/conda/lib/python3.12/site-packages (from pandas<2.4.0dev0,>=2.0->cudf-cu12==25.8.*) (2.9.0.post0)\n",
      "Requirement already satisfied: pytz>=2020.1 in /opt/conda/lib/python3.12/site-packages (from pandas<2.4.0dev0,>=2.0->cudf-cu12==25.8.*) (2024.1)\n",
      "Requirement already satisfied: tzdata>=2022.7 in /opt/conda/lib/python3.12/site-packages (from pandas<2.4.0dev0,>=2.0->cudf-cu12==25.8.*) (2025.1)\n",
      "Requirement already satisfied: bleach in /opt/conda/lib/python3.12/site-packages (from panel>=1.0->cuxfilter-cu12==25.8.*) (6.2.0)\n",
      "Requirement already satisfied: linkify-it-py in /opt/conda/lib/python3.12/site-packages (from panel>=1.0->cuxfilter-cu12==25.8.*) (2.0.3)\n",
      "Requirement already satisfied: markdown in /opt/conda/lib/python3.12/site-packages (from panel>=1.0->cuxfilter-cu12==25.8.*) (3.7)\n",
      "Requirement already satisfied: markdown-it-py in /opt/conda/lib/python3.12/site-packages (from panel>=1.0->cuxfilter-cu12==25.8.*) (3.0.0)\n",
      "Requirement already satisfied: mdit-py-plugins in /opt/conda/lib/python3.12/site-packages (from panel>=1.0->cuxfilter-cu12==25.8.*) (0.5.0)\n",
      "Requirement already satisfied: tqdm in /opt/conda/lib/python3.12/site-packages (from panel>=1.0->cuxfilter-cu12==25.8.*) (4.67.1)\n",
      "Requirement already satisfied: nvidia-ml-py<13.0.0a0,>=12.0.0 in /opt/conda/lib/python3.12/site-packages (from pynvml<13.0.0a0,>=12.0.0->dask-cudf-cu12==25.8.*) (12.575.51)\n",
      "Requirement already satisfied: imageio!=2.35.0,>=2.33 in /opt/conda/lib/python3.12/site-packages (from scikit-image<0.26.0a0,>=0.19.0->cucim-cu12==25.8.*) (2.37.0)\n",
      "Requirement already satisfied: tifffile>=2022.8.12 in /opt/conda/lib/python3.12/site-packages (from scikit-image<0.26.0a0,>=0.19.0->cucim-cu12==25.8.*) (2025.2.18)\n",
      "Requirement already satisfied: threadpoolctl>=3.1.0 in /opt/conda/lib/python3.12/site-packages (from scikit-learn>=1.4->cuml-cu12==25.8.*) (3.5.0)\n",
      "Requirement already satisfied: jupyter-server>=1.24.0 in /opt/conda/lib/python3.12/site-packages (from jupyter-server-proxy->cuxfilter-cu12==25.8.*) (2.15.0)\n",
      "Requirement already satisfied: simpervisor>=1.0.0 in /opt/conda/lib/python3.12/site-packages (from jupyter-server-proxy->cuxfilter-cu12==25.8.*) (1.0.0)\n",
      "Requirement already satisfied: traitlets>=5.1.0 in /opt/conda/lib/python3.12/site-packages (from jupyter-server-proxy->cuxfilter-cu12==25.8.*) (5.14.3)\n",
      "Requirement already satisfied: nvidia-nvjitlink-cu12 in /opt/conda/lib/python3.12/site-packages (from nvidia-cufft-cu12->cuml-cu12==25.8.*) (12.6.85)\n",
      "Requirement already satisfied: pygments<3.0.0,>=2.13.0 in /opt/conda/lib/python3.12/site-packages (from rich->cudf-cu12==25.8.*) (2.19.1)\n",
      "Requirement already satisfied: aiohappyeyeballs>=2.5.0 in /opt/conda/lib/python3.12/site-packages (from aiohttp!=4.0.0a0,!=4.0.0a1->fsspec[http]>=0.6.0->cugraph-cu12==25.8.*) (2.6.1)\n",
      "Requirement already satisfied: aiosignal>=1.4.0 in /opt/conda/lib/python3.12/site-packages (from aiohttp!=4.0.0a0,!=4.0.0a1->fsspec[http]>=0.6.0->cugraph-cu12==25.8.*) (1.4.0)\n",
      "Requirement already satisfied: attrs>=17.3.0 in /opt/conda/lib/python3.12/site-packages (from aiohttp!=4.0.0a0,!=4.0.0a1->fsspec[http]>=0.6.0->cugraph-cu12==25.8.*) (25.1.0)\n",
      "Requirement already satisfied: frozenlist>=1.1.1 in /opt/conda/lib/python3.12/site-packages (from aiohttp!=4.0.0a0,!=4.0.0a1->fsspec[http]>=0.6.0->cugraph-cu12==25.8.*) (1.7.0)\n",
      "Requirement already satisfied: multidict<7.0,>=4.5 in /opt/conda/lib/python3.12/site-packages (from aiohttp!=4.0.0a0,!=4.0.0a1->fsspec[http]>=0.6.0->cugraph-cu12==25.8.*) (6.6.4)\n",
      "Requirement already satisfied: propcache>=0.2.0 in /opt/conda/lib/python3.12/site-packages (from aiohttp!=4.0.0a0,!=4.0.0a1->fsspec[http]>=0.6.0->cugraph-cu12==25.8.*) (0.3.2)\n",
      "Requirement already satisfied: yarl<2.0,>=1.17.0 in /opt/conda/lib/python3.12/site-packages (from aiohttp!=4.0.0a0,!=4.0.0a1->fsspec[http]>=0.6.0->cugraph-cu12==25.8.*) (1.20.1)\n",
      "Requirement already satisfied: cuda-pathfinder~=1.1 in /opt/conda/lib/python3.12/site-packages (from cuda-bindings~=12.9.2->cuda-python<13.0a0,>=12.6.2->cudf-cu12==25.8.*) (1.2.1)\n",
      "Requirement already satisfied: MarkupSafe>=2.0 in /opt/conda/lib/python3.12/site-packages (from jinja2>=2.10.3->distributed==2025.7.0->rapids-dask-dependency==25.8.*->dask-cudf-cu12==25.8.*) (3.0.2)\n",
      "Requirement already satisfied: anyio>=3.1.0 in /opt/conda/lib/python3.12/site-packages (from jupyter-server>=1.24.0->jupyter-server-proxy->cuxfilter-cu12==25.8.*) (4.8.0)\n",
      "Requirement already satisfied: argon2-cffi>=21.1 in /opt/conda/lib/python3.12/site-packages (from jupyter-server>=1.24.0->jupyter-server-proxy->cuxfilter-cu12==25.8.*) (23.1.0)\n",
      "Requirement already satisfied: jupyter-client>=7.4.4 in /opt/conda/lib/python3.12/site-packages (from jupyter-server>=1.24.0->jupyter-server-proxy->cuxfilter-cu12==25.8.*) (8.6.3)\n",
      "Requirement already satisfied: jupyter-core!=5.0.*,>=4.12 in /opt/conda/lib/python3.12/site-packages (from jupyter-server>=1.24.0->jupyter-server-proxy->cuxfilter-cu12==25.8.*) (5.7.2)\n",
      "Requirement already satisfied: jupyter-events>=0.11.0 in /opt/conda/lib/python3.12/site-packages (from jupyter-server>=1.24.0->jupyter-server-proxy->cuxfilter-cu12==25.8.*) (0.12.0)\n",
      "Requirement already satisfied: jupyter-server-terminals>=0.4.4 in /opt/conda/lib/python3.12/site-packages (from jupyter-server>=1.24.0->jupyter-server-proxy->cuxfilter-cu12==25.8.*) (0.5.3)\n",
      "Requirement already satisfied: nbconvert>=6.4.4 in /opt/conda/lib/python3.12/site-packages (from jupyter-server>=1.24.0->jupyter-server-proxy->cuxfilter-cu12==25.8.*) (7.16.6)\n",
      "Requirement already satisfied: nbformat>=5.3.0 in /opt/conda/lib/python3.12/site-packages (from jupyter-server>=1.24.0->jupyter-server-proxy->cuxfilter-cu12==25.8.*) (5.10.4)\n",
      "Requirement already satisfied: overrides>=5.0 in /opt/conda/lib/python3.12/site-packages (from jupyter-server>=1.24.0->jupyter-server-proxy->cuxfilter-cu12==25.8.*) (7.7.0)\n",
      "Requirement already satisfied: prometheus-client>=0.9 in /opt/conda/lib/python3.12/site-packages (from jupyter-server>=1.24.0->jupyter-server-proxy->cuxfilter-cu12==25.8.*) (0.21.1)\n",
      "Requirement already satisfied: pyzmq>=24 in /opt/conda/lib/python3.12/site-packages (from jupyter-server>=1.24.0->jupyter-server-proxy->cuxfilter-cu12==25.8.*) (26.2.1)\n",
      "Requirement already satisfied: send2trash>=1.8.2 in /opt/conda/lib/python3.12/site-packages (from jupyter-server>=1.24.0->jupyter-server-proxy->cuxfilter-cu12==25.8.*) (1.8.3)\n",
      "Requirement already satisfied: terminado>=0.8.3 in /opt/conda/lib/python3.12/site-packages (from jupyter-server>=1.24.0->jupyter-server-proxy->cuxfilter-cu12==25.8.*) (0.18.1)\n",
      "Requirement already satisfied: websocket-client>=1.7 in /opt/conda/lib/python3.12/site-packages (from jupyter-server>=1.24.0->jupyter-server-proxy->cuxfilter-cu12==25.8.*) (1.8.0)\n",
      "Requirement already satisfied: mdurl~=0.1 in /opt/conda/lib/python3.12/site-packages (from markdown-it-py->panel>=1.0->cuxfilter-cu12==25.8.*) (0.1.2)\n",
      "Requirement already satisfied: certifi in /opt/conda/lib/python3.12/site-packages (from pyogrio>=0.7.2->geopandas>=0.11.0->cuxfilter-cu12==25.8.*) (2025.1.31)\n",
      "Requirement already satisfied: six>=1.5 in /opt/conda/lib/python3.12/site-packages (from python-dateutil>=2.8.2->pandas<2.4.0dev0,>=2.0->cudf-cu12==25.8.*) (1.17.0)\n",
      "Requirement already satisfied: webencodings in /opt/conda/lib/python3.12/site-packages (from bleach->panel>=1.0->cuxfilter-cu12==25.8.*) (0.5.1)\n",
      "Requirement already satisfied: uc-micro-py in /opt/conda/lib/python3.12/site-packages (from linkify-it-py->panel>=1.0->cuxfilter-cu12==25.8.*) (1.0.3)\n",
      "Requirement already satisfied: charset_normalizer<4,>=2 in /opt/conda/lib/python3.12/site-packages (from requests->datashader>=0.15->cuxfilter-cu12==25.8.*) (3.4.1)\n",
      "Requirement already satisfied: idna<4,>=2.5 in /opt/conda/lib/python3.12/site-packages (from requests->datashader>=0.15->cuxfilter-cu12==25.8.*) (3.10)\n",
      "Requirement already satisfied: sniffio>=1.1 in /opt/conda/lib/python3.12/site-packages (from anyio>=3.1.0->jupyter-server>=1.24.0->jupyter-server-proxy->cuxfilter-cu12==25.8.*) (1.3.1)\n",
      "Requirement already satisfied: argon2-cffi-bindings in /opt/conda/lib/python3.12/site-packages (from argon2-cffi>=21.1->jupyter-server>=1.24.0->jupyter-server-proxy->cuxfilter-cu12==25.8.*) (21.2.0)\n",
      "Requirement already satisfied: platformdirs>=2.5 in /opt/conda/lib/python3.12/site-packages (from jupyter-core!=5.0.*,>=4.12->jupyter-server>=1.24.0->jupyter-server-proxy->cuxfilter-cu12==25.8.*) (4.3.6)\n",
      "Requirement already satisfied: jsonschema>=4.18.0 in /opt/conda/lib/python3.12/site-packages (from jsonschema[format-nongpl]>=4.18.0->jupyter-events>=0.11.0->jupyter-server>=1.24.0->jupyter-server-proxy->cuxfilter-cu12==25.8.*) (4.23.0)\n",
      "Requirement already satisfied: python-json-logger>=2.0.4 in /opt/conda/lib/python3.12/site-packages (from jupyter-events>=0.11.0->jupyter-server>=1.24.0->jupyter-server-proxy->cuxfilter-cu12==25.8.*) (2.0.7)\n",
      "Requirement already satisfied: referencing in /opt/conda/lib/python3.12/site-packages (from jupyter-events>=0.11.0->jupyter-server>=1.24.0->jupyter-server-proxy->cuxfilter-cu12==25.8.*) (0.36.2)\n",
      "Requirement already satisfied: rfc3339-validator in /opt/conda/lib/python3.12/site-packages (from jupyter-events>=0.11.0->jupyter-server>=1.24.0->jupyter-server-proxy->cuxfilter-cu12==25.8.*) (0.1.4)\n",
      "Requirement already satisfied: rfc3986-validator>=0.1.1 in /opt/conda/lib/python3.12/site-packages (from jupyter-events>=0.11.0->jupyter-server>=1.24.0->jupyter-server-proxy->cuxfilter-cu12==25.8.*) (0.1.1)\n",
      "Requirement already satisfied: beautifulsoup4 in /opt/conda/lib/python3.12/site-packages (from nbconvert>=6.4.4->jupyter-server>=1.24.0->jupyter-server-proxy->cuxfilter-cu12==25.8.*) (4.13.3)\n",
      "Requirement already satisfied: defusedxml in /opt/conda/lib/python3.12/site-packages (from nbconvert>=6.4.4->jupyter-server>=1.24.0->jupyter-server-proxy->cuxfilter-cu12==25.8.*) (0.7.1)\n",
      "Requirement already satisfied: jupyterlab-pygments in /opt/conda/lib/python3.12/site-packages (from nbconvert>=6.4.4->jupyter-server>=1.24.0->jupyter-server-proxy->cuxfilter-cu12==25.8.*) (0.3.0)\n",
      "Requirement already satisfied: mistune<4,>=2.0.3 in /opt/conda/lib/python3.12/site-packages (from nbconvert>=6.4.4->jupyter-server>=1.24.0->jupyter-server-proxy->cuxfilter-cu12==25.8.*) (3.1.2)\n",
      "Requirement already satisfied: nbclient>=0.5.0 in /opt/conda/lib/python3.12/site-packages (from nbconvert>=6.4.4->jupyter-server>=1.24.0->jupyter-server-proxy->cuxfilter-cu12==25.8.*) (0.10.2)\n",
      "Requirement already satisfied: pandocfilters>=1.4.1 in /opt/conda/lib/python3.12/site-packages (from nbconvert>=6.4.4->jupyter-server>=1.24.0->jupyter-server-proxy->cuxfilter-cu12==25.8.*) (1.5.0)\n",
      "Requirement already satisfied: fastjsonschema>=2.15 in /opt/conda/lib/python3.12/site-packages (from nbformat>=5.3.0->jupyter-server>=1.24.0->jupyter-server-proxy->cuxfilter-cu12==25.8.*) (2.21.1)\n",
      "Requirement already satisfied: ptyprocess in /opt/conda/lib/python3.12/site-packages (from terminado>=0.8.3->jupyter-server>=1.24.0->jupyter-server-proxy->cuxfilter-cu12==25.8.*) (0.7.0)\n",
      "Requirement already satisfied: tinycss2<1.5,>=1.1.0 in /opt/conda/lib/python3.12/site-packages (from bleach[css]!=5.0.0->nbconvert>=6.4.4->jupyter-server>=1.24.0->jupyter-server-proxy->cuxfilter-cu12==25.8.*) (1.4.0)\n",
      "Requirement already satisfied: jsonschema-specifications>=2023.03.6 in /opt/conda/lib/python3.12/site-packages (from jsonschema>=4.18.0->jsonschema[format-nongpl]>=4.18.0->jupyter-events>=0.11.0->jupyter-server>=1.24.0->jupyter-server-proxy->cuxfilter-cu12==25.8.*) (2024.10.1)\n",
      "Requirement already satisfied: rpds-py>=0.7.1 in /opt/conda/lib/python3.12/site-packages (from jsonschema>=4.18.0->jsonschema[format-nongpl]>=4.18.0->jupyter-events>=0.11.0->jupyter-server>=1.24.0->jupyter-server-proxy->cuxfilter-cu12==25.8.*) (0.23.1)\n",
      "Requirement already satisfied: fqdn in /opt/conda/lib/python3.12/site-packages (from jsonschema[format-nongpl]>=4.18.0->jupyter-events>=0.11.0->jupyter-server>=1.24.0->jupyter-server-proxy->cuxfilter-cu12==25.8.*) (1.5.1)\n",
      "Requirement already satisfied: isoduration in /opt/conda/lib/python3.12/site-packages (from jsonschema[format-nongpl]>=4.18.0->jupyter-events>=0.11.0->jupyter-server>=1.24.0->jupyter-server-proxy->cuxfilter-cu12==25.8.*) (20.11.0)\n",
      "Requirement already satisfied: jsonpointer>1.13 in /opt/conda/lib/python3.12/site-packages (from jsonschema[format-nongpl]>=4.18.0->jupyter-events>=0.11.0->jupyter-server>=1.24.0->jupyter-server-proxy->cuxfilter-cu12==25.8.*) (3.0.0)\n",
      "Requirement already satisfied: uri-template in /opt/conda/lib/python3.12/site-packages (from jsonschema[format-nongpl]>=4.18.0->jupyter-events>=0.11.0->jupyter-server>=1.24.0->jupyter-server-proxy->cuxfilter-cu12==25.8.*) (1.3.0)\n",
      "Requirement already satisfied: webcolors>=24.6.0 in /opt/conda/lib/python3.12/site-packages (from jsonschema[format-nongpl]>=4.18.0->jupyter-events>=0.11.0->jupyter-server>=1.24.0->jupyter-server-proxy->cuxfilter-cu12==25.8.*) (24.11.1)\n",
      "Requirement already satisfied: cffi>=1.0.1 in /opt/conda/lib/python3.12/site-packages (from argon2-cffi-bindings->argon2-cffi>=21.1->jupyter-server>=1.24.0->jupyter-server-proxy->cuxfilter-cu12==25.8.*) (1.17.1)\n",
      "Requirement already satisfied: soupsieve>1.2 in /opt/conda/lib/python3.12/site-packages (from beautifulsoup4->nbconvert>=6.4.4->jupyter-server>=1.24.0->jupyter-server-proxy->cuxfilter-cu12==25.8.*) (2.5)\n",
      "Requirement already satisfied: pycparser in /opt/conda/lib/python3.12/site-packages (from cffi>=1.0.1->argon2-cffi-bindings->argon2-cffi>=21.1->jupyter-server>=1.24.0->jupyter-server-proxy->cuxfilter-cu12==25.8.*) (2.22)\n",
      "Requirement already satisfied: arrow>=0.15.0 in /opt/conda/lib/python3.12/site-packages (from isoduration->jsonschema[format-nongpl]>=4.18.0->jupyter-events>=0.11.0->jupyter-server>=1.24.0->jupyter-server-proxy->cuxfilter-cu12==25.8.*) (1.3.0)\n",
      "Requirement already satisfied: types-python-dateutil>=2.8.10 in /opt/conda/lib/python3.12/site-packages (from arrow>=0.15.0->isoduration->jsonschema[format-nongpl]>=4.18.0->jupyter-events>=0.11.0->jupyter-server>=1.24.0->jupyter-server-proxy->cuxfilter-cu12==25.8.*) (2.9.0.20241206)\n",
      "Looking in indexes: https://pypi.org/simple, https://pypi.ngc.nvidia.com\n",
      "Requirement already satisfied: cupy-cuda12x in /opt/conda/lib/python3.12/site-packages (13.6.0)\n",
      "Requirement already satisfied: cutensor-cu12 in /opt/conda/lib/python3.12/site-packages (2.3.0)\n",
      "Requirement already satisfied: nvidia-nccl-cu12 in /opt/conda/lib/python3.12/site-packages (2.21.5)\n",
      "Requirement already satisfied: numpy<2.6,>=1.22 in /opt/conda/lib/python3.12/site-packages (from cupy-cuda12x) (2.0.2)\n",
      "Requirement already satisfied: fastrlock>=0.5 in /opt/conda/lib/python3.12/site-packages (from cupy-cuda12x) (0.8.3)\n"
     ]
    }
   ],
   "source": [
    "# https://rapids.ai/cudf-pandas/\n",
    "\n",
    "!pip install \\\n",
    "    --extra-index-url=https://pypi.nvidia.com \\\n",
    "    \"cudf-cu12==25.8.*\" \"dask-cudf-cu12==25.8.*\" \"cuml-cu12==25.8.*\" \\\n",
    "    \"cugraph-cu12==25.8.*\" \"nx-cugraph-cu12==25.8.*\" \"cuxfilter-cu12==25.8.*\" \\\n",
    "    \"cucim-cu12==25.8.*\" \"pylibraft-cu12==25.8.*\" \"raft-dask-cu12==25.8.*\" \\\n",
    "    \"cuvs-cu12==25.8.*\" \"nx-cugraph-cu12==25.8.*\"\n",
    "\n",
    "!pip install cupy-cuda12x cutensor-cu12 nvidia-nccl-cu12"
   ]
  },
  {
   "cell_type": "code",
   "execution_count": 19,
   "id": "213cacee-acd1-4d47-9ee2-db1d46eb2cc4",
   "metadata": {},
   "outputs": [],
   "source": [
    "import cudf as pd\n",
    "import sklearn\n",
    "import cuml\n",
    "from sklearn import config_context\n",
    "from cuml.ensemble import RandomForestRegressor\n",
    "# from sklearn.ensemble import RandomForestRegressor\n",
    "from cuml.model_selection import train_test_split\n",
    "from sklearn.metrics import classification_report, confusion_matrix, accuracy_score\n",
    "from sklearn.datasets import fetch_california_housing\n",
    "import cupy as cp\n"
   ]
  },
  {
   "cell_type": "code",
   "execution_count": 10,
   "id": "8427132c-21e1-4189-a721-eb8db80d8545",
   "metadata": {
    "editable": true,
    "slideshow": {
     "slide_type": ""
    },
    "tags": []
   },
   "outputs": [],
   "source": [
    "cp.random.seed(0)\n",
    "\n",
    "housing = fetch_california_housing()\n",
    "housing_df = pd.DataFrame(housing['data'], columns=housing['feature_names'])\n",
    "housing_df['target'] = housing['target']\n",
    "# X = cp.asarray(housing['data'])\n",
    "# y = cp.asarray(housing['target'])"
   ]
  },
  {
   "cell_type": "code",
   "execution_count": 11,
   "id": "633ad3cc-f2a3-4927-8f12-873651ca66b9",
   "metadata": {},
   "outputs": [],
   "source": [
    "X = housing_df.drop('target', axis=1)\n",
    "y = housing_df['target']"
   ]
  },
  {
   "cell_type": "code",
   "execution_count": 12,
   "id": "282d9ffd-62c6-4f22-ab0a-bdbbcf1e7ceb",
   "metadata": {},
   "outputs": [],
   "source": [
    "X_train, X_test, y_train, y_test = train_test_split(X, y, test_size=0.2)"
   ]
  },
  {
   "cell_type": "code",
   "execution_count": 13,
   "id": "00610ee6-0b10-48ab-96a5-c6a1a046c1c7",
   "metadata": {},
   "outputs": [
    {
     "name": "stdout",
     "output_type": "stream",
     "text": [
      "CPU times: user 7.71 s, sys: 6.03 s, total: 13.7 s\n",
      "Wall time: 4.79 s\n"
     ]
    }
   ],
   "source": [
    "%%time\n",
    "reg = RandomForestRegressor(n_estimators=1000)\n",
    "fitted_reg = reg.fit(X_train, y_train)\n",
    "# Took 800 s on CPU, 48.5 s on GPU"
   ]
  },
  {
   "cell_type": "code",
   "execution_count": 14,
   "id": "8261b6ca-19c1-409b-a0e4-d5abc41de4ae",
   "metadata": {
    "scrolled": true
   },
   "outputs": [
    {
     "name": "stdout",
     "output_type": "stream",
     "text": [
      "Warning: LOW SCORE on training set: 0.9650308855730303\n",
      "CPU times: user 3.27 s, sys: 1.67 s, total: 4.94 s\n",
      "Wall time: 2.91 s\n"
     ]
    }
   ],
   "source": [
    "%%time\n",
    "train_score = fitted_reg.score(X_train, y_train) # should return 1.0 since training data is already known!\n",
    "# So if the model is powerful enough it'll score the max value.\n",
    "if train_score < 1:\n",
    "    print(f'Warning: LOW SCORE on training set: {train_score}')"
   ]
  },
  {
   "cell_type": "code",
   "execution_count": 15,
   "id": "2c13d4e2-aa5c-45c1-95f5-2a885a0215f1",
   "metadata": {},
   "outputs": [
    {
     "name": "stdout",
     "output_type": "stream",
     "text": [
      "CPU times: user 1.33 s, sys: 629 ms, total: 1.96 s\n",
      "Wall time: 1.95 s\n"
     ]
    }
   ],
   "source": [
    "%%time\n",
    "prediction = fitted_reg.predict(X_test)"
   ]
  },
  {
   "cell_type": "code",
   "execution_count": 22,
   "id": "5b9acb67-49cb-443b-bffe-e856bc34b30d",
   "metadata": {},
   "outputs": [
    {
     "name": "stdout",
     "output_type": "stream",
     "text": [
      "CPU times: user 1.6 ms, sys: 8.74 ms, total: 10.3 ms\n",
      "Wall time: 9.71 ms\n"
     ]
    },
    {
     "data": {
      "text/plain": [
       "0.8083165807359329"
      ]
     },
     "execution_count": 22,
     "metadata": {},
     "output_type": "execute_result"
    }
   ],
   "source": [
    "%%time\n",
    "sci_r2_score = sklearn.metrics.r2_score(cp.asnumpy(y_test), cp.asnumpy(prediction))\n",
    "sci_r2_score"
   ]
  },
  {
   "cell_type": "code",
   "execution_count": 23,
   "id": "1c9111c3-6d6f-4a84-8356-c85345916397",
   "metadata": {},
   "outputs": [
    {
     "name": "stdout",
     "output_type": "stream",
     "text": [
      "CPU times: user 2.71 ms, sys: 0 ns, total: 2.71 ms\n",
      "Wall time: 2.44 ms\n"
     ]
    },
    {
     "data": {
      "text/plain": [
       "0.8083165807359329"
      ]
     },
     "execution_count": 23,
     "metadata": {},
     "output_type": "execute_result"
    }
   ],
   "source": [
    "%%time\n",
    "cuml_r2_score = cuml.metrics.r2_score(y_test, prediction)\n",
    "cuml_r2_score"
   ]
  },
  {
   "cell_type": "code",
   "execution_count": null,
   "id": "a07a3b56-0640-4819-bfad-536cc35e83b9",
   "metadata": {},
   "outputs": [],
   "source": []
  }
 ],
 "metadata": {
  "kernelspec": {
   "display_name": "Python 3 (ipykernel)",
   "language": "python",
   "name": "python3"
  },
  "language_info": {
   "codemirror_mode": {
    "name": "ipython",
    "version": 3
   },
   "file_extension": ".py",
   "mimetype": "text/x-python",
   "name": "python",
   "nbconvert_exporter": "python",
   "pygments_lexer": "ipython3",
   "version": "3.12.9"
  }
 },
 "nbformat": 4,
 "nbformat_minor": 5
}

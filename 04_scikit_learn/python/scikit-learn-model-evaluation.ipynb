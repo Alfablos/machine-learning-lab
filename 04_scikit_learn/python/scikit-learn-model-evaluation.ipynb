{
 "cells": [
  {
   "cell_type": "markdown",
   "id": "dcfb36bf-d9c2-400e-a5b0-f935a0cd2c94",
   "metadata": {},
   "source": [
    "# Evaluating a model\n",
    "\n",
    "1. Estimator's buitin  `score()` method. See [Coefficient of Determination (R<sup>2</sup>)](https://www.sciencedirect.com/topics/mathematics/determination-coefficient)\n",
    "2. The `scoring` parameter. See [Cross-validation](https://scikit-learn.org/stable/modules/cross_validation.html)\n",
    "3. Problem-specific metric functions\n",
    "\n",
    "Read mode: [Scikit-Learn Model Evaluation](https://scikit-learn.org/stable/modules/model_evaluation.html)"
   ]
  },
  {
   "cell_type": "code",
   "execution_count": null,
   "id": "c56c180d-2b9f-4d77-b8c5-6cff60ec1681",
   "metadata": {
    "editable": true,
    "slideshow": {
     "slide_type": ""
    },
    "tags": []
   },
   "outputs": [],
   "source": [
    "# !pip install cupy-cuda12x cutensor-cu12 nvidia-nccl-cu12 nvidia-cudnn-cu112\n",
    "! pip install \"cuml-cu12==25.8.*\" polars"
   ]
  },
  {
   "cell_type": "code",
   "execution_count": 3,
   "id": "85d6714c-66cf-4d63-b7ff-321695bf94c7",
   "metadata": {},
   "outputs": [],
   "source": [
    "import pandas as pd\n",
    "import polars as pl\n",
    "from sklearn.ensemble import RandomForestClassifier, RandomForestRegressor\n",
    "from sklearn.model_selection import train_test_split, cross_val_score\n",
    "from sklearn.metrics import r2_score, mean_absolute_error, mean_squared_error, classification_report, confusion_matrix, ConfusionMatrixDisplay, accuracy_score, roc_curve, roc_auc_score, precision_score, recall_score, f1_score\n",
    "from sklearn.datasets import fetch_california_housing\n",
    "import cupy as cp\n",
    "from cuml.ensemble import RandomForestClassifier as cuRFC, RandomForestRegressor as cuRFR\n",
    "import matplotlib.pyplot as plt\n",
    "import seaborn as sns\n",
    "import numpy as np"
   ]
  },
  {
   "cell_type": "markdown",
   "id": "472c82d4-d0fd-40a2-a23a-ee7b7588087e",
   "metadata": {},
   "source": [
    "## Estimator's builtin `score()` method"
   ]
  },
  {
   "cell_type": "markdown",
   "id": "09da65c1-824e-492d-b0c3-de72ba90f27f",
   "metadata": {},
   "source": [
    "### Classifiers"
   ]
  },
  {
   "cell_type": "code",
   "execution_count": null,
   "id": "8f3f494d-cd14-4917-a371-40a192b9e102",
   "metadata": {},
   "outputs": [],
   "source": [
    "cp.random.seed(0)\n",
    "\n",
    "hd = pd.read_csv('./heart-disease.csv')"
   ]
  },
  {
   "cell_type": "code",
   "execution_count": null,
   "id": "633ad3cc-f2a3-4927-8f12-873651ca66b9",
   "metadata": {},
   "outputs": [],
   "source": [
    "X = hd.drop('target', axis=1)\n",
    "y = hd['target']"
   ]
  },
  {
   "cell_type": "code",
   "execution_count": null,
   "id": "282d9ffd-62c6-4f22-ab0a-bdbbcf1e7ceb",
   "metadata": {},
   "outputs": [],
   "source": [
    "X_train, X_test, y_train, y_test = train_test_split(X, y, test_size=0.2)"
   ]
  },
  {
   "cell_type": "code",
   "execution_count": null,
   "id": "83b8a880-9403-4044-8971-743b9d5f415d",
   "metadata": {},
   "outputs": [],
   "source": [
    "clf = RandomForestClassifier(n_estimators=100)\n",
    "clf.fit(X_train, y_train);\n",
    "# clf.estimator_params"
   ]
  },
  {
   "cell_type": "code",
   "execution_count": null,
   "id": "1f240eed-051f-42a1-b866-0db6c28bddb5",
   "metadata": {},
   "outputs": [],
   "source": [
    "score = clf.score(X_train, y_train) # should return 1.0 since training data is already known!\n",
    "# So if the model is powerful enough it'll score the max value.\n",
    "score"
   ]
  },
  {
   "cell_type": "code",
   "execution_count": null,
   "id": "fb6704d6-c033-4720-81b4-55cbd82baceb",
   "metadata": {},
   "outputs": [],
   "source": [
    "score = clf.score(X_test, y_test)\n",
    "score"
   ]
  },
  {
   "cell_type": "markdown",
   "id": "0c6851c1-3207-4892-a165-3ae5ea307f9e",
   "metadata": {},
   "source": [
    "### Regressors"
   ]
  },
  {
   "cell_type": "code",
   "execution_count": null,
   "id": "8427132c-21e1-4189-a721-eb8db80d8545",
   "metadata": {},
   "outputs": [],
   "source": [
    "cp.random.seed(0)\n",
    "\n",
    "housing = fetch_california_housing()\n",
    "housing_df = pd.DataFrame(housing['data'], columns=housing['feature_names'])\n",
    "housing_df['target'] = housing['target']"
   ]
  },
  {
   "cell_type": "code",
   "execution_count": null,
   "id": "1182dc12-910e-479b-9f62-a706d6882c61",
   "metadata": {},
   "outputs": [],
   "source": [
    "X = housing_df.drop('target', axis=1)\n",
    "y = housing_df['target']"
   ]
  },
  {
   "cell_type": "code",
   "execution_count": null,
   "id": "774cdf2f-08c2-4eca-94bf-ee85d7c0106e",
   "metadata": {},
   "outputs": [],
   "source": [
    "X_train, X_test, y_train, y_test = train_test_split(X, y, test_size=0.2)"
   ]
  },
  {
   "cell_type": "code",
   "execution_count": null,
   "id": "74adc185-b160-4f4b-aac0-c68a84a46436",
   "metadata": {},
   "outputs": [],
   "source": [
    "reg = RandomForestRegressor(n_estimators=100)\n",
    "reg.fit(X_train, y_train);"
   ]
  },
  {
   "cell_type": "code",
   "execution_count": null,
   "id": "5c29f642-ba08-4bb6-a306-ebafd21a3727",
   "metadata": {},
   "outputs": [],
   "source": [
    "score = reg.score(X_test, y_test)\n",
    "score  # 0.7998221927014879 with 10000 estimators, 0.7999345435994805 with 1000 estimators, 0.7980392453626703 with 100 estimators"
   ]
  },
  {
   "cell_type": "markdown",
   "id": "5ab2e0da-6d17-4fef-92da-19a7f25aade7",
   "metadata": {},
   "source": [
    "## Classifiers evaluation metrics\n",
    "1. **Accuracy**\n",
    "2. **Area under the [Receiver Operating Characteristic (ROC) curve](https://pmc.ncbi.nlm.nih.gov/articles/PMC8831439/) (and ROC_AUC)**\n",
    "3. **Confusion Matrix**\n",
    "4. **Classification report**\n",
    "\n",
    "See [Scikit-Learn Docs - Model Evaluation - Regression Metrics](https://scikit-learn.org/stable/modules/model_evaluation.html#regression-metrics)"
   ]
  },
  {
   "cell_type": "markdown",
   "id": "ce267676-d978-49f8-b210-b4cc977e21b1",
   "metadata": {},
   "source": [
    "#### Accuracy"
   ]
  },
  {
   "cell_type": "code",
   "execution_count": null,
   "id": "fd67370c-e9e4-47ab-a22e-643875ad82d1",
   "metadata": {},
   "outputs": [],
   "source": [
    "cp.random.seed(0)\n",
    "\n",
    "hd = pd.read_csv('./heart-disease.csv')"
   ]
  },
  {
   "cell_type": "code",
   "execution_count": null,
   "id": "bf2cc22a-714e-45fe-90fe-d4037a3cf972",
   "metadata": {},
   "outputs": [],
   "source": [
    "X = hd.drop('target', axis=1)\n",
    "y = hd['target']"
   ]
  },
  {
   "cell_type": "code",
   "execution_count": null,
   "id": "d76386b6-6acd-4861-b315-3ac27bf50c0b",
   "metadata": {},
   "outputs": [],
   "source": [
    "clf = cuRFC(n_estimators=300)"
   ]
  },
  {
   "cell_type": "code",
   "execution_count": null,
   "id": "219002b0-da15-4cfc-ab24-ac4ce1647718",
   "metadata": {},
   "outputs": [],
   "source": [
    "cvs = cross_val_score(clf, X, y, cv=10)\n",
    "cvs = cp.mean(cvs)\n",
    "cvs"
   ]
  },
  {
   "cell_type": "code",
   "execution_count": null,
   "id": "24388b87-5029-4611-b5a9-002b00214324",
   "metadata": {},
   "outputs": [],
   "source": [
    "print(f'Heart disease classifier accuracy: {cvs * 100:.2f}%')"
   ]
  },
  {
   "cell_type": "markdown",
   "id": "cf85f3b8-6cfa-4dba-8f3e-b9de6f59f9dd",
   "metadata": {},
   "source": [
    "#### Area under the Receiver Operating Characteristic (ROC) curve\n",
    "\n",
    "It compares the model's **_True Positive Rate (TPR)_** versus its **_False Positive Rate (FPR)_**."
   ]
  },
  {
   "cell_type": "code",
   "execution_count": null,
   "id": "1ccd0bfe-4ad5-41c1-bf15-d056047bba74",
   "metadata": {},
   "outputs": [],
   "source": [
    "X_train, X_test, y_train, y_test = train_test_split(X, y, test_size=0.2)"
   ]
  },
  {
   "cell_type": "code",
   "execution_count": null,
   "id": "fa10188e-bffb-4bfb-abcb-f814d38b7d33",
   "metadata": {},
   "outputs": [],
   "source": [
    "fitted_clf = clf.fit(X_train, y_train)"
   ]
  },
  {
   "cell_type": "code",
   "execution_count": null,
   "id": "575e8f84-ec98-43f5-b6e9-65f65aad89f4",
   "metadata": {},
   "outputs": [],
   "source": [
    "y_probs = clf.predict_proba(X_test)"
   ]
  },
  {
   "cell_type": "code",
   "execution_count": null,
   "id": "e5ce3100-243f-41b3-a46b-10968135467d",
   "metadata": {},
   "outputs": [],
   "source": [
    "y_probs_positives = y_probs[1]"
   ]
  },
  {
   "cell_type": "code",
   "execution_count": null,
   "id": "ba5e47ad-b15e-4451-b061-ba3029d830e8",
   "metadata": {},
   "outputs": [],
   "source": [
    "fpr, tpr, thresholds = roc_curve(y_test, y_probs_positives)"
   ]
  },
  {
   "cell_type": "code",
   "execution_count": null,
   "id": "6455524d-3d99-434a-8ae7-795948c64380",
   "metadata": {},
   "outputs": [],
   "source": [
    "def plot_roc(fpr, tpr):\n",
    "    roc_fig, ax = plt.subplots()\n",
    "    ax.set_title('Receiver Operating Characteristic (ROC) Curve')\n",
    "    ax.plot(fpr, tpr, color='orange', label='ROC')\n",
    "    ax.plot([0, 1], [0, 1], color='darkblue', label='guessing', linestyle='--')\n",
    "    ax.set_xlabel('False Positive Rate')\n",
    "    ax.set_ylabel('True Positive Rate')\n",
    "    ax.legend()\n",
    "\n",
    "    roc_fig.show()"
   ]
  },
  {
   "cell_type": "code",
   "execution_count": null,
   "id": "6905e48d-5791-424d-b360-70987eafee62",
   "metadata": {},
   "outputs": [],
   "source": [
    "plot_roc(fpr, tpr)"
   ]
  },
  {
   "cell_type": "code",
   "execution_count": null,
   "id": "5f624e84-6ae6-4f3d-b807-75695f3b54e8",
   "metadata": {},
   "outputs": [],
   "source": [
    "roc_auc_sc = roc_auc_score(y_test, y_probs_positives)\n",
    "# 91% of the diagram is covered by the area under the curve"
   ]
  },
  {
   "cell_type": "code",
   "execution_count": null,
   "id": "b9cc6dfa-6463-479f-8797-b4ffd7e57161",
   "metadata": {},
   "outputs": [],
   "source": [
    "train_fpr, train_tpr, train_thresholds = roc_curve(y_test, y_test)    # Passing the y_test as though it were the model's predictions so the score is 1! "
   ]
  },
  {
   "cell_type": "code",
   "execution_count": null,
   "id": "6d512b57-c2c5-4870-97b2-0ad6681345b8",
   "metadata": {},
   "outputs": [],
   "source": [
    "plot_roc(train_fpr, train_tpr)"
   ]
  },
  {
   "cell_type": "code",
   "execution_count": null,
   "id": "29692431-afcd-4d8a-92d8-d124fd6bedca",
   "metadata": {},
   "outputs": [],
   "source": [
    "y_predictions = clf.predict(X_test)"
   ]
  },
  {
   "cell_type": "code",
   "execution_count": null,
   "id": "cc0a9596-1d0f-47a9-b953-acf061852b55",
   "metadata": {},
   "outputs": [],
   "source": [
    "conf_matrix = confusion_matrix(y_test, y_predictions)\n",
    "conf_matrix\n",
    "# array([[20,  4],\n",
    "#      [ 3, 34]])\n",
    "# 20 is where the value is 0 for both actual and predicted (true negative)\n",
    "# 34 is where the value is 1 for both actual and predicted (true positive)\n",
    "# 4 is where the model predicted true but it actually was false (false positive)\n",
    "# 3 is where the model predicted false but it actually was true (false negative)\n",
    "# The main diagonal is where the model did a good job,\n",
    "# the secondary diagonal is where the model is getting confused!"
   ]
  },
  {
   "cell_type": "code",
   "execution_count": null,
   "id": "20a4338f-b3eb-4c39-b790-fb5296add1aa",
   "metadata": {},
   "outputs": [],
   "source": [
    "crosstab = pd.crosstab(y_test,\n",
    "                      y_predictions,\n",
    "                      rownames=['Actual'],\n",
    "                      colnames=['Predicted'])\n",
    "crosstab   # Only one row?!"
   ]
  },
  {
   "cell_type": "code",
   "execution_count": null,
   "id": "4a3791ea-3ec3-4e87-93d5-a73072a36ba3",
   "metadata": {},
   "outputs": [],
   "source": [
    "# Set seaborn font scale to a higher value for readabilirt\n",
    "sns.set(font_scale=1.5)"
   ]
  },
  {
   "cell_type": "code",
   "execution_count": null,
   "id": "42f7e3ae-345f-442f-be39-16f981d2cfcd",
   "metadata": {},
   "outputs": [],
   "source": [
    "sns.heatmap(conf_matrix);"
   ]
  },
  {
   "cell_type": "code",
   "execution_count": null,
   "id": "394e3d7c-d9ef-42f1-93bb-c16c0275af9f",
   "metadata": {},
   "outputs": [],
   "source": [
    "ConfusionMatrixDisplay.from_estimator(estimator=clf, X=X, y=y)"
   ]
  },
  {
   "cell_type": "code",
   "execution_count": null,
   "id": "ee3b008b-971d-4368-a02c-8161f3e2959c",
   "metadata": {},
   "outputs": [],
   "source": [
    "ConfusionMatrixDisplay.from_predictions(y_true=y_test, y_pred=y_predictions)"
   ]
  },
  {
   "cell_type": "markdown",
   "id": "a8b11c37-0bfb-419f-b815-11837dcf6d52",
   "metadata": {},
   "source": [
    "#### Classification Report"
   ]
  },
  {
   "cell_type": "markdown",
   "id": "bc3b4736-2e27-443b-8a23-01a0962ec1cd",
   "metadata": {},
   "source": [
    "**Precision**: Indicates the portion of True Positives **over all the positive cases** (true and false): true_positives/(true_positives + false_positives). A model that produces no false positives has precision 1.0\n",
    "\n",
    "**Recall**: Indicates the portion of True Positives **over all the actual positives** (true positives + false negatives): true_positives/(true_positives + false_negatives). A model that produces no false negatives has recall 1.0\n",
    "\n",
    "**F1**: a harmonic means between the Precision and Recall score: 2 x ((precision * recall)/(precision + recall)). A perfect model has F1 score of 1.0\n",
    "\n",
    "**Accuracy**\n",
    "\n",
    "**Macro avg**: Average of **precision**, **recall** and **F1 score**. Does not take into account **class imbalances**\n",
    "\n",
    "**Weighted avg**: Average of **precision**, **recall** and **F1 score** taking into account how many samples there are per class\n",
    "\n",
    "More on [Scikit-Learn documentation](https://scikit-learn.org/stable/modules/model_evaluation.html#metrics-and-scoring-quantifying-the-quality-of-predictions)"
   ]
  },
  {
   "cell_type": "code",
   "execution_count": null,
   "id": "623f3b01-0d90-4f89-a839-2210e171238a",
   "metadata": {},
   "outputs": [],
   "source": [
    "c_report = classification_report(y_test, y_predictions)"
   ]
  },
  {
   "cell_type": "code",
   "execution_count": null,
   "id": "85bfea8b-4bfe-4dae-a0bd-df032dc4c334",
   "metadata": {},
   "outputs": [],
   "source": [
    "print(c_report)"
   ]
  },
  {
   "cell_type": "code",
   "execution_count": null,
   "id": "733171d1-d288-4814-9554-1318e9969953",
   "metadata": {},
   "outputs": [],
   "source": [
    "c_report = classification_report(y_test, y_predictions, output_dict=True)\n",
    "print(c_report)\n",
    "c_report_df = pd.DataFrame(c_report)\n",
    "c_report_df"
   ]
  },
  {
   "cell_type": "markdown",
   "id": "80d55c2f-3b02-477d-aedb-bfc90c4d1161",
   "metadata": {},
   "source": [
    "## Regressors evaluation metrics\n",
    "\n",
    "1. **R<sup>2</sup> (Coefficient of Determination)**: how much of the prediction on the target (dependent) variable y comes from the independent variables in x (feature variables). **Compares the model's predictions to the <u>mean of the targets</u>**. Ranges from -(infinite) to 1.0, if all the predictions are equal to the mean of the targets the value is 0.0.\n",
    "2. **Mean Absolute Error (MAE)**: the **average of the absolute difference** between predictions and actual values. It gives an idea of how wrong predictions are.\n",
    "3. **Mean Squared Error (MSE)**: the **average of the SQUARE of the absolute difference** between predictions and actual values.\n",
    "\n",
    "\n",
    "See [Scikit-Learn Docs - Model Evaluation - Classification Metrics](https://scikit-learn.org/stable/modules/model_evaluation.html#classification-metrics)"
   ]
  },
  {
   "cell_type": "markdown",
   "id": "fd323775-6355-466d-8f3c-a1b6fb3c7ecd",
   "metadata": {},
   "source": [
    "#### R<sup>2</sup> (Coefficient of Determination)"
   ]
  },
  {
   "cell_type": "code",
   "execution_count": 4,
   "id": "fa2ecebb-4a10-4c31-be26-bc02487fc405",
   "metadata": {},
   "outputs": [],
   "source": [
    "cp.random.seed(0)\n",
    "\n",
    "housing = fetch_california_housing()\n",
    "housing_df = pd.DataFrame(housing['data'], columns=housing['feature_names'])\n",
    "housing_df['target'] = housing['target']"
   ]
  },
  {
   "cell_type": "code",
   "execution_count": 11,
   "id": "7d7e5692-34d0-4309-8fc2-9f46ba8ddada",
   "metadata": {},
   "outputs": [],
   "source": [
    "X = housing_df.drop('target', axis=1)\n",
    "y = housing_df['target']"
   ]
  },
  {
   "cell_type": "code",
   "execution_count": 7,
   "id": "a2e93ef6-b935-46ff-af3b-598ece9f243b",
   "metadata": {},
   "outputs": [],
   "source": [
    "X_train, X_test, y_train, y_test = train_test_split(X, y, test_size=0.2)"
   ]
  },
  {
   "cell_type": "code",
   "execution_count": 8,
   "id": "176a8c2f-d24f-46be-a44c-668caf2b92cf",
   "metadata": {},
   "outputs": [],
   "source": [
    "reg = RandomForestRegressor(n_estimators=100)\n",
    "reg.fit(X_train, y_train);\n",
    "y_predictions = reg.predict(X_test)"
   ]
  },
  {
   "cell_type": "code",
   "execution_count": 6,
   "id": "53387553-87be-4eff-a276-7710f63425b6",
   "metadata": {},
   "outputs": [],
   "source": [
    "r2_s = reg.score(X_test, y_test)     # R2 is the default for `score()`"
   ]
  },
  {
   "cell_type": "code",
   "execution_count": 7,
   "id": "317892d6-05fe-4454-9ffc-5bad92dc41bd",
   "metadata": {},
   "outputs": [
    {
     "data": {
      "text/plain": [
       "0.8210634595805447"
      ]
     },
     "execution_count": 7,
     "metadata": {},
     "output_type": "execute_result"
    }
   ],
   "source": [
    "r2_s"
   ]
  },
  {
   "cell_type": "code",
   "execution_count": 7,
   "id": "7d544493-70a4-4697-94b8-98d346d20028",
   "metadata": {},
   "outputs": [],
   "source": [
    "r2_score_from_func = r2_score(y_test, y_predictions)   # another way to do it"
   ]
  },
  {
   "cell_type": "code",
   "execution_count": 8,
   "id": "1715eafd-6226-4a7f-b8db-8a2f668fbf0e",
   "metadata": {
    "scrolled": true
   },
   "outputs": [
    {
     "data": {
      "text/plain": [
       "0.8190853992521174"
      ]
     },
     "execution_count": 8,
     "metadata": {},
     "output_type": "execute_result"
    }
   ],
   "source": [
    "r2_score_from_func"
   ]
  },
  {
   "cell_type": "markdown",
   "id": "819aa40d-6f64-4b2e-ba68-22c9f417520c",
   "metadata": {},
   "source": [
    "#### Mean Absolute Error (MAE)"
   ]
  },
  {
   "cell_type": "code",
   "execution_count": 8,
   "id": "2a0e827e-cda0-4b9f-9532-9e24d8d5ad59",
   "metadata": {},
   "outputs": [
    {
     "data": {
      "text/plain": [
       "0.31181006887112417"
      ]
     },
     "execution_count": 8,
     "metadata": {},
     "output_type": "execute_result"
    }
   ],
   "source": [
    "mae = mean_absolute_error(y_test, y_predictions)\n",
    "mae # On average, each prediction is + o - 0,32... compared to the actual value"
   ]
  },
  {
   "cell_type": "code",
   "execution_count": 22,
   "id": "e8272273-679f-40a7-9174-2ef2bc92d69c",
   "metadata": {},
   "outputs": [
    {
     "name": "stdout",
     "output_type": "stream",
     "text": [
      "CPU times: user 1.11 ms, sys: 5 μs, total: 1.11 ms\n",
      "Wall time: 715 μs\n"
     ]
    }
   ],
   "source": [
    "%%time\n",
    "# Manually with polars\n",
    "pl_df = pl.DataFrame({'actual_values': y_test, 'predicted_values': y_predictions});\n",
    "pl_df = pl_df.with_columns(differences=pl.col('actual_values').sub(pl.col('predicted_values')).abs())\n"
   ]
  },
  {
   "cell_type": "code",
   "execution_count": 23,
   "id": "d21de470-2d1c-4033-8f6a-4959fef16f6e",
   "metadata": {},
   "outputs": [
    {
     "name": "stdout",
     "output_type": "stream",
     "text": [
      "CPU times: user 188 μs, sys: 8 μs, total: 196 μs\n",
      "Wall time: 197 μs\n"
     ]
    },
    {
     "data": {
      "text/html": [
       "<div><style>\n",
       ".dataframe > thead > tr,\n",
       ".dataframe > tbody > tr {\n",
       "  text-align: right;\n",
       "  white-space: pre-wrap;\n",
       "}\n",
       "</style>\n",
       "<small>shape: (1, 1)</small><table border=\"1\" class=\"dataframe\"><thead><tr><th>differences</th></tr><tr><td>f64</td></tr></thead><tbody><tr><td>0.330665</td></tr></tbody></table></div>"
      ],
      "text/plain": [
       "shape: (1, 1)\n",
       "┌─────────────┐\n",
       "│ differences │\n",
       "│ ---         │\n",
       "│ f64         │\n",
       "╞═════════════╡\n",
       "│ 0.330665    │\n",
       "└─────────────┘"
      ]
     },
     "execution_count": 23,
     "metadata": {},
     "output_type": "execute_result"
    }
   ],
   "source": [
    "%%time\n",
    "mae_polars = pl_df.select('differences').mean()\n",
    "mae_polars"
   ]
  },
  {
   "cell_type": "code",
   "execution_count": 24,
   "id": "d59cdbf4-b9ca-4e7c-9d32-ef66d0b37658",
   "metadata": {},
   "outputs": [
    {
     "name": "stdout",
     "output_type": "stream",
     "text": [
      "CPU times: user 1.01 ms, sys: 0 ns, total: 1.01 ms\n",
      "Wall time: 901 μs\n"
     ]
    }
   ],
   "source": [
    "%%time\n",
    "# Manually with pandas\n",
    "pd_df = pd.DataFrame({'actual_values': y_test, 'predicted_values': y_predictions});\n",
    "pd_df['differences'] = pd_df['actual_values'] - pd_df['predicted_values']"
   ]
  },
  {
   "cell_type": "code",
   "execution_count": 25,
   "id": "e80b7234-4f86-4a8b-a824-7357054002af",
   "metadata": {
    "scrolled": true
   },
   "outputs": [
    {
     "name": "stdout",
     "output_type": "stream",
     "text": [
      "CPU times: user 457 μs, sys: 0 ns, total: 457 μs\n",
      "Wall time: 451 μs\n"
     ]
    },
    {
     "data": {
      "text/plain": [
       "np.float64(0.33066513752422494)"
      ]
     },
     "execution_count": 25,
     "metadata": {},
     "output_type": "execute_result"
    }
   ],
   "source": [
    "%%time\n",
    "mae_pd = np.abs(pd_df['differences']).mean()\n",
    "mae_pd"
   ]
  },
  {
   "cell_type": "markdown",
   "id": "629838a1-3695-458b-804e-249f037ac7a5",
   "metadata": {},
   "source": [
    "#### Mean Squared Error (MSE)"
   ]
  },
  {
   "cell_type": "code",
   "execution_count": 16,
   "id": "2b9a9bf7-5759-4888-9b96-239797ff3ec5",
   "metadata": {},
   "outputs": [
    {
     "data": {
      "text/plain": [
       "0.265457516240721"
      ]
     },
     "execution_count": 16,
     "metadata": {},
     "output_type": "execute_result"
    }
   ],
   "source": [
    "mse = mean_squared_error(y_test, y_predictions)\n",
    "mse"
   ]
  },
  {
   "cell_type": "code",
   "execution_count": 26,
   "id": "69b57e94-d5d8-488a-a2d1-d9079b63b0a8",
   "metadata": {},
   "outputs": [
    {
     "name": "stdout",
     "output_type": "stream",
     "text": [
      "CPU times: user 0 ns, sys: 1.57 ms, total: 1.57 ms\n",
      "Wall time: 870 μs\n"
     ]
    },
    {
     "data": {
      "text/html": [
       "<div><style>\n",
       ".dataframe > thead > tr,\n",
       ".dataframe > tbody > tr {\n",
       "  text-align: right;\n",
       "  white-space: pre-wrap;\n",
       "}\n",
       "</style>\n",
       "<small>shape: (1, 1)</small><table border=\"1\" class=\"dataframe\"><thead><tr><th>squared_differences</th></tr><tr><td>f64</td></tr></thead><tbody><tr><td>0.265458</td></tr></tbody></table></div>"
      ],
      "text/plain": [
       "shape: (1, 1)\n",
       "┌─────────────────────┐\n",
       "│ squared_differences │\n",
       "│ ---                 │\n",
       "│ f64                 │\n",
       "╞═════════════════════╡\n",
       "│ 0.265458            │\n",
       "└─────────────────────┘"
      ]
     },
     "execution_count": 26,
     "metadata": {},
     "output_type": "execute_result"
    }
   ],
   "source": [
    "%%time\n",
    "# Manually with polars\n",
    "pl_df = pl_df.with_columns(squared_differences=pl.col('differences').pow(2))\n",
    "mse_polars = pl_df.select(pl.col('squared_differences')).mean()\n",
    "mse_polars\n"
   ]
  },
  {
   "cell_type": "code",
   "execution_count": 27,
   "id": "a76daadd-3fb5-49c5-83a7-29dcbbae6bd8",
   "metadata": {},
   "outputs": [
    {
     "name": "stdout",
     "output_type": "stream",
     "text": [
      "CPU times: user 656 μs, sys: 74 μs, total: 730 μs\n",
      "Wall time: 786 μs\n"
     ]
    },
    {
     "data": {
      "text/plain": [
       "np.float64(0.265457516240721)"
      ]
     },
     "execution_count": 27,
     "metadata": {},
     "output_type": "execute_result"
    }
   ],
   "source": [
    "%%time\n",
    "# Manually with Pandas\n",
    "pd_df['squared_differences'] = np.square(np.abs(pd_df['actual_values'] - pd_df['predicted_values']))\n",
    "mse_pandas = pd_df['squared_differences'].mean()\n",
    "mse_pandas"
   ]
  },
  {
   "cell_type": "markdown",
   "id": "d104ea13-e5bb-4ab0-9368-bc00220dcd63",
   "metadata": {},
   "source": [
    "## The `scoring` parameter\n",
    "\n",
    "It allows to customize what metric will be used by the `score` method.\n",
    "If `scoring=None` then the default for each regressor/classifier will be used. Regressors usually use R<sup>2</sup> score while classifiers usually use Accuracy.\n",
    "\n",
    "See [The scoring parameter: defining model evaluation rules](https://scikit-learn.org/stable/modules/model_evaluation.html#the-scoring-parameter-defining-model-evaluation-rules) and [String name scorers](https://scikit-learn.org/stable/modules/model_evaluation.html#string-name-scorers)"
   ]
  },
  {
   "cell_type": "markdown",
   "id": "c5673f8a-3cfa-4500-b297-64b5577791a1",
   "metadata": {},
   "source": [
    "### Classifier example"
   ]
  },
  {
   "cell_type": "code",
   "execution_count": 28,
   "id": "b0c44f3a-30c7-4a89-bb63-4e3f382838ba",
   "metadata": {},
   "outputs": [],
   "source": [
    "hd = pd.read_csv('./heart-disease.csv')"
   ]
  },
  {
   "cell_type": "code",
   "execution_count": 29,
   "id": "5f811ce6-36c7-4742-b2c5-e2dd46249a86",
   "metadata": {},
   "outputs": [],
   "source": [
    "X = hd.drop('target', axis=1)\n",
    "y = hd['target']"
   ]
  },
  {
   "cell_type": "code",
   "execution_count": 30,
   "id": "66c2c767-9fce-4cb3-aedc-c767c1e32620",
   "metadata": {},
   "outputs": [],
   "source": [
    "X_train, X_test, y_train, y_test = train_test_split(X, y, test_size=0.2)"
   ]
  },
  {
   "cell_type": "code",
   "execution_count": 37,
   "id": "eb2e23c7-cc47-4cf1-9278-82cf0f285069",
   "metadata": {},
   "outputs": [],
   "source": [
    "cp.random.seed(0)\n",
    "\n",
    "clf = RandomForestClassifier(n_estimators=100)\n",
    "# clf.estimator_params"
   ]
  },
  {
   "cell_type": "code",
   "execution_count": 42,
   "id": "8838a37f-8004-42f6-80df-d48eb8731633",
   "metadata": {},
   "outputs": [
    {
     "name": "stdout",
     "output_type": "stream",
     "text": [
      "Cross-validation accuracy is: 82.49%\n"
     ]
    }
   ],
   "source": [
    "cp.random.seed(0)\n",
    "\n",
    "# Cross-validation accuracy\n",
    "cv_acc = cross_val_score(clf, X, y, cv=5, scoring=None)  # default is accuracy\n",
    "print(f'Cross-validation accuracy is: {cp.mean(cv_acc) * 100 :.2f}%')"
   ]
  },
  {
   "cell_type": "code",
   "execution_count": 45,
   "id": "e6ff9cd5-47c3-4005-82b2-7ed1bb9e5c89",
   "metadata": {},
   "outputs": [
    {
     "name": "stdout",
     "output_type": "stream",
     "text": [
      "Cross-validation precision is: 0.8215199727533694\n"
     ]
    }
   ],
   "source": [
    "cp.random.seed(0)\n",
    "\n",
    "# Cross-validation precision\n",
    "cv_prec = cross_val_score(clf, X, y, cv=5, scoring='precision')\n",
    "print(f'Cross-validation precision is: {cp.mean(cv_prec)}')"
   ]
  },
  {
   "cell_type": "code",
   "execution_count": 46,
   "id": "f9626f50-3e3a-48a0-b077-76a043e65ec2",
   "metadata": {},
   "outputs": [
    {
     "name": "stdout",
     "output_type": "stream",
     "text": [
      "Cross-validation recall is: 0.8545454545454545\n"
     ]
    }
   ],
   "source": [
    "cp.random.seed(0)\n",
    "\n",
    "# Cross-validation recall\n",
    "cv_recall = cross_val_score(clf, X, y, cv=5, scoring='recall')\n",
    "print(f'Cross-validation recall is: {cp.mean(cv_recall)}')"
   ]
  },
  {
   "cell_type": "markdown",
   "id": "e164eaee-7056-45d9-9ee7-8ed71f79835c",
   "metadata": {},
   "source": [
    "### Regressor example"
   ]
  },
  {
   "cell_type": "code",
   "execution_count": 47,
   "id": "5b83cb4e-7a2b-4eb7-80ca-10d5cd949023",
   "metadata": {},
   "outputs": [],
   "source": [
    "housing = fetch_california_housing()\n",
    "housing_df = pd.DataFrame(housing['data'], columns=housing['feature_names'])\n",
    "housing_df['target'] = housing['target']"
   ]
  },
  {
   "cell_type": "code",
   "execution_count": 48,
   "id": "dc696ef3-7df5-49bb-b0bc-29587857b1af",
   "metadata": {},
   "outputs": [],
   "source": [
    "X = housing_df.drop('target', axis=1)\n",
    "y = housing_df['target']"
   ]
  },
  {
   "cell_type": "code",
   "execution_count": 68,
   "id": "f135f1e5-69ea-43a8-9da6-af986450e24c",
   "metadata": {},
   "outputs": [],
   "source": [
    "cp.random.seed(0)\n",
    "\n",
    "reg = cuRFR(n_estimators=100)   # Uses GPU, there are a lot of samples"
   ]
  },
  {
   "cell_type": "code",
   "execution_count": 69,
   "id": "ae234ed6-70d6-4eea-9aca-bf5bf20f80f1",
   "metadata": {},
   "outputs": [
    {
     "name": "stdout",
     "output_type": "stream",
     "text": [
      "Cross-validation R2 score is: 0.6478298505824341\n"
     ]
    }
   ],
   "source": [
    "cp.random.seed(0)\n",
    "\n",
    "# Cross-validation R2 score\n",
    "cv_r2 = cross_val_score(reg, X, y, cv=5, scoring=None) # Default scoring is R2\n",
    "print(f'Cross-validation R2 score is: {cp.mean(cv_r2)}')"
   ]
  },
  {
   "cell_type": "code",
   "execution_count": 72,
   "id": "7e8c58df-ee49-4cc0-9088-98caa7f75685",
   "metadata": {},
   "outputs": [
    {
     "name": "stdout",
     "output_type": "stream",
     "text": [
      "Cross-validation Mean Absolute Error is: -0.469995690528779\n"
     ]
    }
   ],
   "source": [
    "cp.random.seed(0)\n",
    "\n",
    "# Cross-validation MAE\n",
    "cv_mae = cross_val_score(reg, X, y, cv=5, scoring='neg_mean_absolute_error')   # \"Returns the negated value of the metric\"\n",
    "print(f'Cross-validation Mean Absolute Error is: {cp.mean(cv_mae)}')"
   ]
  },
  {
   "cell_type": "code",
   "execution_count": 73,
   "id": "f8f66219-dff5-4709-badf-e212ca167fdb",
   "metadata": {},
   "outputs": [
    {
     "name": "stdout",
     "output_type": "stream",
     "text": [
      "Cross-validation Mean Squared Error is: -0.4359976091039309\n"
     ]
    }
   ],
   "source": [
    "cp.random.seed(0)\n",
    "\n",
    "# Cross-validation MSE\n",
    "cv_mse = cross_val_score(reg, X, y, cv=5, scoring='neg_mean_squared_error')   # \"Returns the negated value of the metric\"\n",
    "print(f'Cross-validation Mean Squared Error is: {cp.mean(cv_mse)}')"
   ]
  },
  {
   "cell_type": "markdown",
   "id": "8d869e34-5fed-4493-b41b-72841b244536",
   "metadata": {},
   "source": [
    "## Metrics Functions"
   ]
  },
  {
   "cell_type": "code",
   "execution_count": 74,
   "id": "bc526784-ec25-469e-b710-fb4b0f61893f",
   "metadata": {},
   "outputs": [],
   "source": [
    "hd = pd.read_csv('./heart-disease.csv')"
   ]
  },
  {
   "cell_type": "code",
   "execution_count": 75,
   "id": "25d33f80-a747-4a7b-a430-ff5bc2620d05",
   "metadata": {},
   "outputs": [],
   "source": [
    "X = hd.drop('target', axis=1)\n",
    "y = hd['target']"
   ]
  },
  {
   "cell_type": "code",
   "execution_count": 110,
   "id": "c1238eb8-819b-428d-9918-f1e91e8fb654",
   "metadata": {},
   "outputs": [],
   "source": [
    "cp.random.seed(0)\n",
    "\n",
    "X_train, X_test, y_train, y_test = train_test_split(X, y, test_size=0.2)"
   ]
  },
  {
   "cell_type": "code",
   "execution_count": 111,
   "id": "b5b58a27-d787-45ba-bb79-715905da6387",
   "metadata": {},
   "outputs": [
    {
     "data": {
      "text/html": [
       "<style>#sk-container-id-4 {\n",
       "  /* Definition of color scheme common for light and dark mode */\n",
       "  --sklearn-color-text: #000;\n",
       "  --sklearn-color-text-muted: #666;\n",
       "  --sklearn-color-line: gray;\n",
       "  /* Definition of color scheme for unfitted estimators */\n",
       "  --sklearn-color-unfitted-level-0: #fff5e6;\n",
       "  --sklearn-color-unfitted-level-1: #f6e4d2;\n",
       "  --sklearn-color-unfitted-level-2: #ffe0b3;\n",
       "  --sklearn-color-unfitted-level-3: chocolate;\n",
       "  /* Definition of color scheme for fitted estimators */\n",
       "  --sklearn-color-fitted-level-0: #f0f8ff;\n",
       "  --sklearn-color-fitted-level-1: #d4ebff;\n",
       "  --sklearn-color-fitted-level-2: #b3dbfd;\n",
       "  --sklearn-color-fitted-level-3: cornflowerblue;\n",
       "\n",
       "  /* Specific color for light theme */\n",
       "  --sklearn-color-text-on-default-background: var(--sg-text-color, var(--theme-code-foreground, var(--jp-content-font-color1, black)));\n",
       "  --sklearn-color-background: var(--sg-background-color, var(--theme-background, var(--jp-layout-color0, white)));\n",
       "  --sklearn-color-border-box: var(--sg-text-color, var(--theme-code-foreground, var(--jp-content-font-color1, black)));\n",
       "  --sklearn-color-icon: #696969;\n",
       "\n",
       "  @media (prefers-color-scheme: dark) {\n",
       "    /* Redefinition of color scheme for dark theme */\n",
       "    --sklearn-color-text-on-default-background: var(--sg-text-color, var(--theme-code-foreground, var(--jp-content-font-color1, white)));\n",
       "    --sklearn-color-background: var(--sg-background-color, var(--theme-background, var(--jp-layout-color0, #111)));\n",
       "    --sklearn-color-border-box: var(--sg-text-color, var(--theme-code-foreground, var(--jp-content-font-color1, white)));\n",
       "    --sklearn-color-icon: #878787;\n",
       "  }\n",
       "}\n",
       "\n",
       "#sk-container-id-4 {\n",
       "  color: var(--sklearn-color-text);\n",
       "}\n",
       "\n",
       "#sk-container-id-4 pre {\n",
       "  padding: 0;\n",
       "}\n",
       "\n",
       "#sk-container-id-4 input.sk-hidden--visually {\n",
       "  border: 0;\n",
       "  clip: rect(1px 1px 1px 1px);\n",
       "  clip: rect(1px, 1px, 1px, 1px);\n",
       "  height: 1px;\n",
       "  margin: -1px;\n",
       "  overflow: hidden;\n",
       "  padding: 0;\n",
       "  position: absolute;\n",
       "  width: 1px;\n",
       "}\n",
       "\n",
       "#sk-container-id-4 div.sk-dashed-wrapped {\n",
       "  border: 1px dashed var(--sklearn-color-line);\n",
       "  margin: 0 0.4em 0.5em 0.4em;\n",
       "  box-sizing: border-box;\n",
       "  padding-bottom: 0.4em;\n",
       "  background-color: var(--sklearn-color-background);\n",
       "}\n",
       "\n",
       "#sk-container-id-4 div.sk-container {\n",
       "  /* jupyter's `normalize.less` sets `[hidden] { display: none; }`\n",
       "     but bootstrap.min.css set `[hidden] { display: none !important; }`\n",
       "     so we also need the `!important` here to be able to override the\n",
       "     default hidden behavior on the sphinx rendered scikit-learn.org.\n",
       "     See: https://github.com/scikit-learn/scikit-learn/issues/21755 */\n",
       "  display: inline-block !important;\n",
       "  position: relative;\n",
       "}\n",
       "\n",
       "#sk-container-id-4 div.sk-text-repr-fallback {\n",
       "  display: none;\n",
       "}\n",
       "\n",
       "div.sk-parallel-item,\n",
       "div.sk-serial,\n",
       "div.sk-item {\n",
       "  /* draw centered vertical line to link estimators */\n",
       "  background-image: linear-gradient(var(--sklearn-color-text-on-default-background), var(--sklearn-color-text-on-default-background));\n",
       "  background-size: 2px 100%;\n",
       "  background-repeat: no-repeat;\n",
       "  background-position: center center;\n",
       "}\n",
       "\n",
       "/* Parallel-specific style estimator block */\n",
       "\n",
       "#sk-container-id-4 div.sk-parallel-item::after {\n",
       "  content: \"\";\n",
       "  width: 100%;\n",
       "  border-bottom: 2px solid var(--sklearn-color-text-on-default-background);\n",
       "  flex-grow: 1;\n",
       "}\n",
       "\n",
       "#sk-container-id-4 div.sk-parallel {\n",
       "  display: flex;\n",
       "  align-items: stretch;\n",
       "  justify-content: center;\n",
       "  background-color: var(--sklearn-color-background);\n",
       "  position: relative;\n",
       "}\n",
       "\n",
       "#sk-container-id-4 div.sk-parallel-item {\n",
       "  display: flex;\n",
       "  flex-direction: column;\n",
       "}\n",
       "\n",
       "#sk-container-id-4 div.sk-parallel-item:first-child::after {\n",
       "  align-self: flex-end;\n",
       "  width: 50%;\n",
       "}\n",
       "\n",
       "#sk-container-id-4 div.sk-parallel-item:last-child::after {\n",
       "  align-self: flex-start;\n",
       "  width: 50%;\n",
       "}\n",
       "\n",
       "#sk-container-id-4 div.sk-parallel-item:only-child::after {\n",
       "  width: 0;\n",
       "}\n",
       "\n",
       "/* Serial-specific style estimator block */\n",
       "\n",
       "#sk-container-id-4 div.sk-serial {\n",
       "  display: flex;\n",
       "  flex-direction: column;\n",
       "  align-items: center;\n",
       "  background-color: var(--sklearn-color-background);\n",
       "  padding-right: 1em;\n",
       "  padding-left: 1em;\n",
       "}\n",
       "\n",
       "\n",
       "/* Toggleable style: style used for estimator/Pipeline/ColumnTransformer box that is\n",
       "clickable and can be expanded/collapsed.\n",
       "- Pipeline and ColumnTransformer use this feature and define the default style\n",
       "- Estimators will overwrite some part of the style using the `sk-estimator` class\n",
       "*/\n",
       "\n",
       "/* Pipeline and ColumnTransformer style (default) */\n",
       "\n",
       "#sk-container-id-4 div.sk-toggleable {\n",
       "  /* Default theme specific background. It is overwritten whether we have a\n",
       "  specific estimator or a Pipeline/ColumnTransformer */\n",
       "  background-color: var(--sklearn-color-background);\n",
       "}\n",
       "\n",
       "/* Toggleable label */\n",
       "#sk-container-id-4 label.sk-toggleable__label {\n",
       "  cursor: pointer;\n",
       "  display: flex;\n",
       "  width: 100%;\n",
       "  margin-bottom: 0;\n",
       "  padding: 0.5em;\n",
       "  box-sizing: border-box;\n",
       "  text-align: center;\n",
       "  align-items: start;\n",
       "  justify-content: space-between;\n",
       "  gap: 0.5em;\n",
       "}\n",
       "\n",
       "#sk-container-id-4 label.sk-toggleable__label .caption {\n",
       "  font-size: 0.6rem;\n",
       "  font-weight: lighter;\n",
       "  color: var(--sklearn-color-text-muted);\n",
       "}\n",
       "\n",
       "#sk-container-id-4 label.sk-toggleable__label-arrow:before {\n",
       "  /* Arrow on the left of the label */\n",
       "  content: \"▸\";\n",
       "  float: left;\n",
       "  margin-right: 0.25em;\n",
       "  color: var(--sklearn-color-icon);\n",
       "}\n",
       "\n",
       "#sk-container-id-4 label.sk-toggleable__label-arrow:hover:before {\n",
       "  color: var(--sklearn-color-text);\n",
       "}\n",
       "\n",
       "/* Toggleable content - dropdown */\n",
       "\n",
       "#sk-container-id-4 div.sk-toggleable__content {\n",
       "  max-height: 0;\n",
       "  max-width: 0;\n",
       "  overflow: hidden;\n",
       "  text-align: left;\n",
       "  /* unfitted */\n",
       "  background-color: var(--sklearn-color-unfitted-level-0);\n",
       "}\n",
       "\n",
       "#sk-container-id-4 div.sk-toggleable__content.fitted {\n",
       "  /* fitted */\n",
       "  background-color: var(--sklearn-color-fitted-level-0);\n",
       "}\n",
       "\n",
       "#sk-container-id-4 div.sk-toggleable__content pre {\n",
       "  margin: 0.2em;\n",
       "  border-radius: 0.25em;\n",
       "  color: var(--sklearn-color-text);\n",
       "  /* unfitted */\n",
       "  background-color: var(--sklearn-color-unfitted-level-0);\n",
       "}\n",
       "\n",
       "#sk-container-id-4 div.sk-toggleable__content.fitted pre {\n",
       "  /* unfitted */\n",
       "  background-color: var(--sklearn-color-fitted-level-0);\n",
       "}\n",
       "\n",
       "#sk-container-id-4 input.sk-toggleable__control:checked~div.sk-toggleable__content {\n",
       "  /* Expand drop-down */\n",
       "  max-height: 200px;\n",
       "  max-width: 100%;\n",
       "  overflow: auto;\n",
       "}\n",
       "\n",
       "#sk-container-id-4 input.sk-toggleable__control:checked~label.sk-toggleable__label-arrow:before {\n",
       "  content: \"▾\";\n",
       "}\n",
       "\n",
       "/* Pipeline/ColumnTransformer-specific style */\n",
       "\n",
       "#sk-container-id-4 div.sk-label input.sk-toggleable__control:checked~label.sk-toggleable__label {\n",
       "  color: var(--sklearn-color-text);\n",
       "  background-color: var(--sklearn-color-unfitted-level-2);\n",
       "}\n",
       "\n",
       "#sk-container-id-4 div.sk-label.fitted input.sk-toggleable__control:checked~label.sk-toggleable__label {\n",
       "  background-color: var(--sklearn-color-fitted-level-2);\n",
       "}\n",
       "\n",
       "/* Estimator-specific style */\n",
       "\n",
       "/* Colorize estimator box */\n",
       "#sk-container-id-4 div.sk-estimator input.sk-toggleable__control:checked~label.sk-toggleable__label {\n",
       "  /* unfitted */\n",
       "  background-color: var(--sklearn-color-unfitted-level-2);\n",
       "}\n",
       "\n",
       "#sk-container-id-4 div.sk-estimator.fitted input.sk-toggleable__control:checked~label.sk-toggleable__label {\n",
       "  /* fitted */\n",
       "  background-color: var(--sklearn-color-fitted-level-2);\n",
       "}\n",
       "\n",
       "#sk-container-id-4 div.sk-label label.sk-toggleable__label,\n",
       "#sk-container-id-4 div.sk-label label {\n",
       "  /* The background is the default theme color */\n",
       "  color: var(--sklearn-color-text-on-default-background);\n",
       "}\n",
       "\n",
       "/* On hover, darken the color of the background */\n",
       "#sk-container-id-4 div.sk-label:hover label.sk-toggleable__label {\n",
       "  color: var(--sklearn-color-text);\n",
       "  background-color: var(--sklearn-color-unfitted-level-2);\n",
       "}\n",
       "\n",
       "/* Label box, darken color on hover, fitted */\n",
       "#sk-container-id-4 div.sk-label.fitted:hover label.sk-toggleable__label.fitted {\n",
       "  color: var(--sklearn-color-text);\n",
       "  background-color: var(--sklearn-color-fitted-level-2);\n",
       "}\n",
       "\n",
       "/* Estimator label */\n",
       "\n",
       "#sk-container-id-4 div.sk-label label {\n",
       "  font-family: monospace;\n",
       "  font-weight: bold;\n",
       "  display: inline-block;\n",
       "  line-height: 1.2em;\n",
       "}\n",
       "\n",
       "#sk-container-id-4 div.sk-label-container {\n",
       "  text-align: center;\n",
       "}\n",
       "\n",
       "/* Estimator-specific */\n",
       "#sk-container-id-4 div.sk-estimator {\n",
       "  font-family: monospace;\n",
       "  border: 1px dotted var(--sklearn-color-border-box);\n",
       "  border-radius: 0.25em;\n",
       "  box-sizing: border-box;\n",
       "  margin-bottom: 0.5em;\n",
       "  /* unfitted */\n",
       "  background-color: var(--sklearn-color-unfitted-level-0);\n",
       "}\n",
       "\n",
       "#sk-container-id-4 div.sk-estimator.fitted {\n",
       "  /* fitted */\n",
       "  background-color: var(--sklearn-color-fitted-level-0);\n",
       "}\n",
       "\n",
       "/* on hover */\n",
       "#sk-container-id-4 div.sk-estimator:hover {\n",
       "  /* unfitted */\n",
       "  background-color: var(--sklearn-color-unfitted-level-2);\n",
       "}\n",
       "\n",
       "#sk-container-id-4 div.sk-estimator.fitted:hover {\n",
       "  /* fitted */\n",
       "  background-color: var(--sklearn-color-fitted-level-2);\n",
       "}\n",
       "\n",
       "/* Specification for estimator info (e.g. \"i\" and \"?\") */\n",
       "\n",
       "/* Common style for \"i\" and \"?\" */\n",
       "\n",
       ".sk-estimator-doc-link,\n",
       "a:link.sk-estimator-doc-link,\n",
       "a:visited.sk-estimator-doc-link {\n",
       "  float: right;\n",
       "  font-size: smaller;\n",
       "  line-height: 1em;\n",
       "  font-family: monospace;\n",
       "  background-color: var(--sklearn-color-background);\n",
       "  border-radius: 1em;\n",
       "  height: 1em;\n",
       "  width: 1em;\n",
       "  text-decoration: none !important;\n",
       "  margin-left: 0.5em;\n",
       "  text-align: center;\n",
       "  /* unfitted */\n",
       "  border: var(--sklearn-color-unfitted-level-1) 1pt solid;\n",
       "  color: var(--sklearn-color-unfitted-level-1);\n",
       "}\n",
       "\n",
       ".sk-estimator-doc-link.fitted,\n",
       "a:link.sk-estimator-doc-link.fitted,\n",
       "a:visited.sk-estimator-doc-link.fitted {\n",
       "  /* fitted */\n",
       "  border: var(--sklearn-color-fitted-level-1) 1pt solid;\n",
       "  color: var(--sklearn-color-fitted-level-1);\n",
       "}\n",
       "\n",
       "/* On hover */\n",
       "div.sk-estimator:hover .sk-estimator-doc-link:hover,\n",
       ".sk-estimator-doc-link:hover,\n",
       "div.sk-label-container:hover .sk-estimator-doc-link:hover,\n",
       ".sk-estimator-doc-link:hover {\n",
       "  /* unfitted */\n",
       "  background-color: var(--sklearn-color-unfitted-level-3);\n",
       "  color: var(--sklearn-color-background);\n",
       "  text-decoration: none;\n",
       "}\n",
       "\n",
       "div.sk-estimator.fitted:hover .sk-estimator-doc-link.fitted:hover,\n",
       ".sk-estimator-doc-link.fitted:hover,\n",
       "div.sk-label-container:hover .sk-estimator-doc-link.fitted:hover,\n",
       ".sk-estimator-doc-link.fitted:hover {\n",
       "  /* fitted */\n",
       "  background-color: var(--sklearn-color-fitted-level-3);\n",
       "  color: var(--sklearn-color-background);\n",
       "  text-decoration: none;\n",
       "}\n",
       "\n",
       "/* Span, style for the box shown on hovering the info icon */\n",
       ".sk-estimator-doc-link span {\n",
       "  display: none;\n",
       "  z-index: 9999;\n",
       "  position: relative;\n",
       "  font-weight: normal;\n",
       "  right: .2ex;\n",
       "  padding: .5ex;\n",
       "  margin: .5ex;\n",
       "  width: min-content;\n",
       "  min-width: 20ex;\n",
       "  max-width: 50ex;\n",
       "  color: var(--sklearn-color-text);\n",
       "  box-shadow: 2pt 2pt 4pt #999;\n",
       "  /* unfitted */\n",
       "  background: var(--sklearn-color-unfitted-level-0);\n",
       "  border: .5pt solid var(--sklearn-color-unfitted-level-3);\n",
       "}\n",
       "\n",
       ".sk-estimator-doc-link.fitted span {\n",
       "  /* fitted */\n",
       "  background: var(--sklearn-color-fitted-level-0);\n",
       "  border: var(--sklearn-color-fitted-level-3);\n",
       "}\n",
       "\n",
       ".sk-estimator-doc-link:hover span {\n",
       "  display: block;\n",
       "}\n",
       "\n",
       "/* \"?\"-specific style due to the `<a>` HTML tag */\n",
       "\n",
       "#sk-container-id-4 a.estimator_doc_link {\n",
       "  float: right;\n",
       "  font-size: 1rem;\n",
       "  line-height: 1em;\n",
       "  font-family: monospace;\n",
       "  background-color: var(--sklearn-color-background);\n",
       "  border-radius: 1rem;\n",
       "  height: 1rem;\n",
       "  width: 1rem;\n",
       "  text-decoration: none;\n",
       "  /* unfitted */\n",
       "  color: var(--sklearn-color-unfitted-level-1);\n",
       "  border: var(--sklearn-color-unfitted-level-1) 1pt solid;\n",
       "}\n",
       "\n",
       "#sk-container-id-4 a.estimator_doc_link.fitted {\n",
       "  /* fitted */\n",
       "  border: var(--sklearn-color-fitted-level-1) 1pt solid;\n",
       "  color: var(--sklearn-color-fitted-level-1);\n",
       "}\n",
       "\n",
       "/* On hover */\n",
       "#sk-container-id-4 a.estimator_doc_link:hover {\n",
       "  /* unfitted */\n",
       "  background-color: var(--sklearn-color-unfitted-level-3);\n",
       "  color: var(--sklearn-color-background);\n",
       "  text-decoration: none;\n",
       "}\n",
       "\n",
       "#sk-container-id-4 a.estimator_doc_link.fitted:hover {\n",
       "  /* fitted */\n",
       "  background-color: var(--sklearn-color-fitted-level-3);\n",
       "}\n",
       "</style><div id=\"sk-container-id-4\" class=\"sk-top-container\"><div class=\"sk-text-repr-fallback\"><pre>RandomForestClassifier()</pre><b>In a Jupyter environment, please rerun this cell to show the HTML representation or trust the notebook. <br />On GitHub, the HTML representation is unable to render, please try loading this page with nbviewer.org.</b></div><div class=\"sk-container\" hidden><div class=\"sk-item\"><div class=\"sk-estimator fitted sk-toggleable\"><input class=\"sk-toggleable__control sk-hidden--visually\" id=\"sk-estimator-id-4\" type=\"checkbox\" checked><label for=\"sk-estimator-id-4\" class=\"sk-toggleable__label fitted sk-toggleable__label-arrow\"><div><div>RandomForestClassifier</div></div><div><span class=\"sk-estimator-doc-link fitted\">i<span>Fitted</span></span></div></label><div class=\"sk-toggleable__content fitted\"><pre>RandomForestClassifier()</pre></div> </div></div></div></div>"
      ],
      "text/plain": [
       "RandomForestClassifier()"
      ]
     },
     "execution_count": 111,
     "metadata": {},
     "output_type": "execute_result"
    }
   ],
   "source": [
    "cp.random.seed(0)\n",
    "\n",
    "clf = cuRFC(n_estimators=100)\n",
    "clf.fit(X_train, y_train)"
   ]
  },
  {
   "cell_type": "code",
   "execution_count": 112,
   "id": "c0301118-345e-46e3-ae7b-10287d1e208f",
   "metadata": {},
   "outputs": [],
   "source": [
    "y_preds = clf.predict(X_test)"
   ]
  },
  {
   "cell_type": "code",
   "execution_count": 113,
   "id": "82d828d8-afb9-4775-a684-a40f9d45f0dc",
   "metadata": {},
   "outputs": [],
   "source": [
    "acc_score = accuracy_score(y_test, y_preds)"
   ]
  },
  {
   "cell_type": "code",
   "execution_count": 114,
   "id": "93f20ae4-1ca9-42f6-956d-30ef782eacf6",
   "metadata": {},
   "outputs": [],
   "source": [
    "prec_score = precision_score(y_test, y_preds)"
   ]
  },
  {
   "cell_type": "code",
   "execution_count": 115,
   "id": "dd85a7c3-8c0f-4ff7-8542-3fa58cb51572",
   "metadata": {},
   "outputs": [],
   "source": [
    "rec_score = recall_score(y_test, y_preds)"
   ]
  },
  {
   "cell_type": "code",
   "execution_count": 116,
   "id": "5c945477-a18f-4f96-a817-07e18822555a",
   "metadata": {},
   "outputs": [],
   "source": [
    "f1_sc = f1_score(y_test, y_preds)"
   ]
  },
  {
   "cell_type": "code",
   "execution_count": 117,
   "id": "dd0bdb2b-da6c-451a-a0a9-afe244144eec",
   "metadata": {},
   "outputs": [
    {
     "data": {
      "text/plain": [
       "(0.9016393442622951, 0.8787878787878788, 0.9354838709677419, 0.90625)"
      ]
     },
     "execution_count": 117,
     "metadata": {},
     "output_type": "execute_result"
    }
   ],
   "source": [
    "acc_score, prec_score, rec_score, f1_sc"
   ]
  },
  {
   "cell_type": "code",
   "execution_count": null,
   "id": "cfa889d3-4df0-4998-938c-8c92189356d4",
   "metadata": {},
   "outputs": [],
   "source": []
  },
  {
   "cell_type": "code",
   "execution_count": null,
   "id": "e3efe065-c228-4200-b228-404378c8cdac",
   "metadata": {},
   "outputs": [],
   "source": []
  },
  {
   "cell_type": "code",
   "execution_count": null,
   "id": "c5493d98-4e27-46ec-9b78-84f47b506c25",
   "metadata": {},
   "outputs": [],
   "source": []
  }
 ],
 "metadata": {
  "kernelspec": {
   "display_name": "Python 3 (ipykernel)",
   "language": "python",
   "name": "python3"
  },
  "language_info": {
   "codemirror_mode": {
    "name": "ipython",
    "version": 3
   },
   "file_extension": ".py",
   "mimetype": "text/x-python",
   "name": "python",
   "nbconvert_exporter": "python",
   "pygments_lexer": "ipython3",
   "version": "3.12.9"
  }
 },
 "nbformat": 4,
 "nbformat_minor": 5
}
